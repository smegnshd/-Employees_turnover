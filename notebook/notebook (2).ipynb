{
 "cells": [
  {
   "cell_type": "markdown",
   "id": "6671fb82-1962-44c1-aa4f-4e44883b3832",
   "metadata": {},
   "source": [
    "# Can you help reduce employee turnover?\n",
    "\n",
    "## 📖 Background\n",
    "You work for the human capital department of a large corporation. The Board is worried about the relatively high turnover, and your team must look into ways to reduce the number of employees leaving the company.\n",
    "\n",
    "The team needs to understand better the situation, which employees are more likely to leave, and why. Once it is clear what variables impact employee churn, you can present your findings along with your ideas on how to attack the problem."
   ]
  },
  {
   "cell_type": "markdown",
   "id": "2f5929b9-9d9a-457a-99ab-be05f27176f9",
   "metadata": {},
   "source": [
    "## 💾 The data\n",
    "The department has assembled data on almost 10,000 employees. The team used information from exit interviews, performance reviews, and employee records.\n",
    "\n",
    "- \"department\" - the department the employee belongs to.\n",
    "- \"promoted\" - 1 if the employee was promoted in the previous 24 months, 0 otherwise.\n",
    "- \"review\" - the composite score the employee received in their last evaluation.\n",
    "- \"projects\" - how many projects the employee is involved in.\n",
    "- \"salary\" - for confidentiality reasons, salary comes in three tiers: low, medium, high.\n",
    "- \"tenure\" - how many years the employee has been at the company.\n",
    "- \"satisfaction\" - a measure of employee satisfaction from surveys.\n",
    "- \"avg_hrs_month\" - the average hours the employee worked in a month.\n",
    "- \"left\" - \"yes\" if the employee ended up leaving, \"no\" otherwise."
   ]
  },
  {
   "cell_type": "markdown",
   "id": "ea5ecc34-7949-4090-9129-684c491c05cb",
   "metadata": {},
   "source": [
    "## 💪 Competition challenge\n",
    "\n",
    "Create a report that covers the following:\n",
    "1. Which department has the highest employee turnover? Which one has the lowest?\n",
    "2. Investigate which variables seem to be better predictors of employee departure.\n",
    "3. What recommendations would you make regarding ways to reduce employee turnover?"
   ]
  },
  {
   "cell_type": "markdown",
   "id": "0e920d2e-bddd-4396-9644-a6568d323bbf",
   "metadata": {},
   "source": [
    "## ✅ Checklist before publishing into the competition\n",
    "- Rename your workspace to make it descriptive of your work. N.B. you should leave the notebook name as notebook.ipynb.\n",
    "- Remove redundant cells like the judging criteria, so the workbook is focused on your story.\n",
    "- Make sure the workbook reads well and explains how you found your insights.\n",
    "- Check that all the cells run without error."
   ]
  },
  {
   "cell_type": "markdown",
   "id": "8840d531-eac9-465b-96f4-e5b68c1bff65",
   "metadata": {},
   "source": [
    "# Load liberaries"
   ]
  },
  {
   "cell_type": "code",
   "execution_count": null,
   "id": "888ff0f2-3801-4777-bc33-156ec74d5515",
   "metadata": {},
   "outputs": [],
   "source": [
    "#import liberaries\n",
    "import numpy as np\n",
    "import pandas as pd\n",
    "import seaborn as sns\n",
    "import matplotlib.pyplot as plt"
   ]
  },
  {
   "cell_type": "code",
   "execution_count": null,
   "id": "abc71efc-425e-4f39-9582-1062627d11c5",
   "metadata": {},
   "outputs": [
    {
     "data": {
      "application/com.datacamp.data-table.v1+json": {
       "is_truncated": false,
       "table": {
        "data": [
         {
          "avg_hrs_month": 180.8660696668,
          "bonus": 0,
          "department": "operations",
          "index": 0,
          "left": "no",
          "projects": 3,
          "promoted": 0,
          "review": 0.5775686596,
          "salary": "low",
          "satisfaction": 0.626758974,
          "tenure": 5
         },
         {
          "avg_hrs_month": 182.7081489616,
          "bonus": 0,
          "department": "operations",
          "index": 1,
          "left": "no",
          "projects": 3,
          "promoted": 0,
          "review": 0.7518996607,
          "salary": "medium",
          "satisfaction": 0.4436789548,
          "tenure": 6
         },
         {
          "avg_hrs_month": 184.4160840366,
          "bonus": 0,
          "department": "support",
          "index": 2,
          "left": "no",
          "projects": 3,
          "promoted": 0,
          "review": 0.7225484486,
          "salary": "medium",
          "satisfaction": 0.446823224,
          "tenure": 6
         },
         {
          "avg_hrs_month": 188.7075447757,
          "bonus": 0,
          "department": "logistics",
          "index": 3,
          "left": "no",
          "projects": 4,
          "promoted": 0,
          "review": 0.6751583087,
          "salary": "high",
          "satisfaction": 0.4401387461,
          "tenure": 8
         },
         {
          "avg_hrs_month": 179.8210832731,
          "bonus": 1,
          "department": "sales",
          "index": 4,
          "left": "no",
          "projects": 3,
          "promoted": 0,
          "review": 0.6762031748,
          "salary": "high",
          "satisfaction": 0.5776074457,
          "tenure": 5
         }
        ],
        "schema": {
         "fields": [
          {
           "name": "index",
           "type": "integer"
          },
          {
           "name": "department",
           "type": "string"
          },
          {
           "name": "promoted",
           "type": "integer"
          },
          {
           "name": "review",
           "type": "number"
          },
          {
           "name": "projects",
           "type": "integer"
          },
          {
           "name": "salary",
           "type": "string"
          },
          {
           "name": "tenure",
           "type": "number"
          },
          {
           "name": "satisfaction",
           "type": "number"
          },
          {
           "name": "bonus",
           "type": "integer"
          },
          {
           "name": "avg_hrs_month",
           "type": "number"
          },
          {
           "name": "left",
           "type": "string"
          }
         ],
         "pandas_version": "0.20.0",
         "primaryKey": [
          "index"
         ]
        }
       }
      },
      "text/html": [
       "<div>\n",
       "<style scoped>\n",
       "    .dataframe tbody tr th:only-of-type {\n",
       "        vertical-align: middle;\n",
       "    }\n",
       "\n",
       "    .dataframe tbody tr th {\n",
       "        vertical-align: top;\n",
       "    }\n",
       "\n",
       "    .dataframe thead th {\n",
       "        text-align: right;\n",
       "    }\n",
       "</style>\n",
       "<table border=\"1\" class=\"dataframe\">\n",
       "  <thead>\n",
       "    <tr style=\"text-align: right;\">\n",
       "      <th></th>\n",
       "      <th>department</th>\n",
       "      <th>promoted</th>\n",
       "      <th>review</th>\n",
       "      <th>projects</th>\n",
       "      <th>salary</th>\n",
       "      <th>tenure</th>\n",
       "      <th>satisfaction</th>\n",
       "      <th>bonus</th>\n",
       "      <th>avg_hrs_month</th>\n",
       "      <th>left</th>\n",
       "    </tr>\n",
       "  </thead>\n",
       "  <tbody>\n",
       "    <tr>\n",
       "      <th>0</th>\n",
       "      <td>operations</td>\n",
       "      <td>0</td>\n",
       "      <td>0.577569</td>\n",
       "      <td>3</td>\n",
       "      <td>low</td>\n",
       "      <td>5.0</td>\n",
       "      <td>0.626759</td>\n",
       "      <td>0</td>\n",
       "      <td>180.866070</td>\n",
       "      <td>no</td>\n",
       "    </tr>\n",
       "    <tr>\n",
       "      <th>1</th>\n",
       "      <td>operations</td>\n",
       "      <td>0</td>\n",
       "      <td>0.751900</td>\n",
       "      <td>3</td>\n",
       "      <td>medium</td>\n",
       "      <td>6.0</td>\n",
       "      <td>0.443679</td>\n",
       "      <td>0</td>\n",
       "      <td>182.708149</td>\n",
       "      <td>no</td>\n",
       "    </tr>\n",
       "    <tr>\n",
       "      <th>2</th>\n",
       "      <td>support</td>\n",
       "      <td>0</td>\n",
       "      <td>0.722548</td>\n",
       "      <td>3</td>\n",
       "      <td>medium</td>\n",
       "      <td>6.0</td>\n",
       "      <td>0.446823</td>\n",
       "      <td>0</td>\n",
       "      <td>184.416084</td>\n",
       "      <td>no</td>\n",
       "    </tr>\n",
       "    <tr>\n",
       "      <th>3</th>\n",
       "      <td>logistics</td>\n",
       "      <td>0</td>\n",
       "      <td>0.675158</td>\n",
       "      <td>4</td>\n",
       "      <td>high</td>\n",
       "      <td>8.0</td>\n",
       "      <td>0.440139</td>\n",
       "      <td>0</td>\n",
       "      <td>188.707545</td>\n",
       "      <td>no</td>\n",
       "    </tr>\n",
       "    <tr>\n",
       "      <th>4</th>\n",
       "      <td>sales</td>\n",
       "      <td>0</td>\n",
       "      <td>0.676203</td>\n",
       "      <td>3</td>\n",
       "      <td>high</td>\n",
       "      <td>5.0</td>\n",
       "      <td>0.577607</td>\n",
       "      <td>1</td>\n",
       "      <td>179.821083</td>\n",
       "      <td>no</td>\n",
       "    </tr>\n",
       "  </tbody>\n",
       "</table>\n",
       "</div>"
      ],
      "text/plain": [
       "   department  promoted    review  projects  salary  tenure  satisfaction  \\\n",
       "0  operations         0  0.577569         3     low     5.0      0.626759   \n",
       "1  operations         0  0.751900         3  medium     6.0      0.443679   \n",
       "2     support         0  0.722548         3  medium     6.0      0.446823   \n",
       "3   logistics         0  0.675158         4    high     8.0      0.440139   \n",
       "4       sales         0  0.676203         3    high     5.0      0.577607   \n",
       "\n",
       "   bonus  avg_hrs_month left  \n",
       "0      0     180.866070   no  \n",
       "1      0     182.708149   no  \n",
       "2      0     184.416084   no  \n",
       "3      0     188.707545   no  \n",
       "4      1     179.821083   no  "
      ]
     },
     "execution_count": 2,
     "metadata": {},
     "output_type": "execute_result"
    }
   ],
   "source": [
    "#load data\n",
    "df = pd.read_csv('./data/employee_churn_data.csv')\n",
    "df.head()"
   ]
  },
  {
   "cell_type": "code",
   "execution_count": null,
   "id": "6368a4a0-a2ef-42ea-97ff-cba8c6b73ab0",
   "metadata": {},
   "outputs": [
    {
     "data": {
      "text/plain": [
       "(9540, 10)"
      ]
     },
     "execution_count": 3,
     "metadata": {},
     "output_type": "execute_result"
    }
   ],
   "source": [
    "#size of data\n",
    "df.shape"
   ]
  },
  {
   "cell_type": "code",
   "execution_count": null,
   "id": "157343ac-5bc3-434d-bc29-1dec4f5e38bd",
   "metadata": {},
   "outputs": [
    {
     "name": "stdout",
     "output_type": "stream",
     "text": [
      "<class 'pandas.core.frame.DataFrame'>\n",
      "RangeIndex: 9540 entries, 0 to 9539\n",
      "Data columns (total 10 columns):\n",
      " #   Column         Non-Null Count  Dtype  \n",
      "---  ------         --------------  -----  \n",
      " 0   department     9540 non-null   object \n",
      " 1   promoted       9540 non-null   int64  \n",
      " 2   review         9540 non-null   float64\n",
      " 3   projects       9540 non-null   int64  \n",
      " 4   salary         9540 non-null   object \n",
      " 5   tenure         9540 non-null   float64\n",
      " 6   satisfaction   9540 non-null   float64\n",
      " 7   bonus          9540 non-null   int64  \n",
      " 8   avg_hrs_month  9540 non-null   float64\n",
      " 9   left           9540 non-null   object \n",
      "dtypes: float64(4), int64(3), object(3)\n",
      "memory usage: 745.4+ KB\n"
     ]
    }
   ],
   "source": [
    "#check for missing value\n",
    "df.info()"
   ]
  },
  {
   "cell_type": "code",
   "execution_count": null,
   "id": "154bf6b0-9ac6-4008-984c-2081a1aa79ce",
   "metadata": {},
   "outputs": [
    {
     "name": "stdout",
     "output_type": "stream",
     "text": [
      "department       0\n",
      "promoted         0\n",
      "review           0\n",
      "projects         0\n",
      "salary           0\n",
      "tenure           0\n",
      "satisfaction     0\n",
      "bonus            0\n",
      "avg_hrs_month    0\n",
      "left             0\n",
      "dtype: int64\n"
     ]
    }
   ],
   "source": [
    "# Count the number of missing values in each column\n",
    "print(df.isnull().sum())\n"
   ]
  },
  {
   "cell_type": "code",
   "execution_count": null,
   "id": "6c8d6b2e-22b3-48e9-bb72-c51fa818befd",
   "metadata": {},
   "outputs": [
    {
     "name": "stdout",
     "output_type": "stream",
     "text": [
      "Number of departments =  10\n"
     ]
    },
    {
     "data": {
      "application/com.datacamp.data-table.v1+json": {
       "is_truncated": false,
       "table": {
        "data": [
         {
          "index": "no",
          "left": 6756,
          "level_0": 0
         },
         {
          "index": "yes",
          "left": 2784,
          "level_0": 1
         }
        ],
        "schema": {
         "fields": [
          {
           "name": "index",
           "type": "integer"
          },
          {
           "name": "index",
           "type": "string"
          },
          {
           "name": "left",
           "type": "integer"
          }
         ],
         "pandas_version": "0.20.0",
         "primaryKey": [
          "index"
         ]
        }
       }
      },
      "text/plain": [
       "no     6756\n",
       "yes    2784\n",
       "Name: left, dtype: int64"
      ]
     },
     "execution_count": 6,
     "metadata": {},
     "output_type": "execute_result"
    }
   ],
   "source": [
    "# Print the total number of unique categories\n",
    "dep_cat = len(df['department'].unique())\n",
    "print('Number of departments = ', dep_cat)\n",
    "\n",
    "# Count the number of employees that left'. \n",
    "left_in_cat = df['left'].value_counts()\n",
    "left_in_cat"
   ]
  },
  {
   "cell_type": "markdown",
   "id": "ffa49b59-1f54-46ce-8c26-51223ac29beb",
   "metadata": {},
   "source": [
    "29.1% of employee left the campany.\n"
   ]
  },
  {
   "cell_type": "code",
   "execution_count": null,
   "id": "8ae02460-6331-4ac2-b954-0c915e872769",
   "metadata": {},
   "outputs": [
    {
     "data": {
      "text/plain": [
       "['operations',\n",
       " 'support',\n",
       " 'logistics',\n",
       " 'sales',\n",
       " 'IT',\n",
       " 'admin',\n",
       " 'engineering',\n",
       " 'marketing',\n",
       " 'finance',\n",
       " 'retail']"
      ]
     },
     "execution_count": 7,
     "metadata": {},
     "output_type": "execute_result"
    }
   ],
   "source": [
    "#get unique department names\n",
    "dept_name = df['department'].unique().tolist()\n",
    "dept_name\n",
    "# there are 10 different departments"
   ]
  },
  {
   "cell_type": "code",
   "execution_count": null,
   "id": "528a2c28-413b-47cc-a334-f66a621794a5",
   "metadata": {},
   "outputs": [
    {
     "data": {
      "application/com.datacamp.data-table.v1+json": {
       "is_truncated": false,
       "table": {
        "data": [
         {
          "avg_hrs_month": 180.8660696668,
          "bonus": 0,
          "department": "operations",
          "index": 0,
          "left": 0,
          "projects": 3,
          "promoted": 0,
          "review": 0.5775686596,
          "salary": 1,
          "satisfaction": 0.626758974,
          "tenure": 5
         },
         {
          "avg_hrs_month": 182.7081489616,
          "bonus": 0,
          "department": "operations",
          "index": 1,
          "left": 0,
          "projects": 3,
          "promoted": 0,
          "review": 0.7518996607,
          "salary": 2,
          "satisfaction": 0.4436789548,
          "tenure": 6
         },
         {
          "avg_hrs_month": 184.4160840366,
          "bonus": 0,
          "department": "support",
          "index": 2,
          "left": 0,
          "projects": 3,
          "promoted": 0,
          "review": 0.7225484486,
          "salary": 2,
          "satisfaction": 0.446823224,
          "tenure": 6
         }
        ],
        "schema": {
         "fields": [
          {
           "name": "index",
           "type": "integer"
          },
          {
           "name": "department",
           "type": "string"
          },
          {
           "name": "promoted",
           "type": "integer"
          },
          {
           "name": "review",
           "type": "number"
          },
          {
           "name": "projects",
           "type": "integer"
          },
          {
           "name": "salary",
           "type": "integer"
          },
          {
           "name": "tenure",
           "type": "number"
          },
          {
           "name": "satisfaction",
           "type": "number"
          },
          {
           "name": "bonus",
           "type": "integer"
          },
          {
           "name": "avg_hrs_month",
           "type": "number"
          },
          {
           "name": "left",
           "type": "integer"
          }
         ],
         "pandas_version": "0.20.0",
         "primaryKey": [
          "index"
         ]
        }
       }
      },
      "text/html": [
       "<div>\n",
       "<style scoped>\n",
       "    .dataframe tbody tr th:only-of-type {\n",
       "        vertical-align: middle;\n",
       "    }\n",
       "\n",
       "    .dataframe tbody tr th {\n",
       "        vertical-align: top;\n",
       "    }\n",
       "\n",
       "    .dataframe thead th {\n",
       "        text-align: right;\n",
       "    }\n",
       "</style>\n",
       "<table border=\"1\" class=\"dataframe\">\n",
       "  <thead>\n",
       "    <tr style=\"text-align: right;\">\n",
       "      <th></th>\n",
       "      <th>department</th>\n",
       "      <th>promoted</th>\n",
       "      <th>review</th>\n",
       "      <th>projects</th>\n",
       "      <th>salary</th>\n",
       "      <th>tenure</th>\n",
       "      <th>satisfaction</th>\n",
       "      <th>bonus</th>\n",
       "      <th>avg_hrs_month</th>\n",
       "      <th>left</th>\n",
       "    </tr>\n",
       "  </thead>\n",
       "  <tbody>\n",
       "    <tr>\n",
       "      <th>0</th>\n",
       "      <td>operations</td>\n",
       "      <td>0</td>\n",
       "      <td>0.577569</td>\n",
       "      <td>3</td>\n",
       "      <td>1</td>\n",
       "      <td>5.0</td>\n",
       "      <td>0.626759</td>\n",
       "      <td>0</td>\n",
       "      <td>180.866070</td>\n",
       "      <td>0</td>\n",
       "    </tr>\n",
       "    <tr>\n",
       "      <th>1</th>\n",
       "      <td>operations</td>\n",
       "      <td>0</td>\n",
       "      <td>0.751900</td>\n",
       "      <td>3</td>\n",
       "      <td>2</td>\n",
       "      <td>6.0</td>\n",
       "      <td>0.443679</td>\n",
       "      <td>0</td>\n",
       "      <td>182.708149</td>\n",
       "      <td>0</td>\n",
       "    </tr>\n",
       "    <tr>\n",
       "      <th>2</th>\n",
       "      <td>support</td>\n",
       "      <td>0</td>\n",
       "      <td>0.722548</td>\n",
       "      <td>3</td>\n",
       "      <td>2</td>\n",
       "      <td>6.0</td>\n",
       "      <td>0.446823</td>\n",
       "      <td>0</td>\n",
       "      <td>184.416084</td>\n",
       "      <td>0</td>\n",
       "    </tr>\n",
       "  </tbody>\n",
       "</table>\n",
       "</div>"
      ],
      "text/plain": [
       "   department  promoted    review  projects  salary  tenure  satisfaction  \\\n",
       "0  operations         0  0.577569         3       1     5.0      0.626759   \n",
       "1  operations         0  0.751900         3       2     6.0      0.443679   \n",
       "2     support         0  0.722548         3       2     6.0      0.446823   \n",
       "\n",
       "   bonus  avg_hrs_month  left  \n",
       "0      0     180.866070     0  \n",
       "1      0     182.708149     0  \n",
       "2      0     184.416084     0  "
      ]
     },
     "execution_count": 8,
     "metadata": {},
     "output_type": "execute_result"
    }
   ],
   "source": [
    "\n",
    "# Labeling and encoding\n",
    "#convert salary to numeric value\n",
    "# replacing values\n",
    "df['left'].replace(['no', 'yes'],[0, 1], inplace=True)\n",
    "df['salary'].replace(['low', 'medium','high'],[1, 2,3], inplace=True)\n",
    "\n",
    "\n",
    "df.head(3)"
   ]
  },
  {
   "cell_type": "markdown",
   "id": "8404882f-2048-45a0-8cdb-d2c0ec4426b4",
   "metadata": {},
   "source": [
    "#  check the statstics and correlation of each variable with \"left\"."
   ]
  },
  {
   "cell_type": "code",
   "execution_count": null,
   "id": "0bfbf038-40e2-46ea-83d1-1ec89832227c",
   "metadata": {},
   "outputs": [
    {
     "data": {
      "application/com.datacamp.data-table.v1+json": {
       "is_truncated": false,
       "table": {
        "data": [
         {
          "avg_hrs_month": 9540,
          "bonus": 9540,
          "index": "count",
          "left": 9540,
          "projects": 9540,
          "promoted": 9540,
          "review": 9540,
          "salary": 9540,
          "satisfaction": 9540,
          "tenure": 9540
         },
         {
          "avg_hrs_month": 184.6615711224,
          "bonus": 0.2120545073,
          "index": "mean",
          "left": 0.2918238994,
          "projects": 3.2748427673,
          "promoted": 0.030293501,
          "review": 0.6518263249,
          "salary": 2.0175052411,
          "satisfaction": 0.5046445122,
          "tenure": 6.5561844864
         },
         {
          "avg_hrs_month": 4.1448308592,
          "bonus": 0.4087846738,
          "index": "std",
          "left": 0.454625534,
          "projects": 0.5791356299,
          "promoted": 0.1714026966,
          "review": 0.0853067746,
          "salary": 0.55384906,
          "satisfaction": 0.1585551662,
          "tenure": 1.4154318911
         },
         {
          "avg_hrs_month": 171.374060482,
          "bonus": 0,
          "index": "min",
          "left": 0,
          "projects": 2,
          "promoted": 0,
          "review": 0.31,
          "salary": 1,
          "satisfaction": 0,
          "tenure": 2
         },
         {
          "avg_hrs_month": 181.4720846337,
          "bonus": 0,
          "index": "25%",
          "left": 0,
          "projects": 3,
          "promoted": 0,
          "review": 0.592883777,
          "salary": 2,
          "satisfaction": 0.3868010882,
          "tenure": 5
         },
         {
          "avg_hrs_month": 184.6287955361,
          "bonus": 0,
          "index": "50%",
          "left": 0,
          "projects": 3,
          "promoted": 0,
          "review": 0.6474563203,
          "salary": 2,
          "satisfaction": 0.5007855826,
          "tenure": 7
         },
         {
          "avg_hrs_month": 187.728708426,
          "bonus": 0,
          "index": "75%",
          "left": 1,
          "projects": 4,
          "promoted": 0,
          "review": 0.7083786089,
          "salary": 2,
          "satisfaction": 0.6226066206,
          "tenure": 8
         },
         {
          "avg_hrs_month": 200.8616558715,
          "bonus": 1,
          "index": "max",
          "left": 1,
          "projects": 5,
          "promoted": 1,
          "review": 1,
          "salary": 3,
          "satisfaction": 1,
          "tenure": 12
         }
        ],
        "schema": {
         "fields": [
          {
           "name": "index",
           "type": "string"
          },
          {
           "name": "promoted",
           "type": "number"
          },
          {
           "name": "review",
           "type": "number"
          },
          {
           "name": "projects",
           "type": "number"
          },
          {
           "name": "salary",
           "type": "number"
          },
          {
           "name": "tenure",
           "type": "number"
          },
          {
           "name": "satisfaction",
           "type": "number"
          },
          {
           "name": "bonus",
           "type": "number"
          },
          {
           "name": "avg_hrs_month",
           "type": "number"
          },
          {
           "name": "left",
           "type": "number"
          }
         ],
         "pandas_version": "0.20.0",
         "primaryKey": [
          "index"
         ]
        }
       }
      },
      "text/html": [
       "<div>\n",
       "<style scoped>\n",
       "    .dataframe tbody tr th:only-of-type {\n",
       "        vertical-align: middle;\n",
       "    }\n",
       "\n",
       "    .dataframe tbody tr th {\n",
       "        vertical-align: top;\n",
       "    }\n",
       "\n",
       "    .dataframe thead th {\n",
       "        text-align: right;\n",
       "    }\n",
       "</style>\n",
       "<table border=\"1\" class=\"dataframe\">\n",
       "  <thead>\n",
       "    <tr style=\"text-align: right;\">\n",
       "      <th></th>\n",
       "      <th>promoted</th>\n",
       "      <th>review</th>\n",
       "      <th>projects</th>\n",
       "      <th>salary</th>\n",
       "      <th>tenure</th>\n",
       "      <th>satisfaction</th>\n",
       "      <th>bonus</th>\n",
       "      <th>avg_hrs_month</th>\n",
       "      <th>left</th>\n",
       "    </tr>\n",
       "  </thead>\n",
       "  <tbody>\n",
       "    <tr>\n",
       "      <th>count</th>\n",
       "      <td>9540.000000</td>\n",
       "      <td>9540.000000</td>\n",
       "      <td>9540.000000</td>\n",
       "      <td>9540.000000</td>\n",
       "      <td>9540.000000</td>\n",
       "      <td>9540.000000</td>\n",
       "      <td>9540.000000</td>\n",
       "      <td>9540.000000</td>\n",
       "      <td>9540.000000</td>\n",
       "    </tr>\n",
       "    <tr>\n",
       "      <th>mean</th>\n",
       "      <td>0.030294</td>\n",
       "      <td>0.651826</td>\n",
       "      <td>3.274843</td>\n",
       "      <td>2.017505</td>\n",
       "      <td>6.556184</td>\n",
       "      <td>0.504645</td>\n",
       "      <td>0.212055</td>\n",
       "      <td>184.661571</td>\n",
       "      <td>0.291824</td>\n",
       "    </tr>\n",
       "    <tr>\n",
       "      <th>std</th>\n",
       "      <td>0.171403</td>\n",
       "      <td>0.085307</td>\n",
       "      <td>0.579136</td>\n",
       "      <td>0.553849</td>\n",
       "      <td>1.415432</td>\n",
       "      <td>0.158555</td>\n",
       "      <td>0.408785</td>\n",
       "      <td>4.144831</td>\n",
       "      <td>0.454626</td>\n",
       "    </tr>\n",
       "    <tr>\n",
       "      <th>min</th>\n",
       "      <td>0.000000</td>\n",
       "      <td>0.310000</td>\n",
       "      <td>2.000000</td>\n",
       "      <td>1.000000</td>\n",
       "      <td>2.000000</td>\n",
       "      <td>0.000000</td>\n",
       "      <td>0.000000</td>\n",
       "      <td>171.374060</td>\n",
       "      <td>0.000000</td>\n",
       "    </tr>\n",
       "    <tr>\n",
       "      <th>25%</th>\n",
       "      <td>0.000000</td>\n",
       "      <td>0.592884</td>\n",
       "      <td>3.000000</td>\n",
       "      <td>2.000000</td>\n",
       "      <td>5.000000</td>\n",
       "      <td>0.386801</td>\n",
       "      <td>0.000000</td>\n",
       "      <td>181.472085</td>\n",
       "      <td>0.000000</td>\n",
       "    </tr>\n",
       "    <tr>\n",
       "      <th>50%</th>\n",
       "      <td>0.000000</td>\n",
       "      <td>0.647456</td>\n",
       "      <td>3.000000</td>\n",
       "      <td>2.000000</td>\n",
       "      <td>7.000000</td>\n",
       "      <td>0.500786</td>\n",
       "      <td>0.000000</td>\n",
       "      <td>184.628796</td>\n",
       "      <td>0.000000</td>\n",
       "    </tr>\n",
       "    <tr>\n",
       "      <th>75%</th>\n",
       "      <td>0.000000</td>\n",
       "      <td>0.708379</td>\n",
       "      <td>4.000000</td>\n",
       "      <td>2.000000</td>\n",
       "      <td>8.000000</td>\n",
       "      <td>0.622607</td>\n",
       "      <td>0.000000</td>\n",
       "      <td>187.728708</td>\n",
       "      <td>1.000000</td>\n",
       "    </tr>\n",
       "    <tr>\n",
       "      <th>max</th>\n",
       "      <td>1.000000</td>\n",
       "      <td>1.000000</td>\n",
       "      <td>5.000000</td>\n",
       "      <td>3.000000</td>\n",
       "      <td>12.000000</td>\n",
       "      <td>1.000000</td>\n",
       "      <td>1.000000</td>\n",
       "      <td>200.861656</td>\n",
       "      <td>1.000000</td>\n",
       "    </tr>\n",
       "  </tbody>\n",
       "</table>\n",
       "</div>"
      ],
      "text/plain": [
       "          promoted       review     projects       salary       tenure  \\\n",
       "count  9540.000000  9540.000000  9540.000000  9540.000000  9540.000000   \n",
       "mean      0.030294     0.651826     3.274843     2.017505     6.556184   \n",
       "std       0.171403     0.085307     0.579136     0.553849     1.415432   \n",
       "min       0.000000     0.310000     2.000000     1.000000     2.000000   \n",
       "25%       0.000000     0.592884     3.000000     2.000000     5.000000   \n",
       "50%       0.000000     0.647456     3.000000     2.000000     7.000000   \n",
       "75%       0.000000     0.708379     4.000000     2.000000     8.000000   \n",
       "max       1.000000     1.000000     5.000000     3.000000    12.000000   \n",
       "\n",
       "       satisfaction        bonus  avg_hrs_month         left  \n",
       "count   9540.000000  9540.000000    9540.000000  9540.000000  \n",
       "mean       0.504645     0.212055     184.661571     0.291824  \n",
       "std        0.158555     0.408785       4.144831     0.454626  \n",
       "min        0.000000     0.000000     171.374060     0.000000  \n",
       "25%        0.386801     0.000000     181.472085     0.000000  \n",
       "50%        0.500786     0.000000     184.628796     0.000000  \n",
       "75%        0.622607     0.000000     187.728708     1.000000  \n",
       "max        1.000000     1.000000     200.861656     1.000000  "
      ]
     },
     "execution_count": 9,
     "metadata": {},
     "output_type": "execute_result"
    }
   ],
   "source": [
    "df.describe()"
   ]
  },
  {
   "cell_type": "code",
   "execution_count": null,
   "id": "4f246057-f7fc-45a1-a045-7d81516ba3fd",
   "metadata": {},
   "outputs": [
    {
     "data": {
      "application/com.datacamp.data-table.v1+json": {
       "is_truncated": false,
       "table": {
        "data": [
         {
          "avg_hrs_month": -0.0021901037,
          "bonus": 0.0010716376,
          "index": "promoted",
          "left": -0.0367771633,
          "projects": 0.0101072064,
          "promoted": 1,
          "review": 0.0018786953,
          "salary": 0.0010391325,
          "satisfaction": -0.0117041665,
          "tenure": 0.0014098258
         },
         {
          "avg_hrs_month": -0.1960957002,
          "bonus": -0.003626532,
          "index": "review",
          "left": 0.3042941301,
          "projects": 0.0002187253,
          "promoted": 0.0018786953,
          "review": 1,
          "salary": -0.0036654619,
          "satisfaction": -0.3497777264,
          "tenure": -0.184133191
         },
         {
          "avg_hrs_month": 0.0212992372,
          "bonus": 0.0026538261,
          "index": "projects",
          "left": -0.0124077218,
          "projects": 1,
          "promoted": 0.0101072064,
          "review": 0.0002187253,
          "salary": -0.0208841956,
          "satisfaction": 0.0027143626,
          "tenure": 0.0225956996
         },
         {
          "avg_hrs_month": 0.007697185,
          "bonus": -0.0071367617,
          "index": "salary",
          "left": 0.0009431885,
          "projects": -0.0208841956,
          "promoted": 0.0010391325,
          "review": -0.0036654619,
          "salary": 1,
          "satisfaction": -0.0045095729,
          "tenure": 0.00509727
         },
         {
          "avg_hrs_month": 0.9786178937,
          "bonus": -0.0003915721,
          "index": "tenure",
          "left": 0.0105212772,
          "projects": 0.0225956996,
          "promoted": 0.0014098258,
          "review": -0.184133191,
          "salary": 0.00509727,
          "satisfaction": -0.1462464432,
          "tenure": 1
         },
         {
          "avg_hrs_month": -0.1431418166,
          "bonus": 0.0007041312,
          "index": "satisfaction",
          "left": -0.0097207013,
          "projects": 0.0027143626,
          "promoted": -0.0117041665,
          "review": -0.3497777264,
          "salary": -0.0045095729,
          "satisfaction": 1,
          "tenure": -0.1462464432
         },
         {
          "avg_hrs_month": -0.0003699244,
          "bonus": 1,
          "index": "bonus",
          "left": -0.011484739,
          "projects": 0.0026538261,
          "promoted": 0.0010716376,
          "review": -0.003626532,
          "salary": -0.0071367617,
          "satisfaction": 0.0007041312,
          "tenure": -0.0003915721
         },
         {
          "avg_hrs_month": 1,
          "bonus": -0.0003699244,
          "index": "avg_hrs_month",
          "left": 0.0090078556,
          "projects": 0.0212992372,
          "promoted": -0.0021901037,
          "review": -0.1960957002,
          "salary": 0.007697185,
          "satisfaction": -0.1431418166,
          "tenure": 0.9786178937
         },
         {
          "avg_hrs_month": 0.0090078556,
          "bonus": -0.011484739,
          "index": "left",
          "left": 1,
          "projects": -0.0124077218,
          "promoted": -0.0367771633,
          "review": 0.3042941301,
          "salary": 0.0009431885,
          "satisfaction": -0.0097207013,
          "tenure": 0.0105212772
         }
        ],
        "schema": {
         "fields": [
          {
           "name": "index",
           "type": "string"
          },
          {
           "name": "promoted",
           "type": "number"
          },
          {
           "name": "review",
           "type": "number"
          },
          {
           "name": "projects",
           "type": "number"
          },
          {
           "name": "salary",
           "type": "number"
          },
          {
           "name": "tenure",
           "type": "number"
          },
          {
           "name": "satisfaction",
           "type": "number"
          },
          {
           "name": "bonus",
           "type": "number"
          },
          {
           "name": "avg_hrs_month",
           "type": "number"
          },
          {
           "name": "left",
           "type": "number"
          }
         ],
         "pandas_version": "0.20.0",
         "primaryKey": [
          "index"
         ]
        }
       }
      },
      "text/html": [
       "<div>\n",
       "<style scoped>\n",
       "    .dataframe tbody tr th:only-of-type {\n",
       "        vertical-align: middle;\n",
       "    }\n",
       "\n",
       "    .dataframe tbody tr th {\n",
       "        vertical-align: top;\n",
       "    }\n",
       "\n",
       "    .dataframe thead th {\n",
       "        text-align: right;\n",
       "    }\n",
       "</style>\n",
       "<table border=\"1\" class=\"dataframe\">\n",
       "  <thead>\n",
       "    <tr style=\"text-align: right;\">\n",
       "      <th></th>\n",
       "      <th>promoted</th>\n",
       "      <th>review</th>\n",
       "      <th>projects</th>\n",
       "      <th>salary</th>\n",
       "      <th>tenure</th>\n",
       "      <th>satisfaction</th>\n",
       "      <th>bonus</th>\n",
       "      <th>avg_hrs_month</th>\n",
       "      <th>left</th>\n",
       "    </tr>\n",
       "  </thead>\n",
       "  <tbody>\n",
       "    <tr>\n",
       "      <th>promoted</th>\n",
       "      <td>1.000000</td>\n",
       "      <td>0.001879</td>\n",
       "      <td>0.010107</td>\n",
       "      <td>0.001039</td>\n",
       "      <td>0.001410</td>\n",
       "      <td>-0.011704</td>\n",
       "      <td>0.001072</td>\n",
       "      <td>-0.002190</td>\n",
       "      <td>-0.036777</td>\n",
       "    </tr>\n",
       "    <tr>\n",
       "      <th>review</th>\n",
       "      <td>0.001879</td>\n",
       "      <td>1.000000</td>\n",
       "      <td>0.000219</td>\n",
       "      <td>-0.003665</td>\n",
       "      <td>-0.184133</td>\n",
       "      <td>-0.349778</td>\n",
       "      <td>-0.003627</td>\n",
       "      <td>-0.196096</td>\n",
       "      <td>0.304294</td>\n",
       "    </tr>\n",
       "    <tr>\n",
       "      <th>projects</th>\n",
       "      <td>0.010107</td>\n",
       "      <td>0.000219</td>\n",
       "      <td>1.000000</td>\n",
       "      <td>-0.020884</td>\n",
       "      <td>0.022596</td>\n",
       "      <td>0.002714</td>\n",
       "      <td>0.002654</td>\n",
       "      <td>0.021299</td>\n",
       "      <td>-0.012408</td>\n",
       "    </tr>\n",
       "    <tr>\n",
       "      <th>salary</th>\n",
       "      <td>0.001039</td>\n",
       "      <td>-0.003665</td>\n",
       "      <td>-0.020884</td>\n",
       "      <td>1.000000</td>\n",
       "      <td>0.005097</td>\n",
       "      <td>-0.004510</td>\n",
       "      <td>-0.007137</td>\n",
       "      <td>0.007697</td>\n",
       "      <td>0.000943</td>\n",
       "    </tr>\n",
       "    <tr>\n",
       "      <th>tenure</th>\n",
       "      <td>0.001410</td>\n",
       "      <td>-0.184133</td>\n",
       "      <td>0.022596</td>\n",
       "      <td>0.005097</td>\n",
       "      <td>1.000000</td>\n",
       "      <td>-0.146246</td>\n",
       "      <td>-0.000392</td>\n",
       "      <td>0.978618</td>\n",
       "      <td>0.010521</td>\n",
       "    </tr>\n",
       "    <tr>\n",
       "      <th>satisfaction</th>\n",
       "      <td>-0.011704</td>\n",
       "      <td>-0.349778</td>\n",
       "      <td>0.002714</td>\n",
       "      <td>-0.004510</td>\n",
       "      <td>-0.146246</td>\n",
       "      <td>1.000000</td>\n",
       "      <td>0.000704</td>\n",
       "      <td>-0.143142</td>\n",
       "      <td>-0.009721</td>\n",
       "    </tr>\n",
       "    <tr>\n",
       "      <th>bonus</th>\n",
       "      <td>0.001072</td>\n",
       "      <td>-0.003627</td>\n",
       "      <td>0.002654</td>\n",
       "      <td>-0.007137</td>\n",
       "      <td>-0.000392</td>\n",
       "      <td>0.000704</td>\n",
       "      <td>1.000000</td>\n",
       "      <td>-0.000370</td>\n",
       "      <td>-0.011485</td>\n",
       "    </tr>\n",
       "    <tr>\n",
       "      <th>avg_hrs_month</th>\n",
       "      <td>-0.002190</td>\n",
       "      <td>-0.196096</td>\n",
       "      <td>0.021299</td>\n",
       "      <td>0.007697</td>\n",
       "      <td>0.978618</td>\n",
       "      <td>-0.143142</td>\n",
       "      <td>-0.000370</td>\n",
       "      <td>1.000000</td>\n",
       "      <td>0.009008</td>\n",
       "    </tr>\n",
       "    <tr>\n",
       "      <th>left</th>\n",
       "      <td>-0.036777</td>\n",
       "      <td>0.304294</td>\n",
       "      <td>-0.012408</td>\n",
       "      <td>0.000943</td>\n",
       "      <td>0.010521</td>\n",
       "      <td>-0.009721</td>\n",
       "      <td>-0.011485</td>\n",
       "      <td>0.009008</td>\n",
       "      <td>1.000000</td>\n",
       "    </tr>\n",
       "  </tbody>\n",
       "</table>\n",
       "</div>"
      ],
      "text/plain": [
       "               promoted    review  projects    salary    tenure  satisfaction  \\\n",
       "promoted       1.000000  0.001879  0.010107  0.001039  0.001410     -0.011704   \n",
       "review         0.001879  1.000000  0.000219 -0.003665 -0.184133     -0.349778   \n",
       "projects       0.010107  0.000219  1.000000 -0.020884  0.022596      0.002714   \n",
       "salary         0.001039 -0.003665 -0.020884  1.000000  0.005097     -0.004510   \n",
       "tenure         0.001410 -0.184133  0.022596  0.005097  1.000000     -0.146246   \n",
       "satisfaction  -0.011704 -0.349778  0.002714 -0.004510 -0.146246      1.000000   \n",
       "bonus          0.001072 -0.003627  0.002654 -0.007137 -0.000392      0.000704   \n",
       "avg_hrs_month -0.002190 -0.196096  0.021299  0.007697  0.978618     -0.143142   \n",
       "left          -0.036777  0.304294 -0.012408  0.000943  0.010521     -0.009721   \n",
       "\n",
       "                  bonus  avg_hrs_month      left  \n",
       "promoted       0.001072      -0.002190 -0.036777  \n",
       "review        -0.003627      -0.196096  0.304294  \n",
       "projects       0.002654       0.021299 -0.012408  \n",
       "salary        -0.007137       0.007697  0.000943  \n",
       "tenure        -0.000392       0.978618  0.010521  \n",
       "satisfaction   0.000704      -0.143142 -0.009721  \n",
       "bonus          1.000000      -0.000370 -0.011485  \n",
       "avg_hrs_month -0.000370       1.000000  0.009008  \n",
       "left          -0.011485       0.009008  1.000000  "
      ]
     },
     "execution_count": 10,
     "metadata": {},
     "output_type": "execute_result"
    }
   ],
   "source": [
    "df.corr()"
   ]
  },
  {
   "cell_type": "markdown",
   "id": "31cf841b-f827-40c5-b12a-413be48347dd",
   "metadata": {},
   "source": [
    "Employes turnover  is positively correlated with the composite score the employee received in their last evaluation and negatively corilated with number of projects they envolve, bonus and tenure."
   ]
  },
  {
   "cell_type": "code",
   "execution_count": null,
   "id": "f0892d08-3def-431f-8c78-c6e0192d45ff",
   "metadata": {},
   "outputs": [
    {
     "data": {
      "application/com.datacamp.data-table.v1+json": {
       "is_truncated": false,
       "table": {
        "data": [
         {
          "avg_hrs_month": 184.6376051388,
          "bonus": 0.2150680876,
          "left": 0,
          "projects": 3.279455299,
          "promoted": 0.0343398461,
          "review": 0.6351636728,
          "salary": 2.017169923,
          "satisfaction": 0.505633851,
          "tenure": 6.546625222
         },
         {
          "avg_hrs_month": 184.7197299535,
          "bonus": 0.2047413793,
          "left": 1,
          "projects": 3.2636494253,
          "promoted": 0.0204741379,
          "review": 0.6922619852,
          "salary": 2.0183189655,
          "satisfaction": 0.50224366,
          "tenure": 6.5793821839
         }
        ],
        "schema": {
         "fields": [
          {
           "name": "left",
           "type": "integer"
          },
          {
           "name": "promoted",
           "type": "number"
          },
          {
           "name": "review",
           "type": "number"
          },
          {
           "name": "projects",
           "type": "number"
          },
          {
           "name": "salary",
           "type": "number"
          },
          {
           "name": "tenure",
           "type": "number"
          },
          {
           "name": "satisfaction",
           "type": "number"
          },
          {
           "name": "bonus",
           "type": "number"
          },
          {
           "name": "avg_hrs_month",
           "type": "number"
          }
         ],
         "pandas_version": "0.20.0",
         "primaryKey": [
          "left"
         ]
        }
       }
      },
      "text/html": [
       "<div>\n",
       "<style scoped>\n",
       "    .dataframe tbody tr th:only-of-type {\n",
       "        vertical-align: middle;\n",
       "    }\n",
       "\n",
       "    .dataframe tbody tr th {\n",
       "        vertical-align: top;\n",
       "    }\n",
       "\n",
       "    .dataframe thead th {\n",
       "        text-align: right;\n",
       "    }\n",
       "</style>\n",
       "<table border=\"1\" class=\"dataframe\">\n",
       "  <thead>\n",
       "    <tr style=\"text-align: right;\">\n",
       "      <th></th>\n",
       "      <th>promoted</th>\n",
       "      <th>review</th>\n",
       "      <th>projects</th>\n",
       "      <th>salary</th>\n",
       "      <th>tenure</th>\n",
       "      <th>satisfaction</th>\n",
       "      <th>bonus</th>\n",
       "      <th>avg_hrs_month</th>\n",
       "    </tr>\n",
       "    <tr>\n",
       "      <th>left</th>\n",
       "      <th></th>\n",
       "      <th></th>\n",
       "      <th></th>\n",
       "      <th></th>\n",
       "      <th></th>\n",
       "      <th></th>\n",
       "      <th></th>\n",
       "      <th></th>\n",
       "    </tr>\n",
       "  </thead>\n",
       "  <tbody>\n",
       "    <tr>\n",
       "      <th>0</th>\n",
       "      <td>0.034340</td>\n",
       "      <td>0.635164</td>\n",
       "      <td>3.279455</td>\n",
       "      <td>2.017170</td>\n",
       "      <td>6.546625</td>\n",
       "      <td>0.505634</td>\n",
       "      <td>0.215068</td>\n",
       "      <td>184.637605</td>\n",
       "    </tr>\n",
       "    <tr>\n",
       "      <th>1</th>\n",
       "      <td>0.020474</td>\n",
       "      <td>0.692262</td>\n",
       "      <td>3.263649</td>\n",
       "      <td>2.018319</td>\n",
       "      <td>6.579382</td>\n",
       "      <td>0.502244</td>\n",
       "      <td>0.204741</td>\n",
       "      <td>184.719730</td>\n",
       "    </tr>\n",
       "  </tbody>\n",
       "</table>\n",
       "</div>"
      ],
      "text/plain": [
       "      promoted    review  projects    salary    tenure  satisfaction  \\\n",
       "left                                                                   \n",
       "0     0.034340  0.635164  3.279455  2.017170  6.546625      0.505634   \n",
       "1     0.020474  0.692262  3.263649  2.018319  6.579382      0.502244   \n",
       "\n",
       "         bonus  avg_hrs_month  \n",
       "left                           \n",
       "0     0.215068     184.637605  \n",
       "1     0.204741     184.719730  "
      ]
     },
     "execution_count": 11,
     "metadata": {},
     "output_type": "execute_result"
    }
   ],
   "source": [
    "df.groupby('left').mean()"
   ]
  },
  {
   "cell_type": "markdown",
   "id": "f970108d-f4b3-425d-a0f2-90e5c63f02bf",
   "metadata": {},
   "source": [
    "- The avarage review rate of those who stay is likely higher than emplyees who left.\n"
   ]
  },
  {
   "cell_type": "markdown",
   "id": "9b897fb6-12ef-422a-892e-bf7753685c93",
   "metadata": {},
   "source": [
    "# visualization"
   ]
  },
  {
   "cell_type": "code",
   "execution_count": null,
   "id": "758dd48c-58bc-4445-a07e-11a3c731daec",
   "metadata": {},
   "outputs": [
    {
     "data": {
      "image/png": "[encoded data removed]",
      "text/plain": [
       "<Figure size 432x288 with 1 Axes>"
      ]
     },
     "metadata": {
      "needs_background": "light"
     },
     "output_type": "display_data"
    }
   ],
   "source": [
    "pd.crosstab(df.department,df.left).plot(kind='bar')\n",
    "plt.title(\"Department vs left\")\n",
    "plt.xlabel(\"Department\")\n",
    "plt.ylabel(\"frequency of turnover\")\n",
    "plt.show()"
   ]
  },
  {
   "cell_type": "code",
   "execution_count": null,
   "id": "9c70a3b1-0deb-451a-a5b9-f78d281c50b4",
   "metadata": {},
   "outputs": [
    {
     "data": {
      "image/png": "[encoded data removed]",
      "text/plain": [
       "<Figure size 432x288 with 1 Axes>"
      ]
     },
     "metadata": {
      "needs_background": "light"
     },
     "output_type": "display_data"
    }
   ],
   "source": [
    "pd.crosstab(df.salary,df.left).plot(kind='bar')\n",
    "plt.title(\"Salary vs left\")\n",
    "plt.xlabel(\"Salary\")\n",
    "plt.ylabel(\"frequency of turnover\")\n",
    "plt.show()\n"
   ]
  },
  {
   "cell_type": "code",
   "execution_count": null,
   "id": "586112f4-b100-4fa7-8c0c-3592fd97cbf6",
   "metadata": {},
   "outputs": [],
   "source": [
    "#pd.crosstab(df.review,df.left).plot(kind='bar')\n",
    "#plt.title(\"review vs left\")\n",
    "#plt.xlabel(\"review\")\n",
    "#plt.ylabel(\"frequency of turnover\")\n",
    "#plt.show()"
   ]
  },
  {
   "cell_type": "code",
   "execution_count": null,
   "id": "3eab5c65-7450-442a-a033-d59ae73d5ca4",
   "metadata": {},
   "outputs": [],
   "source": [
    "#pd.crosstab(df.satisfaction,df.left).plot(kind='bar')\n",
    "#plt.title(\"Satisfaction vs left\")\n",
    "#plt.xlabel(\"Satisfaction\")\n",
    "#plt.ylabel(\"frequency of turnover\")\n",
    "#plt.show()"
   ]
  },
  {
   "cell_type": "code",
   "execution_count": null,
   "id": "d1b1649a-03cd-4095-8271-fd958d6b911e",
   "metadata": {},
   "outputs": [],
   "source": [
    "#pd.crosstab(df.avg_hrs_month,df.left).plot(kind='bar')\n",
    "#plt.title(\"avg_hrs_month vs left\")\n",
    "#plt.xlabel(\"avg_hrs_month\")\n",
    "#plt.ylabel(\"frequency of turnover\")\n",
    "#plt.show()"
   ]
  },
  {
   "cell_type": "code",
   "execution_count": null,
   "id": "f86361d9-136e-42fc-90bb-fda534281ca9",
   "metadata": {},
   "outputs": [
    {
     "data": {
      "image/png": "[encoded data removed]",
      "text/plain": [
       "<Figure size 432x288 with 1 Axes>"
      ]
     },
     "metadata": {
      "needs_background": "light"
     },
     "output_type": "display_data"
    }
   ],
   "source": [
    "pd.crosstab(df.projects,df.left).plot(kind='bar')\n",
    "plt.title(\"Projects vs left\")\n",
    "plt.xlabel(\"Projects\")\n",
    "plt.ylabel(\"frequency of turnover\")\n",
    "plt.show()"
   ]
  },
  {
   "cell_type": "code",
   "execution_count": null,
   "id": "b5aeba8a-b742-423e-994c-1e0068ba4046",
   "metadata": {},
   "outputs": [
    {
     "data": {
      "image/png": "[encoded data removed]",
      "text/plain": [
       "<Figure size 432x288 with 1 Axes>"
      ]
     },
     "metadata": {
      "needs_background": "light"
     },
     "output_type": "display_data"
    }
   ],
   "source": [
    "pd.crosstab(df.tenure,df.left).plot(kind='bar')\n",
    "plt.title(\"tenure vs left\")\n",
    "plt.xlabel(\"tenure\")\n",
    "plt.ylabel(\"frequency of turnover\")\n",
    "plt.show()"
   ]
  },
  {
   "cell_type": "code",
   "execution_count": null,
   "id": "ef697b62-a31b-4756-9e37-354b9fb99973",
   "metadata": {},
   "outputs": [
    {
     "data": {
      "image/png": "[encoded data removed]",
      "text/plain": [
       "<Figure size 432x288 with 1 Axes>"
      ]
     },
     "metadata": {
      "needs_background": "light"
     },
     "output_type": "display_data"
    }
   ],
   "source": [
    "pd.crosstab(df.promoted,df.left).plot(kind='bar')\n",
    "plt.title(\"promoted vs left\")\n",
    "plt.xlabel(\"promoted\")\n",
    "plt.ylabel(\"frequency of turnover\")\n",
    "plt.show()"
   ]
  },
  {
   "cell_type": "code",
   "execution_count": null,
   "id": "228da5b8-badd-4668-b7ef-66c7f7ee9333",
   "metadata": {},
   "outputs": [
    {
     "data": {
      "image/png": "[encoded data removed]",
      "text/plain": [
       "<Figure size 432x288 with 1 Axes>"
      ]
     },
     "metadata": {
      "needs_background": "light"
     },
     "output_type": "display_data"
    }
   ],
   "source": [
    "pd.crosstab(df.bonus,df.left).plot(kind='bar')\n",
    "plt.title(\"bonus vs left\")\n",
    "plt.xlabel(\"bonus\")\n",
    "plt.ylabel(\"frequency of turnover\")\n",
    "plt.show()"
   ]
  },
  {
   "cell_type": "code",
   "execution_count": null,
   "id": "8e4816e4-e776-4bb9-892e-3ffaff76c2d2",
   "metadata": {},
   "outputs": [],
   "source": []
  },
  {
   "cell_type": "markdown",
   "id": "28059feb-f097-492e-a209-5737ace85b2e",
   "metadata": {},
   "source": [
    "# Report"
   ]
  },
  {
   "cell_type": "markdown",
   "id": "b7858f4d-be3a-450a-bcd7-121a441b7c26",
   "metadata": {},
   "source": [
    "A) Data Exploration"
   ]
  },
  {
   "cell_type": "markdown",
   "id": "7d7a6f09-ad46-4d1c-b1ce-90b1a2ac788b",
   "metadata": {},
   "source": [
    "Here are some observations from the above steps:\n",
    "\n",
    "- The number of employees who left the company are 2784 and those who stay are 6756\n",
    "- The average satisfaction level of employees who stayed in the company is higher than those employees who left.\n",
    "- The average working monthly hours of employees who left the company is higher than those employees who stayed.\n",
    "- The avarage salary of employes who left is higher than those who stay.\n",
    "- Employes who engaged in projects are more likely stay with in campany than those who are not participated.\n",
    "- Employees who were promoted in the last 24 monthes are more likely stay with campany.\n"
   ]
  },
  {
   "cell_type": "code",
   "execution_count": null,
   "id": "f30db2ce-5c4f-44ea-8eb7-6dedaee5c011",
   "metadata": {},
   "outputs": [],
   "source": [
    "df1=df.copy()"
   ]
  },
  {
   "cell_type": "code",
   "execution_count": null,
   "id": "88b1bf2e-1487-46f1-9626-a575f11acd56",
   "metadata": {},
   "outputs": [
    {
     "data": {
      "application/com.datacamp.data-table.v1+json": {
       "is_truncated": false,
       "table": {
        "data": [
         {
          "avg_hrs_month": 184.6570571563,
          "bonus": 0.2251991311,
          "left": 0.283128168,
          "projects": 3.3048515568,
          "promoted": 0.0289645185,
          "review": 0.652816011,
          "salary": 1,
          "satisfaction": 0.5049344412,
          "tenure": 6.5561187545
         },
         {
          "avg_hrs_month": 184.6379613695,
          "bonus": 0.2088942671,
          "left": 0.2951142036,
          "projects": 3.2719709575,
          "promoted": 0.0307063984,
          "review": 0.65166273,
          "salary": 2,
          "satisfaction": 0.5050947868,
          "tenure": 6.550446226
         },
         {
          "avg_hrs_month": 184.7664276235,
          "bonus": 0.2138242894,
          "left": 0.2855297158,
          "projects": 3.2603359173,
          "promoted": 0.0297157623,
          "review": 0.6516420678,
          "salary": 3,
          "satisfaction": 0.5024628864,
          "tenure": 6.580749354
         }
        ],
        "schema": {
         "fields": [
          {
           "name": "salary",
           "type": "integer"
          },
          {
           "name": "promoted",
           "type": "number"
          },
          {
           "name": "review",
           "type": "number"
          },
          {
           "name": "projects",
           "type": "number"
          },
          {
           "name": "tenure",
           "type": "number"
          },
          {
           "name": "satisfaction",
           "type": "number"
          },
          {
           "name": "bonus",
           "type": "number"
          },
          {
           "name": "avg_hrs_month",
           "type": "number"
          },
          {
           "name": "left",
           "type": "number"
          }
         ],
         "pandas_version": "0.20.0",
         "primaryKey": [
          "salary"
         ]
        }
       }
      },
      "text/html": [
       "<div>\n",
       "<style scoped>\n",
       "    .dataframe tbody tr th:only-of-type {\n",
       "        vertical-align: middle;\n",
       "    }\n",
       "\n",
       "    .dataframe tbody tr th {\n",
       "        vertical-align: top;\n",
       "    }\n",
       "\n",
       "    .dataframe thead th {\n",
       "        text-align: right;\n",
       "    }\n",
       "</style>\n",
       "<table border=\"1\" class=\"dataframe\">\n",
       "  <thead>\n",
       "    <tr style=\"text-align: right;\">\n",
       "      <th></th>\n",
       "      <th>promoted</th>\n",
       "      <th>review</th>\n",
       "      <th>projects</th>\n",
       "      <th>tenure</th>\n",
       "      <th>satisfaction</th>\n",
       "      <th>bonus</th>\n",
       "      <th>avg_hrs_month</th>\n",
       "      <th>left</th>\n",
       "    </tr>\n",
       "    <tr>\n",
       "      <th>salary</th>\n",
       "      <th></th>\n",
       "      <th></th>\n",
       "      <th></th>\n",
       "      <th></th>\n",
       "      <th></th>\n",
       "      <th></th>\n",
       "      <th></th>\n",
       "      <th></th>\n",
       "    </tr>\n",
       "  </thead>\n",
       "  <tbody>\n",
       "    <tr>\n",
       "      <th>1</th>\n",
       "      <td>0.028965</td>\n",
       "      <td>0.652816</td>\n",
       "      <td>3.304852</td>\n",
       "      <td>6.556119</td>\n",
       "      <td>0.504934</td>\n",
       "      <td>0.225199</td>\n",
       "      <td>184.657057</td>\n",
       "      <td>0.283128</td>\n",
       "    </tr>\n",
       "    <tr>\n",
       "      <th>2</th>\n",
       "      <td>0.030706</td>\n",
       "      <td>0.651663</td>\n",
       "      <td>3.271971</td>\n",
       "      <td>6.550446</td>\n",
       "      <td>0.505095</td>\n",
       "      <td>0.208894</td>\n",
       "      <td>184.637961</td>\n",
       "      <td>0.295114</td>\n",
       "    </tr>\n",
       "    <tr>\n",
       "      <th>3</th>\n",
       "      <td>0.029716</td>\n",
       "      <td>0.651642</td>\n",
       "      <td>3.260336</td>\n",
       "      <td>6.580749</td>\n",
       "      <td>0.502463</td>\n",
       "      <td>0.213824</td>\n",
       "      <td>184.766428</td>\n",
       "      <td>0.285530</td>\n",
       "    </tr>\n",
       "  </tbody>\n",
       "</table>\n",
       "</div>"
      ],
      "text/plain": [
       "        promoted    review  projects    tenure  satisfaction     bonus  \\\n",
       "salary                                                                   \n",
       "1       0.028965  0.652816  3.304852  6.556119      0.504934  0.225199   \n",
       "2       0.030706  0.651663  3.271971  6.550446      0.505095  0.208894   \n",
       "3       0.029716  0.651642  3.260336  6.580749      0.502463  0.213824   \n",
       "\n",
       "        avg_hrs_month      left  \n",
       "salary                           \n",
       "1          184.657057  0.283128  \n",
       "2          184.637961  0.295114  \n",
       "3          184.766428  0.285530  "
      ]
     },
     "execution_count": 22,
     "metadata": {},
     "output_type": "execute_result"
    }
   ],
   "source": [
    "df1.groupby('salary').mean()"
   ]
  },
  {
   "cell_type": "markdown",
   "id": "a9c6902e-9e85-4f4a-ba4d-6cc10d2f0c94",
   "metadata": {},
   "source": [
    "- From the result above we can see that employees who earn medium salary are likely left than others."
   ]
  },
  {
   "cell_type": "code",
   "execution_count": null,
   "id": "8339a94e-0ffe-493e-9f43-2c12d3c854bd",
   "metadata": {},
   "outputs": [
    {
     "data": {
      "application/com.datacamp.data-table.v1+json": {
       "is_truncated": false,
       "table": {
        "data": [
         {
          "avg_hrs_month": 184.820946276,
          "bonus": 0.2219101124,
          "department": "IT",
          "left": 0.308988764,
          "projects": 3.2893258427,
          "promoted": 0.0224719101,
          "review": 0.6477460323,
          "salary": 2.0449438202,
          "satisfaction": 0.5158180786,
          "tenure": 6.6095505618
         },
         {
          "avg_hrs_month": 184.5381204725,
          "bonus": 0.1867612293,
          "department": "admin",
          "left": 0.2813238771,
          "projects": 3.2789598109,
          "promoted": 0.0378250591,
          "review": 0.6470856389,
          "salary": 2.0401891253,
          "satisfaction": 0.5194442044,
          "tenure": 6.4988179669
         },
         {
          "avg_hrs_month": 184.6919620118,
          "bonus": 0.2110817942,
          "department": "engineering",
          "left": 0.2882585752,
          "projects": 3.2638522427,
          "promoted": 0.0230870712,
          "review": 0.6506012649,
          "salary": 2.0204485488,
          "satisfaction": 0.5049441161,
          "tenure": 6.5580474934
         },
         {
          "avg_hrs_month": 184.3751162646,
          "bonus": 0.2313432836,
          "department": "finance",
          "left": 0.2686567164,
          "projects": 3.2935323383,
          "promoted": 0.0472636816,
          "review": 0.6549342285,
          "salary": 2.0298507463,
          "satisfaction": 0.4971832636,
          "tenure": 6.4402985075
         },
         {
          "avg_hrs_month": 184.5899240065,
          "bonus": 0.2083333333,
          "department": "logistics",
          "left": 0.3083333333,
          "projects": 3.275,
          "promoted": 0.0194444444,
          "review": 0.6543736353,
          "salary": 2.0027777778,
          "satisfaction": 0.4930844924,
          "tenure": 6.5277777778
         },
         {
          "avg_hrs_month": 184.4699633156,
          "bonus": 0.2194513716,
          "department": "marketing",
          "left": 0.3029925187,
          "projects": 3.2805486284,
          "promoted": 0.042394015,
          "review": 0.6576936544,
          "salary": 1.9950124688,
          "satisfaction": 0.5024107014,
          "tenure": 6.5037406484
         },
         {
          "avg_hrs_month": 184.8120055593,
          "bonus": 0.2069645204,
          "department": "operations",
          "left": 0.2864651774,
          "projects": 3.2713534823,
          "promoted": 0.0295663601,
          "review": 0.6533968206,
          "salary": 2.0124835742,
          "satisfaction": 0.5046202634,
          "tenure": 6.6084099869
         },
         {
          "avg_hrs_month": 184.7350751604,
          "bonus": 0.2186891629,
          "department": "retail",
          "left": 0.3056456846,
          "projects": 3.2660609994,
          "promoted": 0.0337443219,
          "review": 0.6501519898,
          "salary": 2.0123296561,
          "satisfaction": 0.5027687684,
          "tenure": 6.591174562
         },
         {
          "avg_hrs_month": 184.6167390306,
          "bonus": 0.2118959108,
          "department": "sales",
          "left": 0.2851832183,
          "projects": 3.2862453532,
          "promoted": 0.0265533723,
          "review": 0.6516310832,
          "salary": 2.0111524164,
          "satisfaction": 0.5045200659,
          "tenure": 6.5358470526
         },
         {
          "avg_hrs_month": 184.6428155458,
          "bonus": 0.2040816327,
          "department": "support",
          "left": 0.2884353741,
          "projects": 3.2680272109,
          "promoted": 0.031292517,
          "review": 0.6504665624,
          "salary": 2.0476190476,
          "satisfaction": 0.5065792699,
          "tenure": 6.5646258503
         }
        ],
        "schema": {
         "fields": [
          {
           "name": "department",
           "type": "string"
          },
          {
           "name": "promoted",
           "type": "number"
          },
          {
           "name": "review",
           "type": "number"
          },
          {
           "name": "projects",
           "type": "number"
          },
          {
           "name": "salary",
           "type": "number"
          },
          {
           "name": "tenure",
           "type": "number"
          },
          {
           "name": "satisfaction",
           "type": "number"
          },
          {
           "name": "bonus",
           "type": "number"
          },
          {
           "name": "avg_hrs_month",
           "type": "number"
          },
          {
           "name": "left",
           "type": "number"
          }
         ],
         "pandas_version": "0.20.0",
         "primaryKey": [
          "department"
         ]
        }
       }
      },
      "text/html": [
       "<div>\n",
       "<style scoped>\n",
       "    .dataframe tbody tr th:only-of-type {\n",
       "        vertical-align: middle;\n",
       "    }\n",
       "\n",
       "    .dataframe tbody tr th {\n",
       "        vertical-align: top;\n",
       "    }\n",
       "\n",
       "    .dataframe thead th {\n",
       "        text-align: right;\n",
       "    }\n",
       "</style>\n",
       "<table border=\"1\" class=\"dataframe\">\n",
       "  <thead>\n",
       "    <tr style=\"text-align: right;\">\n",
       "      <th></th>\n",
       "      <th>promoted</th>\n",
       "      <th>review</th>\n",
       "      <th>projects</th>\n",
       "      <th>salary</th>\n",
       "      <th>tenure</th>\n",
       "      <th>satisfaction</th>\n",
       "      <th>bonus</th>\n",
       "      <th>avg_hrs_month</th>\n",
       "      <th>left</th>\n",
       "    </tr>\n",
       "    <tr>\n",
       "      <th>department</th>\n",
       "      <th></th>\n",
       "      <th></th>\n",
       "      <th></th>\n",
       "      <th></th>\n",
       "      <th></th>\n",
       "      <th></th>\n",
       "      <th></th>\n",
       "      <th></th>\n",
       "      <th></th>\n",
       "    </tr>\n",
       "  </thead>\n",
       "  <tbody>\n",
       "    <tr>\n",
       "      <th>IT</th>\n",
       "      <td>0.022472</td>\n",
       "      <td>0.647746</td>\n",
       "      <td>3.289326</td>\n",
       "      <td>2.044944</td>\n",
       "      <td>6.609551</td>\n",
       "      <td>0.515818</td>\n",
       "      <td>0.221910</td>\n",
       "      <td>184.820946</td>\n",
       "      <td>0.308989</td>\n",
       "    </tr>\n",
       "    <tr>\n",
       "      <th>admin</th>\n",
       "      <td>0.037825</td>\n",
       "      <td>0.647086</td>\n",
       "      <td>3.278960</td>\n",
       "      <td>2.040189</td>\n",
       "      <td>6.498818</td>\n",
       "      <td>0.519444</td>\n",
       "      <td>0.186761</td>\n",
       "      <td>184.538120</td>\n",
       "      <td>0.281324</td>\n",
       "    </tr>\n",
       "    <tr>\n",
       "      <th>engineering</th>\n",
       "      <td>0.023087</td>\n",
       "      <td>0.650601</td>\n",
       "      <td>3.263852</td>\n",
       "      <td>2.020449</td>\n",
       "      <td>6.558047</td>\n",
       "      <td>0.504944</td>\n",
       "      <td>0.211082</td>\n",
       "      <td>184.691962</td>\n",
       "      <td>0.288259</td>\n",
       "    </tr>\n",
       "    <tr>\n",
       "      <th>finance</th>\n",
       "      <td>0.047264</td>\n",
       "      <td>0.654934</td>\n",
       "      <td>3.293532</td>\n",
       "      <td>2.029851</td>\n",
       "      <td>6.440299</td>\n",
       "      <td>0.497183</td>\n",
       "      <td>0.231343</td>\n",
       "      <td>184.375116</td>\n",
       "      <td>0.268657</td>\n",
       "    </tr>\n",
       "    <tr>\n",
       "      <th>logistics</th>\n",
       "      <td>0.019444</td>\n",
       "      <td>0.654374</td>\n",
       "      <td>3.275000</td>\n",
       "      <td>2.002778</td>\n",
       "      <td>6.527778</td>\n",
       "      <td>0.493084</td>\n",
       "      <td>0.208333</td>\n",
       "      <td>184.589924</td>\n",
       "      <td>0.308333</td>\n",
       "    </tr>\n",
       "    <tr>\n",
       "      <th>marketing</th>\n",
       "      <td>0.042394</td>\n",
       "      <td>0.657694</td>\n",
       "      <td>3.280549</td>\n",
       "      <td>1.995012</td>\n",
       "      <td>6.503741</td>\n",
       "      <td>0.502411</td>\n",
       "      <td>0.219451</td>\n",
       "      <td>184.469963</td>\n",
       "      <td>0.302993</td>\n",
       "    </tr>\n",
       "    <tr>\n",
       "      <th>operations</th>\n",
       "      <td>0.029566</td>\n",
       "      <td>0.653397</td>\n",
       "      <td>3.271353</td>\n",
       "      <td>2.012484</td>\n",
       "      <td>6.608410</td>\n",
       "      <td>0.504620</td>\n",
       "      <td>0.206965</td>\n",
       "      <td>184.812006</td>\n",
       "      <td>0.286465</td>\n",
       "    </tr>\n",
       "    <tr>\n",
       "      <th>retail</th>\n",
       "      <td>0.033744</td>\n",
       "      <td>0.650152</td>\n",
       "      <td>3.266061</td>\n",
       "      <td>2.012330</td>\n",
       "      <td>6.591175</td>\n",
       "      <td>0.502769</td>\n",
       "      <td>0.218689</td>\n",
       "      <td>184.735075</td>\n",
       "      <td>0.305646</td>\n",
       "    </tr>\n",
       "    <tr>\n",
       "      <th>sales</th>\n",
       "      <td>0.026553</td>\n",
       "      <td>0.651631</td>\n",
       "      <td>3.286245</td>\n",
       "      <td>2.011152</td>\n",
       "      <td>6.535847</td>\n",
       "      <td>0.504520</td>\n",
       "      <td>0.211896</td>\n",
       "      <td>184.616739</td>\n",
       "      <td>0.285183</td>\n",
       "    </tr>\n",
       "    <tr>\n",
       "      <th>support</th>\n",
       "      <td>0.031293</td>\n",
       "      <td>0.650467</td>\n",
       "      <td>3.268027</td>\n",
       "      <td>2.047619</td>\n",
       "      <td>6.564626</td>\n",
       "      <td>0.506579</td>\n",
       "      <td>0.204082</td>\n",
       "      <td>184.642816</td>\n",
       "      <td>0.288435</td>\n",
       "    </tr>\n",
       "  </tbody>\n",
       "</table>\n",
       "</div>"
      ],
      "text/plain": [
       "             promoted    review  projects    salary    tenure  satisfaction  \\\n",
       "department                                                                    \n",
       "IT           0.022472  0.647746  3.289326  2.044944  6.609551      0.515818   \n",
       "admin        0.037825  0.647086  3.278960  2.040189  6.498818      0.519444   \n",
       "engineering  0.023087  0.650601  3.263852  2.020449  6.558047      0.504944   \n",
       "finance      0.047264  0.654934  3.293532  2.029851  6.440299      0.497183   \n",
       "logistics    0.019444  0.654374  3.275000  2.002778  6.527778      0.493084   \n",
       "marketing    0.042394  0.657694  3.280549  1.995012  6.503741      0.502411   \n",
       "operations   0.029566  0.653397  3.271353  2.012484  6.608410      0.504620   \n",
       "retail       0.033744  0.650152  3.266061  2.012330  6.591175      0.502769   \n",
       "sales        0.026553  0.651631  3.286245  2.011152  6.535847      0.504520   \n",
       "support      0.031293  0.650467  3.268027  2.047619  6.564626      0.506579   \n",
       "\n",
       "                bonus  avg_hrs_month      left  \n",
       "department                                      \n",
       "IT           0.221910     184.820946  0.308989  \n",
       "admin        0.186761     184.538120  0.281324  \n",
       "engineering  0.211082     184.691962  0.288259  \n",
       "finance      0.231343     184.375116  0.268657  \n",
       "logistics    0.208333     184.589924  0.308333  \n",
       "marketing    0.219451     184.469963  0.302993  \n",
       "operations   0.206965     184.812006  0.286465  \n",
       "retail       0.218689     184.735075  0.305646  \n",
       "sales        0.211896     184.616739  0.285183  \n",
       "support      0.204082     184.642816  0.288435  "
      ]
     },
     "execution_count": 23,
     "metadata": {},
     "output_type": "execute_result"
    }
   ],
   "source": [
    "df1.groupby('department').mean()\n",
    "#df.columns"
   ]
  },
  {
   "cell_type": "markdown",
   "id": "5e9c2e4b-4b46-40e7-8d3b-0675df56d30c",
   "metadata": {},
   "source": [
    "- IT, Logistics,retail departments are the top three having highest turnover in ascending order.\n",
    "- Finance department has lowest turnover rate."
   ]
  },
  {
   "cell_type": "markdown",
   "id": "06f6edad-74c2-4841-9f7c-cf87f2d8274c",
   "metadata": {},
   "source": [
    "B) Visualization"
   ]
  },
  {
   "cell_type": "markdown",
   "id": "122eb14b-b013-48c2-8a6a-1699ce34e01b",
   "metadata": {},
   "source": [
    "- The frequency of employee turnover depends  on the department they work for. Thus, department can be a good predictor of the outcome variable.\n",
    "- Also, the frequency of employee turnover depends  on their salary, tunure, promotion, projects and bonus. "
   ]
  },
  {
   "cell_type": "code",
   "execution_count": null,
   "id": "f846256d-a008-4904-9aea-f4e151d7b123",
   "metadata": {},
   "outputs": [
    {
     "data": {
      "image/png": "[encoded data removed]",
      "text/plain": [
       "<Figure size 1440x1080 with 9 Axes>"
      ]
     },
     "metadata": {
      "needs_background": "light"
     },
     "output_type": "display_data"
    }
   ],
   "source": [
    "#distribution of each variable\n",
    "num_bins = 10\n",
    "df.hist(bins=num_bins, figsize=(20,15))\n",
    "plt.savefig(\"df_histogram_plots\")\n",
    "plt.show()"
   ]
  },
  {
   "cell_type": "markdown",
   "id": "2323b4e7-8bd7-4c03-b6b8-f16c7170784e",
   "metadata": {},
   "source": [
    "# Model and prediction"
   ]
  },
  {
   "cell_type": "markdown",
   "id": "856373da-b691-4fb2-b0f5-b902228dbb75",
   "metadata": {},
   "source": [
    "We need to predict employes turnover  and get variables which significant with great accuracy. \n",
    "So our our target is \"left\" variable and all others are predictors.\n",
    " We know that feature selection method help us to decide which variable is significate to predict the target variable."
   ]
  },
  {
   "cell_type": "code",
   "execution_count": null,
   "id": "d298030e-f59f-43d1-be2c-c4a0faf4abd4",
   "metadata": {},
   "outputs": [
    {
     "data": {
      "text/plain": [
       "Index(['department', 'promoted', 'review', 'projects', 'salary', 'tenure',\n",
       "       'satisfaction', 'bonus', 'avg_hrs_month', 'left', 'dep_code'],\n",
       "      dtype='object')"
      ]
     },
     "execution_count": 25,
     "metadata": {},
     "output_type": "execute_result"
    }
   ],
   "source": [
    "#encode department\n",
    "from sklearn.preprocessing import OrdinalEncoder\n",
    "\n",
    "ord_enc = OrdinalEncoder()\n",
    "df[\"dep_code\"] = ord_enc.fit_transform(df[[\"department\"]])\n",
    "df1=df[[\"department\", \"dep_code\"]]\n",
    "df.columns"
   ]
  },
  {
   "cell_type": "code",
   "execution_count": null,
   "id": "bf233dde-5847-4c6f-aa38-d23b0d556e80",
   "metadata": {},
   "outputs": [
    {
     "data": {
      "application/com.datacamp.data-table.v1+json": {
       "is_truncated": false,
       "table": {
        "data": [
         {
          "dep_code": 6,
          "department": "operations",
          "index": 0
         },
         {
          "dep_code": 6,
          "department": "operations",
          "index": 1
         },
         {
          "dep_code": 9,
          "department": "support",
          "index": 2
         },
         {
          "dep_code": 4,
          "department": "logistics",
          "index": 3
         },
         {
          "dep_code": 8,
          "department": "sales",
          "index": 4
         }
        ],
        "schema": {
         "fields": [
          {
           "name": "index",
           "type": "integer"
          },
          {
           "name": "department",
           "type": "string"
          },
          {
           "name": "dep_code",
           "type": "number"
          }
         ],
         "pandas_version": "0.20.0",
         "primaryKey": [
          "index"
         ]
        }
       }
      },
      "text/html": [
       "<div>\n",
       "<style scoped>\n",
       "    .dataframe tbody tr th:only-of-type {\n",
       "        vertical-align: middle;\n",
       "    }\n",
       "\n",
       "    .dataframe tbody tr th {\n",
       "        vertical-align: top;\n",
       "    }\n",
       "\n",
       "    .dataframe thead th {\n",
       "        text-align: right;\n",
       "    }\n",
       "</style>\n",
       "<table border=\"1\" class=\"dataframe\">\n",
       "  <thead>\n",
       "    <tr style=\"text-align: right;\">\n",
       "      <th></th>\n",
       "      <th>department</th>\n",
       "      <th>dep_code</th>\n",
       "    </tr>\n",
       "  </thead>\n",
       "  <tbody>\n",
       "    <tr>\n",
       "      <th>0</th>\n",
       "      <td>operations</td>\n",
       "      <td>6.0</td>\n",
       "    </tr>\n",
       "    <tr>\n",
       "      <th>1</th>\n",
       "      <td>operations</td>\n",
       "      <td>6.0</td>\n",
       "    </tr>\n",
       "    <tr>\n",
       "      <th>2</th>\n",
       "      <td>support</td>\n",
       "      <td>9.0</td>\n",
       "    </tr>\n",
       "    <tr>\n",
       "      <th>3</th>\n",
       "      <td>logistics</td>\n",
       "      <td>4.0</td>\n",
       "    </tr>\n",
       "    <tr>\n",
       "      <th>4</th>\n",
       "      <td>sales</td>\n",
       "      <td>8.0</td>\n",
       "    </tr>\n",
       "  </tbody>\n",
       "</table>\n",
       "</div>"
      ],
      "text/plain": [
       "   department  dep_code\n",
       "0  operations       6.0\n",
       "1  operations       6.0\n",
       "2     support       9.0\n",
       "3   logistics       4.0\n",
       "4       sales       8.0"
      ]
     },
     "execution_count": 26,
     "metadata": {},
     "output_type": "execute_result"
    }
   ],
   "source": [
    "df.dep_code.unique().tolist()\n",
    "df[[\"department\", \"dep_code\"]].head()"
   ]
  },
  {
   "cell_type": "code",
   "execution_count": null,
   "id": "a25eba9f-609a-46f4-b2fe-244ca0a7db50",
   "metadata": {},
   "outputs": [
    {
     "data": {
      "text/plain": [
       "<AxesSubplot:ylabel='department'>"
      ]
     },
     "execution_count": 27,
     "metadata": {},
     "output_type": "execute_result"
    },
    {
     "data": {
      "image/png": "[encoded data removed]",
      "text/plain": [
       "<Figure size 432x288 with 1 Axes>"
      ]
     },
     "metadata": {},
     "output_type": "display_data"
    }
   ],
   "source": [
    "df['department'].value_counts().plot(kind='pie')"
   ]
  },
  {
   "cell_type": "code",
   "execution_count": null,
   "id": "87c5cd59-ebb1-4d9e-abf8-4936b25dbfc2",
   "metadata": {},
   "outputs": [
    {
     "data": {
      "text/plain": [
       "(9540, 10)"
      ]
     },
     "execution_count": 28,
     "metadata": {},
     "output_type": "execute_result"
    }
   ],
   "source": [
    "# Drop the 'department'  column\n",
    "df.drop(['department'], axis='columns', inplace=True)\n",
    "df.shape"
   ]
  },
  {
   "cell_type": "code",
   "execution_count": null,
   "id": "89b2ead7-d11f-43f0-9cb3-8633f0856bbd",
   "metadata": {},
   "outputs": [],
   "source": [
    "df_vars=df.columns.values.tolist()\n",
    "y=['left']\n",
    "X=[]\n",
    "for i in df_vars:\n",
    "    if i not in y:\n",
    "        X.append(i)"
   ]
  },
  {
   "cell_type": "code",
   "execution_count": null,
   "id": "e5f18bc9-a2dd-43b9-8d52-03791be7d93c",
   "metadata": {},
   "outputs": [
    {
     "data": {
      "text/plain": [
       "['promoted',\n",
       " 'review',\n",
       " 'projects',\n",
       " 'salary',\n",
       " 'tenure',\n",
       " 'satisfaction',\n",
       " 'bonus',\n",
       " 'avg_hrs_month',\n",
       " 'dep_code']"
      ]
     },
     "execution_count": 30,
     "metadata": {},
     "output_type": "execute_result"
    }
   ],
   "source": [
    "X"
   ]
  },
  {
   "cell_type": "markdown",
   "id": "53164904-e0a7-49d8-ab3b-4f87d6464f49",
   "metadata": {},
   "source": [
    "The goal of recursive feature elimination (RFE) is to select features by recursively considering smaller and smaller sets of features. you can get more info about RFE https://scikit-learn.org/stable/modules/generated/sklearn.feature_selection.RFE.html"
   ]
  },
  {
   "cell_type": "code",
   "execution_count": null,
   "id": "c6d6e461-12bd-4d8a-9590-314aeed2e7e0",
   "metadata": {},
   "outputs": [
    {
     "name": "stdout",
     "output_type": "stream",
     "text": [
      "[ True  True False False False  True False False False]\n",
      "[1 1 3 6 2 1 4 5 7]\n"
     ]
    }
   ],
   "source": [
    "from sklearn.feature_selection import RFE\n",
    "from sklearn.linear_model import LogisticRegression\n",
    "model = LogisticRegression()\n",
    "rfe = RFE(model, 3)\n",
    "rfe = rfe.fit(df[X], df[y])\n",
    "print(rfe.support_)\n",
    "print(rfe.ranking_)"
   ]
  },
  {
   "cell_type": "markdown",
   "id": "6a612db4-6d1c-48a4-bcca-d21119d5b2f6",
   "metadata": {},
   "source": [
    "RFE chose the 3 variables for us, which are marked True in the support_ array and marked with a choice “1” in the ranking_array. They are:\n",
    "\n",
    "[\"promoted\",\"review\",\"satisfaction\"]"
   ]
  },
  {
   "cell_type": "code",
   "execution_count": null,
   "id": "b2a659de-4ffa-4ae5-a754-507cd001c5dc",
   "metadata": {},
   "outputs": [
    {
     "data": {
      "text/plain": [
       "(array([0, 1, 2, 3, 4, 5, 6, 7, 8, 9]),\n",
       " [Text(0, 0, '0.0'),\n",
       "  Text(1, 0, '1.0'),\n",
       "  Text(2, 0, '2.0'),\n",
       "  Text(3, 0, '3.0'),\n",
       "  Text(4, 0, '4.0'),\n",
       "  Text(5, 0, '5.0'),\n",
       "  Text(6, 0, '6.0'),\n",
       "  Text(7, 0, '7.0'),\n",
       "  Text(8, 0, '8.0'),\n",
       "  Text(9, 0, '9.0')])"
      ]
     },
     "execution_count": 32,
     "metadata": {},
     "output_type": "execute_result"
    },
    {
     "data": {
      "image/png": "[encoded data removed]",
      "text/plain": [
       "<Figure size 432x288 with 1 Axes>"
      ]
     },
     "metadata": {
      "needs_background": "light"
     },
     "output_type": "display_data"
    }
   ],
   "source": [
    "# Types of colors\n",
    "color_types = ['#78C850','#F08030','#6890F0','#A8B820','#A8A878','#A040A0','#F8D030',  \n",
    "                '#E0C068','#EE99AC','#C03028','#F85888','#B8A038','#705898','#98D8D8','#7038F8']\n",
    "\n",
    "# Count Plot (a.k.a. Bar Plot)\n",
    "sns.countplot(x='dep_code', data=df, palette=color_types).set_title('Employee Department Distribution');\n",
    " \n",
    "# Rotate x-labels\n",
    "plt.xticks(rotation=-45)"
   ]
  },
  {
   "cell_type": "code",
   "execution_count": null,
   "id": "d17be46f-f8f3-48a0-8b2b-cb1a65f13f74",
   "metadata": {},
   "outputs": [],
   "source": []
  },
  {
   "cell_type": "markdown",
   "id": "47810386-b326-40b2-b6ab-a54f3bf55653",
   "metadata": {},
   "source": [
    " ML models"
   ]
  },
  {
   "cell_type": "code",
   "execution_count": null,
   "id": "39dab972-ea10-4f13-8c7c-24de1574ba3a",
   "metadata": {},
   "outputs": [],
   "source": [
    "from sklearn.neighbors import KNeighborsClassifier\n",
    "from sklearn.model_selection import train_test_split\n",
    "from sklearn.linear_model import LogisticRegression\n",
    "from sklearn import metrics\n",
    "from sklearn.metrics import accuracy_score\n",
    "from sklearn.ensemble import RandomForestClassifier\n",
    "from sklearn import model_selection\n",
    "from sklearn.model_selection import cross_val_score\n",
    "from sklearn.svm import SVC\n",
    "from sklearn.metrics import classification_report\n",
    "from sklearn.metrics import confusion_matrix\n",
    "from sklearn.metrics import roc_auc_score\n",
    "from sklearn.metrics import roc_curve"
   ]
  },
  {
   "cell_type": "code",
   "execution_count": null,
   "id": "cb2aa608-e899-4643-aa18-78ddde5cd2b0",
   "metadata": {},
   "outputs": [],
   "source": [
    "# featurs\n",
    "columns=['promoted','review','projects', 'salary', 'tenure', 'satisfaction', 'bonus', 'avg_hrs_month',  'dep_code'] \n",
    "x=df[columns]\n",
    "y=df['left']"
   ]
  },
  {
   "cell_type": "code",
   "execution_count": null,
   "id": "e78b8bf8-cea8-48a7-94cc-f7f69203768e",
   "metadata": {},
   "outputs": [],
   "source": [
    "\n",
    "#Split data into training and test samples\n",
    "x_train, x_test, y_train, y_test = train_test_split(x, y, test_size=0.2, random_state=0)"
   ]
  },
  {
   "cell_type": "markdown",
   "id": "4dd01203-e9af-4fe0-bfe2-06c5f9a93ede",
   "metadata": {},
   "source": [
    " A) Logistic Regression \n"
   ]
  },
  {
   "cell_type": "code",
   "execution_count": null,
   "id": "53d0059e-2906-4447-81e6-2418020457ee",
   "metadata": {},
   "outputs": [
    {
     "name": "stdout",
     "output_type": "stream",
     "text": [
      "Logistic regression accuracy: 0.724\n"
     ]
    }
   ],
   "source": [
    "model = LogisticRegression()\n",
    "model.fit(x_train, y_train)\n",
    "print('Logistic regression accuracy: {:.3f}'.format(accuracy_score(y_test, model.predict(x_test))))"
   ]
  },
  {
   "cell_type": "markdown",
   "id": "ddc2de98-70c4-4a68-9994-1331be9b4efa",
   "metadata": {},
   "source": [
    "B) Random Forest Classifier\n"
   ]
  },
  {
   "cell_type": "code",
   "execution_count": null,
   "id": "8ba31c58-d6b8-4576-9ca2-19f9c9eca9c4",
   "metadata": {},
   "outputs": [
    {
     "name": "stdout",
     "output_type": "stream",
     "text": [
      "Random Forest Accuracy: 0.853\n"
     ]
    }
   ],
   "source": [
    "rf = RandomForestClassifier()\n",
    "rf.fit(x_train, y_train)\n",
    "print('Random Forest Accuracy: {:.3f}'.format(accuracy_score(y_test, rf.predict(x_test))))\n"
   ]
  },
  {
   "cell_type": "markdown",
   "id": "5ab93b72-38cc-4356-8b93-478c7a391c04",
   "metadata": {},
   "source": [
    "C) SVM Classifier\n"
   ]
  },
  {
   "cell_type": "code",
   "execution_count": null,
   "id": "6b8c4f93-1d6d-45a6-a3e7-1cded65ae63a",
   "metadata": {},
   "outputs": [
    {
     "name": "stdout",
     "output_type": "stream",
     "text": [
      "Support vector machine accuracy: 0.698\n"
     ]
    }
   ],
   "source": [
    "svc = SVC()\n",
    "svc.fit(x_train, y_train)\n",
    "print('Support vector machine accuracy: {:.3f}'.format(accuracy_score(y_test, svc.predict(x_test))))"
   ]
  },
  {
   "cell_type": "code",
   "execution_count": null,
   "id": "d7269d3e-b2aa-45ff-b922-eda9aa6d7fa4",
   "metadata": {},
   "outputs": [
    {
     "name": "stdout",
     "output_type": "stream",
     "text": [
      "Accuracy is  73.53249475890985 % for K-Value: 1\n",
      "Accuracy is  74.1090146750524 % for K-Value: 2\n",
      "Accuracy is  71.96016771488469 % for K-Value: 3\n",
      "Accuracy is  74.21383647798741 % for K-Value: 4\n",
      "Accuracy is  73.32285115303984 % for K-Value: 5\n",
      "Accuracy is  74.58071278825996 % for K-Value: 6\n",
      "Accuracy is  74.94758909853249 % for K-Value: 7\n",
      "Accuracy is  74.58071278825996 % for K-Value: 8\n",
      "Accuracy is  75.05241090146751 % for K-Value: 9\n",
      "Accuracy is  75.05241090146751 % for K-Value: 10\n",
      "Accuracy is  75.83857442348008 % for K-Value: 11\n",
      "Accuracy is  75.26205450733752 % for K-Value: 12\n",
      "Accuracy is  75.62893081761007 % for K-Value: 13\n",
      "Accuracy is  75.68134171907757 % for K-Value: 14\n",
      "Accuracy is  75.36687631027253 % for K-Value: 15\n",
      "Accuracy is  75.57651991614256 % for K-Value: 16\n",
      "Accuracy is  75.15723270440252 % for K-Value: 17\n",
      "Accuracy is  75.68134171907757 % for K-Value: 18\n",
      "Accuracy is  76.41509433962264 % for K-Value: 19\n",
      "Accuracy is  75.52410901467506 % for K-Value: 20\n",
      "Accuracy is  75.68134171907757 % for K-Value: 21\n",
      "Accuracy is  75.104821802935 % for K-Value: 22\n",
      "Accuracy is  74.94758909853249 % for K-Value: 23\n",
      "Accuracy is  75.05241090146751 % for K-Value: 24\n",
      "Accuracy is  74.94758909853249 % for K-Value: 25\n"
     ]
    }
   ],
   "source": [
    "for K in range(25):\n",
    "    K_value = K+1\n",
    "    knn = KNeighborsClassifier(n_neighbors = K_value, weights='uniform', algorithm='auto')\n",
    "    knn.fit(x_train, y_train) \n",
    "    y_pred = knn.predict(x_test)\n",
    "    print (\"Accuracy is \", accuracy_score(y_test,y_pred)*100,\"% for K-Value:\",K_value)"
   ]
  },
  {
   "cell_type": "markdown",
   "id": "4d760373-e433-4f6e-9d38-6a4a76bec0d4",
   "metadata": {},
   "source": [
    "From the above models we can see that Random forest is better model. It performs 86%. However, we have to validate our result to decide wheather random forest is best predictive model for employees turnover. So I will apply Cross-validation to estimate how it is accurate predictive model and use in practice."
   ]
  },
  {
   "cell_type": "code",
   "execution_count": null,
   "id": "1926bee7-fe7e-472b-9de3-47ba36709b3f",
   "metadata": {},
   "outputs": [],
   "source": [
    "kfold = model_selection.KFold(n_splits=10,shuffle=True, random_state=0)\n",
    "scoring = 'accuracy'"
   ]
  },
  {
   "cell_type": "code",
   "execution_count": null,
   "id": "9abdaa2f-b225-4395-a51f-ff6835c10117",
   "metadata": {},
   "outputs": [
    {
     "name": "stdout",
     "output_type": "stream",
     "text": [
      "10-fold cross validation average accuracy for SVM Classifier: 0.711\n"
     ]
    }
   ],
   "source": [
    "# SVM\n",
    "model_CVs = SVC()\n",
    "results = model_selection.cross_val_score(model_CVs, x_train, y_train, cv=kfold, scoring=scoring)\n",
    "print(\"10-fold cross validation average accuracy for SVM Classifier: %.3f\" % (results.mean()))"
   ]
  },
  {
   "cell_type": "code",
   "execution_count": null,
   "id": "3c04aa31-5ba9-4ffa-9f8e-7a6c4eb291d4",
   "metadata": {
    "tags": []
   },
   "outputs": [
    {
     "name": "stdout",
     "output_type": "stream",
     "text": [
      "10-fold cross validation average accuracy for Random Forest Classifier: 0.874\n"
     ]
    }
   ],
   "source": [
    "# Random Forest\n",
    "model_CVs = RandomForestClassifier()\n",
    "results = model_selection.cross_val_score(model_CVs, x_train, y_train, cv=kfold, scoring=scoring)\n",
    "print(\"10-fold cross validation average accuracy for Random Forest Classifier: %.3f\" % (results.mean()))"
   ]
  },
  {
   "cell_type": "code",
   "execution_count": null,
   "id": "85bc8da1-09ed-446c-9b4e-021da3cbba71",
   "metadata": {},
   "outputs": [
    {
     "name": "stdout",
     "output_type": "stream",
     "text": [
      "10-fold cross validation average accuracy for KNeighbors Classifier: 0.749\n"
     ]
    }
   ],
   "source": [
    "#KNN\n",
    "model_CVs = KNeighborsClassifier()\n",
    "results = model_selection.cross_val_score(model_CVs, x_train, y_train, cv=kfold, scoring=scoring)\n",
    "print(\"10-fold cross validation average accuracy for KNeighbors Classifier: %.3f\" % (results.mean()))"
   ]
  },
  {
   "cell_type": "code",
   "execution_count": null,
   "id": "dc7ee926-3f79-4286-8b96-06c27b3528a0",
   "metadata": {},
   "outputs": [
    {
     "name": "stdout",
     "output_type": "stream",
     "text": [
      "10-fold cross validation average accuracy for LogisticRegression Classifier: 0.731\n"
     ]
    }
   ],
   "source": [
    "#Logeistic Regression\n",
    "model_CVs = LogisticRegression()\n",
    "results = model_selection.cross_val_score(model_CVs, x_train, y_train, cv=kfold, scoring=scoring)\n",
    "print(\"10-fold cross validation average accuracy for LogisticRegression Classifier: %.3f\" % (results.mean()))"
   ]
  },
  {
   "cell_type": "markdown",
   "id": "33c52d76-f4ef-4512-938e-21acc55e2608",
   "metadata": {},
   "source": [
    " The cross validation scoer results remains  close to the KNN, Random Forest & SVM model accuracy. However, we need to evaluate the accuracy of the model using Precision and Recall."
   ]
  },
  {
   "cell_type": "markdown",
   "id": "f8fcad7d-b8eb-46ce-aa1c-a271d17f4ca6",
   "metadata": {},
   "source": [
    "# Precision and Recall\n",
    "Next we see confusion matrix helps us to visualize predictions made by a classifier and evaluate its accuracy. The following question has to be raised:\n",
    " - When an employee left?\n",
    " "
   ]
  },
  {
   "cell_type": "code",
   "execution_count": null,
   "id": "68924c20-ab28-4bfc-be02-169d61b0b511",
   "metadata": {},
   "outputs": [
    {
     "name": "stdout",
     "output_type": "stream",
     "text": [
      "              precision    recall  f1-score   support\n",
      "\n",
      "           0       0.87      0.93      0.90      1332\n",
      "           1       0.80      0.68      0.74       576\n",
      "\n",
      "    accuracy                           0.85      1908\n",
      "   macro avg       0.84      0.80      0.82      1908\n",
      "weighted avg       0.85      0.85      0.85      1908\n",
      "\n"
     ]
    }
   ],
   "source": [
    "#Precison Recall Scores for Random Forest\n",
    "print(classification_report(y_test, rf.predict(x_test)))"
   ]
  },
  {
   "cell_type": "code",
   "execution_count": null,
   "id": "8544ff57-48e8-4af5-bc39-2effd2b40a94",
   "metadata": {},
   "outputs": [
    {
     "data": {
      "image/png": "[encoded data removed]",
      "text/plain": [
       "<Figure size 432x288 with 2 Axes>"
      ]
     },
     "metadata": {
      "needs_background": "light"
     },
     "output_type": "display_data"
    }
   ],
   "source": [
    "#Confusion Matrix for Random Forest\n",
    "y_pred = rf.predict(x_test)\n",
    "forest_cm = metrics.confusion_matrix(y_pred, y_test, [1,0])\n",
    "sns.heatmap(forest_cm, annot=True, fmt='.2f',xticklabels = [\"Left\", \"Stayed\"] , yticklabels = [\"Left\", \"Stayed\"] )\n",
    "plt.ylabel('True class')\n",
    "plt.xlabel('Predicted class')\n",
    "plt.title('Random Forest')\n",
    "plt.savefig('random_forest')"
   ]
  },
  {
   "cell_type": "code",
   "execution_count": null,
   "id": "2141c9a6-3a0e-4507-b402-39eeeb5c062d",
   "metadata": {},
   "outputs": [
    {
     "data": {
      "text/plain": [
       "0.6909722222222222"
      ]
     },
     "execution_count": 47,
     "metadata": {},
     "output_type": "execute_result"
    }
   ],
   "source": [
    "398/576"
   ]
  },
  {
   "cell_type": "code",
   "execution_count": null,
   "id": "ab9a5b4f-e376-44d8-b1e7-dc079d6b1056",
   "metadata": {},
   "outputs": [
    {
     "name": "stdout",
     "output_type": "stream",
     "text": [
      "              precision    recall  f1-score   support\n",
      "\n",
      "           0       0.76      0.93      0.84      1332\n",
      "           1       0.67      0.34      0.45       576\n",
      "\n",
      "    accuracy                           0.75      1908\n",
      "   macro avg       0.72      0.63      0.64      1908\n",
      "weighted avg       0.74      0.75      0.72      1908\n",
      "\n"
     ]
    }
   ],
   "source": [
    "#Precison Recall Scores for KNN\n",
    "print(classification_report(y_test, knn.predict(x_test)))"
   ]
  },
  {
   "cell_type": "code",
   "execution_count": null,
   "id": "405f9c3f-a99f-4977-a295-db95cf97dcde",
   "metadata": {},
   "outputs": [
    {
     "data": {
      "image/png": "[encoded data removed]",
      "text/plain": [
       "<Figure size 432x288 with 2 Axes>"
      ]
     },
     "metadata": {
      "needs_background": "light"
     },
     "output_type": "display_data"
    }
   ],
   "source": [
    "#Confusion Matrix for KNN\n",
    "y_pred = knn.predict(x_test)\n",
    "knn_cm = metrics.confusion_matrix(y_pred, y_test, [1,0])\n",
    "sns.heatmap(knn_cm, annot=True, fmt='.2f',xticklabels = [\"Left\", \"Stayed\"] , yticklabels = [\"Left\", \"Stayed\"] )\n",
    "plt.ylabel('True class')\n",
    "plt.xlabel('Predicted class')\n",
    "plt.title('KNN')\n",
    "plt.savefig('KNN')"
   ]
  },
  {
   "cell_type": "code",
   "execution_count": null,
   "id": "4feea20e-0493-4087-a401-dd6949a5c11f",
   "metadata": {},
   "outputs": [
    {
     "data": {
      "text/plain": [
       "0.3368055555555556"
      ]
     },
     "execution_count": 50,
     "metadata": {},
     "output_type": "execute_result"
    }
   ],
   "source": [
    "194/576"
   ]
  },
  {
   "cell_type": "code",
   "execution_count": null,
   "id": "c97557a2-8c15-4e67-ac74-3a87899a0e7a",
   "metadata": {},
   "outputs": [
    {
     "name": "stdout",
     "output_type": "stream",
     "text": [
      "              precision    recall  f1-score   support\n",
      "\n",
      "           0       0.73      0.97      0.83      1332\n",
      "           1       0.68      0.16      0.26       576\n",
      "\n",
      "    accuracy                           0.72      1908\n",
      "   macro avg       0.70      0.56      0.54      1908\n",
      "weighted avg       0.71      0.72      0.66      1908\n",
      "\n"
     ]
    }
   ],
   "source": [
    "#Precison Recall Scores for Logistic Regression\n",
    "print(classification_report(y_test, model.predict(x_test)))"
   ]
  },
  {
   "cell_type": "code",
   "execution_count": null,
   "id": "a325c867-6f4a-4880-acbf-7a601e34cbae",
   "metadata": {},
   "outputs": [
    {
     "data": {
      "image/png": "[encoded data removed]",
      "text/plain": [
       "<Figure size 432x288 with 2 Axes>"
      ]
     },
     "metadata": {
      "needs_background": "light"
     },
     "output_type": "display_data"
    }
   ],
   "source": [
    "#Confusion Matrix for Logistic Regression\n",
    "y_pred = model.predict(x_test)\n",
    "model_cm = metrics.confusion_matrix(y_pred, y_test, [1,0])\n",
    "sns.heatmap(model_cm, annot=True, fmt='.2f',xticklabels = [\"Left\", \"Stayed\"] , yticklabels = [\"Left\", \"Stayed\"] )\n",
    "plt.ylabel('True class')\n",
    "plt.xlabel('Predicted class')\n",
    "plt.title('KNN')\n",
    "plt.savefig('KNN')"
   ]
  },
  {
   "cell_type": "code",
   "execution_count": null,
   "id": "b042a43d-bc44-4ed8-b2b3-7f35070b9955",
   "metadata": {},
   "outputs": [
    {
     "data": {
      "text/plain": [
       "0.1597222222222222"
      ]
     },
     "execution_count": 53,
     "metadata": {},
     "output_type": "execute_result"
    }
   ],
   "source": [
    "92/576"
   ]
  },
  {
   "cell_type": "code",
   "execution_count": null,
   "id": "c62b54a6-8c74-48ec-b6b4-b65106540ebc",
   "metadata": {},
   "outputs": [
    {
     "name": "stdout",
     "output_type": "stream",
     "text": [
      "              precision    recall  f1-score   support\n",
      "\n",
      "           0       0.70      1.00      0.82      1332\n",
      "           1       0.00      0.00      0.00       576\n",
      "\n",
      "    accuracy                           0.70      1908\n",
      "   macro avg       0.35      0.50      0.41      1908\n",
      "weighted avg       0.49      0.70      0.57      1908\n",
      "\n"
     ]
    }
   ],
   "source": [
    "#Precison Recall Scores for SVM\n",
    "print(classification_report(y_test, svc.predict(x_test)))"
   ]
  },
  {
   "cell_type": "code",
   "execution_count": null,
   "id": "1afab432-8092-4b64-be9e-0ce53d7fd17b",
   "metadata": {},
   "outputs": [
    {
     "data": {
      "image/png": "[encoded data removed]",
      "text/plain": [
       "<Figure size 432x288 with 2 Axes>"
      ]
     },
     "metadata": {
      "needs_background": "light"
     },
     "output_type": "display_data"
    }
   ],
   "source": [
    "#Confusion Matrix for Logistic Regression\n",
    "y_pred = svc.predict(x_test)\n",
    "svm_cm = metrics.confusion_matrix(y_pred, y_test, [1,0])\n",
    "sns.heatmap(svm_cm, annot=True, fmt='.2f',xticklabels = [\"Left\", \"Stayed\"] , yticklabels = [\"Left\", \"Stayed\"] )\n",
    "plt.ylabel('True class')\n",
    "plt.xlabel('Predicted class')\n",
    "plt.title('SVM')\n",
    "plt.savefig('SVM')"
   ]
  },
  {
   "cell_type": "markdown",
   "id": "726b1c5a-7c3f-4011-8278-c0de7f2d92e5",
   "metadata": {},
   "source": [
    "From all of the turnover cases, random forest correctly retrieved 398 out of 576. This translates to a turnover \"recall\" and \"precision of about 69% (398/576), which is  better than KNN (33.6%), logistic regression (15.9%) and support vector machines (0%)"
   ]
  },
  {
   "cell_type": "markdown",
   "id": "f4d8f98a-79d3-4083-850d-bec7330cb1d5",
   "metadata": {},
   "source": [
    "# ROC Curve"
   ]
  },
  {
   "cell_type": "code",
   "execution_count": null,
   "id": "7d1c6d32-6ea4-4a2b-b932-88185060b256",
   "metadata": {},
   "outputs": [
    {
     "data": {
      "image/png": "[encoded data removed]",
      "text/plain": [
       "<Figure size 432x288 with 1 Axes>"
      ]
     },
     "metadata": {
      "needs_background": "light"
     },
     "output_type": "display_data"
    }
   ],
   "source": [
    "#ROC for logistic regression\n",
    "log_roc_auc = roc_auc_score(y_test, model.predict(x_test))\n",
    "fpr, tpr, thresholds = roc_curve(y_test, model.predict_proba(x_test)[:,1])\n",
    "\n",
    "#ROC for Random Forrest\n",
    "rf_roc_auc = roc_auc_score(y_test, rf.predict(x_test))\n",
    "rf_fpr, rf_tpr, rf_thresholds = roc_curve(y_test, rf.predict_proba(x_test)[:,1])\n",
    "\n",
    "#ROC Curve for Random Forest & Logistic Regression\n",
    "plt.figure()\n",
    "plt.plot(fpr, tpr, label='Logistic Regression (area = %0.2f)' % log_roc_auc)\n",
    "plt.plot(rf_fpr, rf_tpr, label='Random Forest (area = %0.2f)' % rf_roc_auc)\n",
    "plt.plot([0, 1], [0, 1],'r--')\n",
    "plt.xlim([0.0, 1.0])\n",
    "plt.ylim([0.0, 1.05])\n",
    "plt.xlabel('False Positive Rate')\n",
    "plt.ylabel('True Positive Rate')\n",
    "plt.title('Receiver operating characteristic')\n",
    "plt.legend(loc=\"lower right\")\n",
    "plt.savefig('ROC_LR_RF')\n",
    "plt.show()"
   ]
  },
  {
   "cell_type": "code",
   "execution_count": null,
   "id": "0039648d-0261-4c20-9d8b-f25f1fd3363c",
   "metadata": {},
   "outputs": [
    {
     "data": {
      "image/png": "[encoded data removed]",
      "text/plain": [
       "<Figure size 432x288 with 1 Axes>"
      ]
     },
     "metadata": {
      "needs_background": "light"
     },
     "output_type": "display_data"
    }
   ],
   "source": [
    "#ROC for logistic regression\n",
    "knn_roc_auc = roc_auc_score(y_test, knn.predict(x_test))\n",
    "fpr, tpr, thresholds = roc_curve(y_test, knn.predict_proba(x_test)[:,1])\n",
    "\n",
    "#ROC for Random Forrest\n",
    "rf_roc_auc = roc_auc_score(y_test, rf.predict(x_test))\n",
    "rf_fpr, rf_tpr, rf_thresholds = roc_curve(y_test, rf.predict_proba(x_test)[:,1])\n",
    "\n",
    "#ROC Curve for Random Forest & Logistic Regression\n",
    "plt.figure()\n",
    "plt.plot(fpr, tpr, label='KNN (area = %0.2f)' % log_roc_auc)\n",
    "plt.plot(rf_fpr, rf_tpr, label='Random Forest (area = %0.2f)' % rf_roc_auc)\n",
    "plt.plot([0, 1], [0, 1],'r--')\n",
    "plt.xlim([0.0, 1.0])\n",
    "plt.ylim([0.0, 1.05])\n",
    "plt.xlabel('False Positive Rate')\n",
    "plt.ylabel('True Positive Rate')\n",
    "plt.title('Receiver operating characteristic')\n",
    "plt.legend(loc=\"lower right\")\n",
    "plt.savefig('ROC_KNN_RF')\n",
    "plt.show()"
   ]
  },
  {
   "cell_type": "markdown",
   "id": "004e87ef-be1a-4182-a959-1df75d380815",
   "metadata": {},
   "source": [
    "From the above ROC plots:the dotted line represents the ROC curve of a purely random classifier;  the model is definitely better than the no information reference point because it curves substantially above the diagonal line\n",
    "\n",
    "So my observation: \n",
    "- Random forest is fair to pridict employees turnover.\n",
    "\n"
   ]
  },
  {
   "cell_type": "markdown",
   "id": "7c8030e6-9fe7-4a7a-b00c-196d3e8a6d57",
   "metadata": {},
   "source": [
    "# Next is to determine Variable Imporatnce for Random Forest Classifier"
   ]
  },
  {
   "cell_type": "code",
   "execution_count": null,
   "id": "3882018d-bcac-42cd-aa2b-5a4f20324a23",
   "metadata": {},
   "outputs": [
    {
     "name": "stdout",
     "output_type": "stream",
     "text": [
      "promoted-0.37%\n",
      "bonus-1.27%\n",
      "salary-1.96%\n",
      "projects-2.01%\n",
      "dep_code-4.88%\n",
      "tenure-7.33%\n",
      "review-25.76%\n",
      "avg_hrs_month-26.83%\n",
      "satisfaction-29.58%\n"
     ]
    }
   ],
   "source": [
    "feature=np.array(columns)\n",
    "analysis_result=[]\n",
    "importance = rf.feature_importances_\n",
    "feature_indexes_by_importance = importance.argsort()\n",
    "for index in feature_indexes_by_importance:\n",
    "    print('{}-{:.2f}%'.format(feature[index], (importance[index] *100.0)))\n",
    "    analysis_result += ('{}-{:.2f}%'.format(feature[index], (importance[index] *100.0)))"
   ]
  },
  {
   "cell_type": "markdown",
   "id": "39f2b5de-2a17-40e0-a015-5ee4515394ce",
   "metadata": {},
   "source": [
    "We can see that random forest classifier predicts the most important factors. Here in descending order:\n",
    "\n",
    "    - satisfaction\n",
    "    - avg_hrs_month\n",
    "    - review\n",
    "    - department\n",
    "    - projects\n",
    "    - salary\n",
    "    - bonus\n",
    "    - promoted\n",
    "\n",
    "\n"
   ]
  },
  {
   "cell_type": "markdown",
   "id": "44abfc0c-6126-4edd-a556-feb95324c406",
   "metadata": {},
   "source": [
    "# Conclusion and recommendation"
   ]
  },
  {
   "cell_type": "markdown",
   "id": "e09d1353-9c23-4451-a628-f24d8ebdd53b",
   "metadata": {},
   "source": [
    "- We can see that 29% of employees are left. \n",
    "- IT, Logistics,retail departments are the top three having highest turnover in ascending order and Finance department has lowest turnover rate. \n",
    "- Random forest classifier is best predictive model.\n",
    "\n",
    "Based on my analysis I would recommend the following:\n",
    "- Campany should assess its employees satisfaction and do some measure.\n",
    "- Promotion length should be less than 24 months.\n",
    "- Do not take seriously employees composite evaluation score to promot them or to allow them to participate in projects.\n",
    "- Give appropriate bonus for all employees."
   ]
  },
  {
   "cell_type": "code",
   "execution_count": null,
   "id": "eea4ae47-256d-430f-976a-9428403e3e16",
   "metadata": {},
   "outputs": [],
   "source": []
  },
  {
   "cell_type": "markdown",
   "id": "b9dff5db",
   "metadata": {},
   "source": [
    "# Can you help reduce employee turnover?\n",
    "\n",
    "## 📖 Background\n",
    "You work for the human capital department of a large corporation. The Board is worried about the relatively high turnover, and your team must look into ways to reduce the number of employees leaving the company.\n",
    "\n",
    "The team needs to understand better the situation, which employees are more likely to leave, and why. Once it is clear what variables impact employee churn, you can present your findings along with your ideas on how to attack the problem."
   ]
  },
  {
   "cell_type": "markdown",
   "id": "51583c1b",
   "metadata": {},
   "source": [
    "## 💾 The data\n",
    "The department has assembled data on almost 10,000 employees. The team used information from exit interviews, performance reviews, and employee records.\n",
    "\n",
    "- \"department\" - the department the employee belongs to.\n",
    "- \"promoted\" - 1 if the employee was promoted in the previous 24 months, 0 otherwise.\n",
    "- \"review\" - the composite score the employee received in their last evaluation.\n",
    "- \"projects\" - how many projects the employee is involved in.\n",
    "- \"salary\" - for confidentiality reasons, salary comes in three tiers: low, medium, high.\n",
    "- \"tenure\" - how many years the employee has been at the company.\n",
    "- \"satisfaction\" - a measure of employee satisfaction from surveys.\n",
    "- \"avg_hrs_month\" - the average hours the employee worked in a month.\n",
    "- \"left\" - \"yes\" if the employee ended up leaving, \"no\" otherwise."
   ]
  },
  {
   "cell_type": "markdown",
   "id": "bd2cbbab",
   "metadata": {},
   "source": [
    "## 💪 Competition challenge\n",
    "\n",
    "Create a report that covers the following:\n",
    "1. Which department has the highest employee turnover? Which one has the lowest?\n",
    "2. Investigate which variables seem to be better predictors of employee departure.\n",
    "3. What recommendations would you make regarding ways to reduce employee turnover?"
   ]
  },
  {
   "cell_type": "markdown",
   "id": "0cf3e2eb",
   "metadata": {},
   "source": [
    "## ✅ Checklist before publishing into the competition\n",
    "- Rename your workspace to make it descriptive of your work. N.B. you should leave the notebook name as notebook.ipynb.\n",
    "- Remove redundant cells like the judging criteria, so the workbook is focused on your story.\n",
    "- Make sure the workbook reads well and explains how you found your insights.\n",
    "- Check that all the cells run without error."
   ]
  },
  {
   "cell_type": "markdown",
   "id": "8840d531-eac9-465b-96f4-e5b68c1bff65",
   "metadata": {},
   "source": [
    "# Load liberaries"
   ]
  },
  {
   "cell_type": "code",
   "execution_count": null,
   "id": "888ff0f2-3801-4777-bc33-156ec74d5515",
   "metadata": {},
   "outputs": [],
   "source": [
    "#import liberaries\n",
    "import numpy as np\n",
    "import pandas as pd\n",
    "import seaborn as sns\n",
    "import matplotlib.pyplot as plt"
   ]
  },
  {
   "cell_type": "code",
   "execution_count": null,
   "id": "abc71efc-425e-4f39-9582-1062627d11c5",
   "metadata": {},
   "outputs": [
    {
     "data": {
      "application/com.datacamp.data-table.v1+json": {
       "is_truncated": false,
       "table": {
        "data": [
         {
          "avg_hrs_month": 180.8660696668,
          "bonus": 0,
          "department": "operations",
          "index": 0,
          "left": "no",
          "projects": 3,
          "promoted": 0,
          "review": 0.5775686596,
          "salary": "low",
          "satisfaction": 0.626758974,
          "tenure": 5
         },
         {
          "avg_hrs_month": 182.7081489616,
          "bonus": 0,
          "department": "operations",
          "index": 1,
          "left": "no",
          "projects": 3,
          "promoted": 0,
          "review": 0.7518996607,
          "salary": "medium",
          "satisfaction": 0.4436789548,
          "tenure": 6
         },
         {
          "avg_hrs_month": 184.4160840366,
          "bonus": 0,
          "department": "support",
          "index": 2,
          "left": "no",
          "projects": 3,
          "promoted": 0,
          "review": 0.7225484486,
          "salary": "medium",
          "satisfaction": 0.446823224,
          "tenure": 6
         },
         {
          "avg_hrs_month": 188.7075447757,
          "bonus": 0,
          "department": "logistics",
          "index": 3,
          "left": "no",
          "projects": 4,
          "promoted": 0,
          "review": 0.6751583087,
          "salary": "high",
          "satisfaction": 0.4401387461,
          "tenure": 8
         },
         {
          "avg_hrs_month": 179.8210832731,
          "bonus": 1,
          "department": "sales",
          "index": 4,
          "left": "no",
          "projects": 3,
          "promoted": 0,
          "review": 0.6762031748,
          "salary": "high",
          "satisfaction": 0.5776074457,
          "tenure": 5
         }
        ],
        "schema": {
         "fields": [
          {
           "name": "index",
           "type": "integer"
          },
          {
           "name": "department",
           "type": "string"
          },
          {
           "name": "promoted",
           "type": "integer"
          },
          {
           "name": "review",
           "type": "number"
          },
          {
           "name": "projects",
           "type": "integer"
          },
          {
           "name": "salary",
           "type": "string"
          },
          {
           "name": "tenure",
           "type": "number"
          },
          {
           "name": "satisfaction",
           "type": "number"
          },
          {
           "name": "bonus",
           "type": "integer"
          },
          {
           "name": "avg_hrs_month",
           "type": "number"
          },
          {
           "name": "left",
           "type": "string"
          }
         ],
         "pandas_version": "0.20.0",
         "primaryKey": [
          "index"
         ]
        }
       }
      },
      "text/html": [
       "<div>\n",
       "<style scoped>\n",
       "    .dataframe tbody tr th:only-of-type {\n",
       "        vertical-align: middle;\n",
       "    }\n",
       "\n",
       "    .dataframe tbody tr th {\n",
       "        vertical-align: top;\n",
       "    }\n",
       "\n",
       "    .dataframe thead th {\n",
       "        text-align: right;\n",
       "    }\n",
       "</style>\n",
       "<table border=\"1\" class=\"dataframe\">\n",
       "  <thead>\n",
       "    <tr style=\"text-align: right;\">\n",
       "      <th></th>\n",
       "      <th>department</th>\n",
       "      <th>promoted</th>\n",
       "      <th>review</th>\n",
       "      <th>projects</th>\n",
       "      <th>salary</th>\n",
       "      <th>tenure</th>\n",
       "      <th>satisfaction</th>\n",
       "      <th>bonus</th>\n",
       "      <th>avg_hrs_month</th>\n",
       "      <th>left</th>\n",
       "    </tr>\n",
       "  </thead>\n",
       "  <tbody>\n",
       "    <tr>\n",
       "      <th>0</th>\n",
       "      <td>operations</td>\n",
       "      <td>0</td>\n",
       "      <td>0.577569</td>\n",
       "      <td>3</td>\n",
       "      <td>low</td>\n",
       "      <td>5.0</td>\n",
       "      <td>0.626759</td>\n",
       "      <td>0</td>\n",
       "      <td>180.866070</td>\n",
       "      <td>no</td>\n",
       "    </tr>\n",
       "    <tr>\n",
       "      <th>1</th>\n",
       "      <td>operations</td>\n",
       "      <td>0</td>\n",
       "      <td>0.751900</td>\n",
       "      <td>3</td>\n",
       "      <td>medium</td>\n",
       "      <td>6.0</td>\n",
       "      <td>0.443679</td>\n",
       "      <td>0</td>\n",
       "      <td>182.708149</td>\n",
       "      <td>no</td>\n",
       "    </tr>\n",
       "    <tr>\n",
       "      <th>2</th>\n",
       "      <td>support</td>\n",
       "      <td>0</td>\n",
       "      <td>0.722548</td>\n",
       "      <td>3</td>\n",
       "      <td>medium</td>\n",
       "      <td>6.0</td>\n",
       "      <td>0.446823</td>\n",
       "      <td>0</td>\n",
       "      <td>184.416084</td>\n",
       "      <td>no</td>\n",
       "    </tr>\n",
       "    <tr>\n",
       "      <th>3</th>\n",
       "      <td>logistics</td>\n",
       "      <td>0</td>\n",
       "      <td>0.675158</td>\n",
       "      <td>4</td>\n",
       "      <td>high</td>\n",
       "      <td>8.0</td>\n",
       "      <td>0.440139</td>\n",
       "      <td>0</td>\n",
       "      <td>188.707545</td>\n",
       "      <td>no</td>\n",
       "    </tr>\n",
       "    <tr>\n",
       "      <th>4</th>\n",
       "      <td>sales</td>\n",
       "      <td>0</td>\n",
       "      <td>0.676203</td>\n",
       "      <td>3</td>\n",
       "      <td>high</td>\n",
       "      <td>5.0</td>\n",
       "      <td>0.577607</td>\n",
       "      <td>1</td>\n",
       "      <td>179.821083</td>\n",
       "      <td>no</td>\n",
       "    </tr>\n",
       "  </tbody>\n",
       "</table>\n",
       "</div>"
      ],
      "text/plain": [
       "   department  promoted    review  projects  salary  tenure  satisfaction  \\\n",
       "0  operations         0  0.577569         3     low     5.0      0.626759   \n",
       "1  operations         0  0.751900         3  medium     6.0      0.443679   \n",
       "2     support         0  0.722548         3  medium     6.0      0.446823   \n",
       "3   logistics         0  0.675158         4    high     8.0      0.440139   \n",
       "4       sales         0  0.676203         3    high     5.0      0.577607   \n",
       "\n",
       "   bonus  avg_hrs_month left  \n",
       "0      0     180.866070   no  \n",
       "1      0     182.708149   no  \n",
       "2      0     184.416084   no  \n",
       "3      0     188.707545   no  \n",
       "4      1     179.821083   no  "
      ]
     },
     "execution_count": 2,
     "metadata": {},
     "output_type": "execute_result"
    }
   ],
   "source": [
    "#load data\n",
    "df = pd.read_csv('./data/employee_churn_data.csv')\n",
    "df.head()"
   ]
  },
  {
   "cell_type": "code",
   "execution_count": null,
   "id": "6368a4a0-a2ef-42ea-97ff-cba8c6b73ab0",
   "metadata": {},
   "outputs": [
    {
     "data": {
      "text/plain": [
       "(9540, 10)"
      ]
     },
     "execution_count": 3,
     "metadata": {},
     "output_type": "execute_result"
    }
   ],
   "source": [
    "#size of data\n",
    "df.shape"
   ]
  },
  {
   "cell_type": "code",
   "execution_count": null,
   "id": "157343ac-5bc3-434d-bc29-1dec4f5e38bd",
   "metadata": {},
   "outputs": [
    {
     "name": "stdout",
     "output_type": "stream",
     "text": [
      "<class 'pandas.core.frame.DataFrame'>\n",
      "RangeIndex: 9540 entries, 0 to 9539\n",
      "Data columns (total 10 columns):\n",
      " #   Column         Non-Null Count  Dtype  \n",
      "---  ------         --------------  -----  \n",
      " 0   department     9540 non-null   object \n",
      " 1   promoted       9540 non-null   int64  \n",
      " 2   review         9540 non-null   float64\n",
      " 3   projects       9540 non-null   int64  \n",
      " 4   salary         9540 non-null   object \n",
      " 5   tenure         9540 non-null   float64\n",
      " 6   satisfaction   9540 non-null   float64\n",
      " 7   bonus          9540 non-null   int64  \n",
      " 8   avg_hrs_month  9540 non-null   float64\n",
      " 9   left           9540 non-null   object \n",
      "dtypes: float64(4), int64(3), object(3)\n",
      "memory usage: 745.4+ KB\n"
     ]
    }
   ],
   "source": [
    "#check for missing value\n",
    "df.info()"
   ]
  },
  {
   "cell_type": "code",
   "execution_count": null,
   "id": "154bf6b0-9ac6-4008-984c-2081a1aa79ce",
   "metadata": {},
   "outputs": [
    {
     "name": "stdout",
     "output_type": "stream",
     "text": [
      "department       0\n",
      "promoted         0\n",
      "review           0\n",
      "projects         0\n",
      "salary           0\n",
      "tenure           0\n",
      "satisfaction     0\n",
      "bonus            0\n",
      "avg_hrs_month    0\n",
      "left             0\n",
      "dtype: int64\n"
     ]
    }
   ],
   "source": [
    "# Count the number of missing values in each column\n",
    "print(df.isnull().sum())\n"
   ]
  },
  {
   "cell_type": "code",
   "execution_count": null,
   "id": "6c8d6b2e-22b3-48e9-bb72-c51fa818befd",
   "metadata": {},
   "outputs": [
    {
     "name": "stdout",
     "output_type": "stream",
     "text": [
      "Number of departments =  10\n"
     ]
    },
    {
     "data": {
      "application/com.datacamp.data-table.v1+json": {
       "is_truncated": false,
       "table": {
        "data": [
         {
          "index": "no",
          "left": 6756,
          "level_0": 0
         },
         {
          "index": "yes",
          "left": 2784,
          "level_0": 1
         }
        ],
        "schema": {
         "fields": [
          {
           "name": "index",
           "type": "integer"
          },
          {
           "name": "index",
           "type": "string"
          },
          {
           "name": "left",
           "type": "integer"
          }
         ],
         "pandas_version": "0.20.0",
         "primaryKey": [
          "index"
         ]
        }
       }
      },
      "text/plain": [
       "no     6756\n",
       "yes    2784\n",
       "Name: left, dtype: int64"
      ]
     },
     "execution_count": 6,
     "metadata": {},
     "output_type": "execute_result"
    }
   ],
   "source": [
    "# Print the total number of unique categories\n",
    "dep_cat = len(df['department'].unique())\n",
    "print('Number of departments = ', dep_cat)\n",
    "\n",
    "# Count the number of employees that left'. \n",
    "left_in_cat = df['left'].value_counts()\n",
    "left_in_cat"
   ]
  },
  {
   "cell_type": "markdown",
   "id": "ffa49b59-1f54-46ce-8c26-51223ac29beb",
   "metadata": {},
   "source": [
    "29.1% of employee left the campany.\n"
   ]
  },
  {
   "cell_type": "code",
   "execution_count": null,
   "id": "8ae02460-6331-4ac2-b954-0c915e872769",
   "metadata": {},
   "outputs": [
    {
     "data": {
      "text/plain": [
       "['operations',\n",
       " 'support',\n",
       " 'logistics',\n",
       " 'sales',\n",
       " 'IT',\n",
       " 'admin',\n",
       " 'engineering',\n",
       " 'marketing',\n",
       " 'finance',\n",
       " 'retail']"
      ]
     },
     "execution_count": 7,
     "metadata": {},
     "output_type": "execute_result"
    }
   ],
   "source": [
    "#get unique department names\n",
    "dept_name = df['department'].unique().tolist()\n",
    "dept_name\n",
    "# there are 10 different departments"
   ]
  },
  {
   "cell_type": "code",
   "execution_count": null,
   "id": "528a2c28-413b-47cc-a334-f66a621794a5",
   "metadata": {},
   "outputs": [
    {
     "data": {
      "application/com.datacamp.data-table.v1+json": {
       "is_truncated": false,
       "table": {
        "data": [
         {
          "avg_hrs_month": 180.8660696668,
          "bonus": 0,
          "department": "operations",
          "index": 0,
          "left": 0,
          "projects": 3,
          "promoted": 0,
          "review": 0.5775686596,
          "salary": 1,
          "satisfaction": 0.626758974,
          "tenure": 5
         },
         {
          "avg_hrs_month": 182.7081489616,
          "bonus": 0,
          "department": "operations",
          "index": 1,
          "left": 0,
          "projects": 3,
          "promoted": 0,
          "review": 0.7518996607,
          "salary": 2,
          "satisfaction": 0.4436789548,
          "tenure": 6
         },
         {
          "avg_hrs_month": 184.4160840366,
          "bonus": 0,
          "department": "support",
          "index": 2,
          "left": 0,
          "projects": 3,
          "promoted": 0,
          "review": 0.7225484486,
          "salary": 2,
          "satisfaction": 0.446823224,
          "tenure": 6
         }
        ],
        "schema": {
         "fields": [
          {
           "name": "index",
           "type": "integer"
          },
          {
           "name": "department",
           "type": "string"
          },
          {
           "name": "promoted",
           "type": "integer"
          },
          {
           "name": "review",
           "type": "number"
          },
          {
           "name": "projects",
           "type": "integer"
          },
          {
           "name": "salary",
           "type": "integer"
          },
          {
           "name": "tenure",
           "type": "number"
          },
          {
           "name": "satisfaction",
           "type": "number"
          },
          {
           "name": "bonus",
           "type": "integer"
          },
          {
           "name": "avg_hrs_month",
           "type": "number"
          },
          {
           "name": "left",
           "type": "integer"
          }
         ],
         "pandas_version": "0.20.0",
         "primaryKey": [
          "index"
         ]
        }
       }
      },
      "text/html": [
       "<div>\n",
       "<style scoped>\n",
       "    .dataframe tbody tr th:only-of-type {\n",
       "        vertical-align: middle;\n",
       "    }\n",
       "\n",
       "    .dataframe tbody tr th {\n",
       "        vertical-align: top;\n",
       "    }\n",
       "\n",
       "    .dataframe thead th {\n",
       "        text-align: right;\n",
       "    }\n",
       "</style>\n",
       "<table border=\"1\" class=\"dataframe\">\n",
       "  <thead>\n",
       "    <tr style=\"text-align: right;\">\n",
       "      <th></th>\n",
       "      <th>department</th>\n",
       "      <th>promoted</th>\n",
       "      <th>review</th>\n",
       "      <th>projects</th>\n",
       "      <th>salary</th>\n",
       "      <th>tenure</th>\n",
       "      <th>satisfaction</th>\n",
       "      <th>bonus</th>\n",
       "      <th>avg_hrs_month</th>\n",
       "      <th>left</th>\n",
       "    </tr>\n",
       "  </thead>\n",
       "  <tbody>\n",
       "    <tr>\n",
       "      <th>0</th>\n",
       "      <td>operations</td>\n",
       "      <td>0</td>\n",
       "      <td>0.577569</td>\n",
       "      <td>3</td>\n",
       "      <td>1</td>\n",
       "      <td>5.0</td>\n",
       "      <td>0.626759</td>\n",
       "      <td>0</td>\n",
       "      <td>180.866070</td>\n",
       "      <td>0</td>\n",
       "    </tr>\n",
       "    <tr>\n",
       "      <th>1</th>\n",
       "      <td>operations</td>\n",
       "      <td>0</td>\n",
       "      <td>0.751900</td>\n",
       "      <td>3</td>\n",
       "      <td>2</td>\n",
       "      <td>6.0</td>\n",
       "      <td>0.443679</td>\n",
       "      <td>0</td>\n",
       "      <td>182.708149</td>\n",
       "      <td>0</td>\n",
       "    </tr>\n",
       "    <tr>\n",
       "      <th>2</th>\n",
       "      <td>support</td>\n",
       "      <td>0</td>\n",
       "      <td>0.722548</td>\n",
       "      <td>3</td>\n",
       "      <td>2</td>\n",
       "      <td>6.0</td>\n",
       "      <td>0.446823</td>\n",
       "      <td>0</td>\n",
       "      <td>184.416084</td>\n",
       "      <td>0</td>\n",
       "    </tr>\n",
       "  </tbody>\n",
       "</table>\n",
       "</div>"
      ],
      "text/plain": [
       "   department  promoted    review  projects  salary  tenure  satisfaction  \\\n",
       "0  operations         0  0.577569         3       1     5.0      0.626759   \n",
       "1  operations         0  0.751900         3       2     6.0      0.443679   \n",
       "2     support         0  0.722548         3       2     6.0      0.446823   \n",
       "\n",
       "   bonus  avg_hrs_month  left  \n",
       "0      0     180.866070     0  \n",
       "1      0     182.708149     0  \n",
       "2      0     184.416084     0  "
      ]
     },
     "execution_count": 8,
     "metadata": {},
     "output_type": "execute_result"
    }
   ],
   "source": [
    "\n",
    "# Labeling and encoding\n",
    "#convert salary to numeric value\n",
    "# replacing values\n",
    "df['left'].replace(['no', 'yes'],[0, 1], inplace=True)\n",
    "df['salary'].replace(['low', 'medium','high'],[1, 2,3], inplace=True)\n",
    "\n",
    "\n",
    "df.head(3)"
   ]
  },
  {
   "cell_type": "markdown",
   "id": "8404882f-2048-45a0-8cdb-d2c0ec4426b4",
   "metadata": {},
   "source": [
    "#  check the statstics and correlation of each variable with \"left\"."
   ]
  },
  {
   "cell_type": "code",
   "execution_count": null,
   "id": "0bfbf038-40e2-46ea-83d1-1ec89832227c",
   "metadata": {},
   "outputs": [
    {
     "data": {
      "application/com.datacamp.data-table.v1+json": {
       "is_truncated": false,
       "table": {
        "data": [
         {
          "avg_hrs_month": 9540,
          "bonus": 9540,
          "index": "count",
          "left": 9540,
          "projects": 9540,
          "promoted": 9540,
          "review": 9540,
          "salary": 9540,
          "satisfaction": 9540,
          "tenure": 9540
         },
         {
          "avg_hrs_month": 184.6615711224,
          "bonus": 0.2120545073,
          "index": "mean",
          "left": 0.2918238994,
          "projects": 3.2748427673,
          "promoted": 0.030293501,
          "review": 0.6518263249,
          "salary": 2.0175052411,
          "satisfaction": 0.5046445122,
          "tenure": 6.5561844864
         },
         {
          "avg_hrs_month": 4.1448308592,
          "bonus": 0.4087846738,
          "index": "std",
          "left": 0.454625534,
          "projects": 0.5791356299,
          "promoted": 0.1714026966,
          "review": 0.0853067746,
          "salary": 0.55384906,
          "satisfaction": 0.1585551662,
          "tenure": 1.4154318911
         },
         {
          "avg_hrs_month": 171.374060482,
          "bonus": 0,
          "index": "min",
          "left": 0,
          "projects": 2,
          "promoted": 0,
          "review": 0.31,
          "salary": 1,
          "satisfaction": 0,
          "tenure": 2
         },
         {
          "avg_hrs_month": 181.4720846337,
          "bonus": 0,
          "index": "25%",
          "left": 0,
          "projects": 3,
          "promoted": 0,
          "review": 0.592883777,
          "salary": 2,
          "satisfaction": 0.3868010882,
          "tenure": 5
         },
         {
          "avg_hrs_month": 184.6287955361,
          "bonus": 0,
          "index": "50%",
          "left": 0,
          "projects": 3,
          "promoted": 0,
          "review": 0.6474563203,
          "salary": 2,
          "satisfaction": 0.5007855826,
          "tenure": 7
         },
         {
          "avg_hrs_month": 187.728708426,
          "bonus": 0,
          "index": "75%",
          "left": 1,
          "projects": 4,
          "promoted": 0,
          "review": 0.7083786089,
          "salary": 2,
          "satisfaction": 0.6226066206,
          "tenure": 8
         },
         {
          "avg_hrs_month": 200.8616558715,
          "bonus": 1,
          "index": "max",
          "left": 1,
          "projects": 5,
          "promoted": 1,
          "review": 1,
          "salary": 3,
          "satisfaction": 1,
          "tenure": 12
         }
        ],
        "schema": {
         "fields": [
          {
           "name": "index",
           "type": "string"
          },
          {
           "name": "promoted",
           "type": "number"
          },
          {
           "name": "review",
           "type": "number"
          },
          {
           "name": "projects",
           "type": "number"
          },
          {
           "name": "salary",
           "type": "number"
          },
          {
           "name": "tenure",
           "type": "number"
          },
          {
           "name": "satisfaction",
           "type": "number"
          },
          {
           "name": "bonus",
           "type": "number"
          },
          {
           "name": "avg_hrs_month",
           "type": "number"
          },
          {
           "name": "left",
           "type": "number"
          }
         ],
         "pandas_version": "0.20.0",
         "primaryKey": [
          "index"
         ]
        }
       }
      },
      "text/html": [
       "<div>\n",
       "<style scoped>\n",
       "    .dataframe tbody tr th:only-of-type {\n",
       "        vertical-align: middle;\n",
       "    }\n",
       "\n",
       "    .dataframe tbody tr th {\n",
       "        vertical-align: top;\n",
       "    }\n",
       "\n",
       "    .dataframe thead th {\n",
       "        text-align: right;\n",
       "    }\n",
       "</style>\n",
       "<table border=\"1\" class=\"dataframe\">\n",
       "  <thead>\n",
       "    <tr style=\"text-align: right;\">\n",
       "      <th></th>\n",
       "      <th>promoted</th>\n",
       "      <th>review</th>\n",
       "      <th>projects</th>\n",
       "      <th>salary</th>\n",
       "      <th>tenure</th>\n",
       "      <th>satisfaction</th>\n",
       "      <th>bonus</th>\n",
       "      <th>avg_hrs_month</th>\n",
       "      <th>left</th>\n",
       "    </tr>\n",
       "  </thead>\n",
       "  <tbody>\n",
       "    <tr>\n",
       "      <th>count</th>\n",
       "      <td>9540.000000</td>\n",
       "      <td>9540.000000</td>\n",
       "      <td>9540.000000</td>\n",
       "      <td>9540.000000</td>\n",
       "      <td>9540.000000</td>\n",
       "      <td>9540.000000</td>\n",
       "      <td>9540.000000</td>\n",
       "      <td>9540.000000</td>\n",
       "      <td>9540.000000</td>\n",
       "    </tr>\n",
       "    <tr>\n",
       "      <th>mean</th>\n",
       "      <td>0.030294</td>\n",
       "      <td>0.651826</td>\n",
       "      <td>3.274843</td>\n",
       "      <td>2.017505</td>\n",
       "      <td>6.556184</td>\n",
       "      <td>0.504645</td>\n",
       "      <td>0.212055</td>\n",
       "      <td>184.661571</td>\n",
       "      <td>0.291824</td>\n",
       "    </tr>\n",
       "    <tr>\n",
       "      <th>std</th>\n",
       "      <td>0.171403</td>\n",
       "      <td>0.085307</td>\n",
       "      <td>0.579136</td>\n",
       "      <td>0.553849</td>\n",
       "      <td>1.415432</td>\n",
       "      <td>0.158555</td>\n",
       "      <td>0.408785</td>\n",
       "      <td>4.144831</td>\n",
       "      <td>0.454626</td>\n",
       "    </tr>\n",
       "    <tr>\n",
       "      <th>min</th>\n",
       "      <td>0.000000</td>\n",
       "      <td>0.310000</td>\n",
       "      <td>2.000000</td>\n",
       "      <td>1.000000</td>\n",
       "      <td>2.000000</td>\n",
       "      <td>0.000000</td>\n",
       "      <td>0.000000</td>\n",
       "      <td>171.374060</td>\n",
       "      <td>0.000000</td>\n",
       "    </tr>\n",
       "    <tr>\n",
       "      <th>25%</th>\n",
       "      <td>0.000000</td>\n",
       "      <td>0.592884</td>\n",
       "      <td>3.000000</td>\n",
       "      <td>2.000000</td>\n",
       "      <td>5.000000</td>\n",
       "      <td>0.386801</td>\n",
       "      <td>0.000000</td>\n",
       "      <td>181.472085</td>\n",
       "      <td>0.000000</td>\n",
       "    </tr>\n",
       "    <tr>\n",
       "      <th>50%</th>\n",
       "      <td>0.000000</td>\n",
       "      <td>0.647456</td>\n",
       "      <td>3.000000</td>\n",
       "      <td>2.000000</td>\n",
       "      <td>7.000000</td>\n",
       "      <td>0.500786</td>\n",
       "      <td>0.000000</td>\n",
       "      <td>184.628796</td>\n",
       "      <td>0.000000</td>\n",
       "    </tr>\n",
       "    <tr>\n",
       "      <th>75%</th>\n",
       "      <td>0.000000</td>\n",
       "      <td>0.708379</td>\n",
       "      <td>4.000000</td>\n",
       "      <td>2.000000</td>\n",
       "      <td>8.000000</td>\n",
       "      <td>0.622607</td>\n",
       "      <td>0.000000</td>\n",
       "      <td>187.728708</td>\n",
       "      <td>1.000000</td>\n",
       "    </tr>\n",
       "    <tr>\n",
       "      <th>max</th>\n",
       "      <td>1.000000</td>\n",
       "      <td>1.000000</td>\n",
       "      <td>5.000000</td>\n",
       "      <td>3.000000</td>\n",
       "      <td>12.000000</td>\n",
       "      <td>1.000000</td>\n",
       "      <td>1.000000</td>\n",
       "      <td>200.861656</td>\n",
       "      <td>1.000000</td>\n",
       "    </tr>\n",
       "  </tbody>\n",
       "</table>\n",
       "</div>"
      ],
      "text/plain": [
       "          promoted       review     projects       salary       tenure  \\\n",
       "count  9540.000000  9540.000000  9540.000000  9540.000000  9540.000000   \n",
       "mean      0.030294     0.651826     3.274843     2.017505     6.556184   \n",
       "std       0.171403     0.085307     0.579136     0.553849     1.415432   \n",
       "min       0.000000     0.310000     2.000000     1.000000     2.000000   \n",
       "25%       0.000000     0.592884     3.000000     2.000000     5.000000   \n",
       "50%       0.000000     0.647456     3.000000     2.000000     7.000000   \n",
       "75%       0.000000     0.708379     4.000000     2.000000     8.000000   \n",
       "max       1.000000     1.000000     5.000000     3.000000    12.000000   \n",
       "\n",
       "       satisfaction        bonus  avg_hrs_month         left  \n",
       "count   9540.000000  9540.000000    9540.000000  9540.000000  \n",
       "mean       0.504645     0.212055     184.661571     0.291824  \n",
       "std        0.158555     0.408785       4.144831     0.454626  \n",
       "min        0.000000     0.000000     171.374060     0.000000  \n",
       "25%        0.386801     0.000000     181.472085     0.000000  \n",
       "50%        0.500786     0.000000     184.628796     0.000000  \n",
       "75%        0.622607     0.000000     187.728708     1.000000  \n",
       "max        1.000000     1.000000     200.861656     1.000000  "
      ]
     },
     "execution_count": 9,
     "metadata": {},
     "output_type": "execute_result"
    }
   ],
   "source": [
    "df.describe()"
   ]
  },
  {
   "cell_type": "code",
   "execution_count": null,
   "id": "4f246057-f7fc-45a1-a045-7d81516ba3fd",
   "metadata": {},
   "outputs": [
    {
     "data": {
      "application/com.datacamp.data-table.v1+json": {
       "is_truncated": false,
       "table": {
        "data": [
         {
          "avg_hrs_month": -0.0021901037,
          "bonus": 0.0010716376,
          "index": "promoted",
          "left": -0.0367771633,
          "projects": 0.0101072064,
          "promoted": 1,
          "review": 0.0018786953,
          "salary": 0.0010391325,
          "satisfaction": -0.0117041665,
          "tenure": 0.0014098258
         },
         {
          "avg_hrs_month": -0.1960957002,
          "bonus": -0.003626532,
          "index": "review",
          "left": 0.3042941301,
          "projects": 0.0002187253,
          "promoted": 0.0018786953,
          "review": 1,
          "salary": -0.0036654619,
          "satisfaction": -0.3497777264,
          "tenure": -0.184133191
         },
         {
          "avg_hrs_month": 0.0212992372,
          "bonus": 0.0026538261,
          "index": "projects",
          "left": -0.0124077218,
          "projects": 1,
          "promoted": 0.0101072064,
          "review": 0.0002187253,
          "salary": -0.0208841956,
          "satisfaction": 0.0027143626,
          "tenure": 0.0225956996
         },
         {
          "avg_hrs_month": 0.007697185,
          "bonus": -0.0071367617,
          "index": "salary",
          "left": 0.0009431885,
          "projects": -0.0208841956,
          "promoted": 0.0010391325,
          "review": -0.0036654619,
          "salary": 1,
          "satisfaction": -0.0045095729,
          "tenure": 0.00509727
         },
         {
          "avg_hrs_month": 0.9786178937,
          "bonus": -0.0003915721,
          "index": "tenure",
          "left": 0.0105212772,
          "projects": 0.0225956996,
          "promoted": 0.0014098258,
          "review": -0.184133191,
          "salary": 0.00509727,
          "satisfaction": -0.1462464432,
          "tenure": 1
         },
         {
          "avg_hrs_month": -0.1431418166,
          "bonus": 0.0007041312,
          "index": "satisfaction",
          "left": -0.0097207013,
          "projects": 0.0027143626,
          "promoted": -0.0117041665,
          "review": -0.3497777264,
          "salary": -0.0045095729,
          "satisfaction": 1,
          "tenure": -0.1462464432
         },
         {
          "avg_hrs_month": -0.0003699244,
          "bonus": 1,
          "index": "bonus",
          "left": -0.011484739,
          "projects": 0.0026538261,
          "promoted": 0.0010716376,
          "review": -0.003626532,
          "salary": -0.0071367617,
          "satisfaction": 0.0007041312,
          "tenure": -0.0003915721
         },
         {
          "avg_hrs_month": 1,
          "bonus": -0.0003699244,
          "index": "avg_hrs_month",
          "left": 0.0090078556,
          "projects": 0.0212992372,
          "promoted": -0.0021901037,
          "review": -0.1960957002,
          "salary": 0.007697185,
          "satisfaction": -0.1431418166,
          "tenure": 0.9786178937
         },
         {
          "avg_hrs_month": 0.0090078556,
          "bonus": -0.011484739,
          "index": "left",
          "left": 1,
          "projects": -0.0124077218,
          "promoted": -0.0367771633,
          "review": 0.3042941301,
          "salary": 0.0009431885,
          "satisfaction": -0.0097207013,
          "tenure": 0.0105212772
         }
        ],
        "schema": {
         "fields": [
          {
           "name": "index",
           "type": "string"
          },
          {
           "name": "promoted",
           "type": "number"
          },
          {
           "name": "review",
           "type": "number"
          },
          {
           "name": "projects",
           "type": "number"
          },
          {
           "name": "salary",
           "type": "number"
          },
          {
           "name": "tenure",
           "type": "number"
          },
          {
           "name": "satisfaction",
           "type": "number"
          },
          {
           "name": "bonus",
           "type": "number"
          },
          {
           "name": "avg_hrs_month",
           "type": "number"
          },
          {
           "name": "left",
           "type": "number"
          }
         ],
         "pandas_version": "0.20.0",
         "primaryKey": [
          "index"
         ]
        }
       }
      },
      "text/html": [
       "<div>\n",
       "<style scoped>\n",
       "    .dataframe tbody tr th:only-of-type {\n",
       "        vertical-align: middle;\n",
       "    }\n",
       "\n",
       "    .dataframe tbody tr th {\n",
       "        vertical-align: top;\n",
       "    }\n",
       "\n",
       "    .dataframe thead th {\n",
       "        text-align: right;\n",
       "    }\n",
       "</style>\n",
       "<table border=\"1\" class=\"dataframe\">\n",
       "  <thead>\n",
       "    <tr style=\"text-align: right;\">\n",
       "      <th></th>\n",
       "      <th>promoted</th>\n",
       "      <th>review</th>\n",
       "      <th>projects</th>\n",
       "      <th>salary</th>\n",
       "      <th>tenure</th>\n",
       "      <th>satisfaction</th>\n",
       "      <th>bonus</th>\n",
       "      <th>avg_hrs_month</th>\n",
       "      <th>left</th>\n",
       "    </tr>\n",
       "  </thead>\n",
       "  <tbody>\n",
       "    <tr>\n",
       "      <th>promoted</th>\n",
       "      <td>1.000000</td>\n",
       "      <td>0.001879</td>\n",
       "      <td>0.010107</td>\n",
       "      <td>0.001039</td>\n",
       "      <td>0.001410</td>\n",
       "      <td>-0.011704</td>\n",
       "      <td>0.001072</td>\n",
       "      <td>-0.002190</td>\n",
       "      <td>-0.036777</td>\n",
       "    </tr>\n",
       "    <tr>\n",
       "      <th>review</th>\n",
       "      <td>0.001879</td>\n",
       "      <td>1.000000</td>\n",
       "      <td>0.000219</td>\n",
       "      <td>-0.003665</td>\n",
       "      <td>-0.184133</td>\n",
       "      <td>-0.349778</td>\n",
       "      <td>-0.003627</td>\n",
       "      <td>-0.196096</td>\n",
       "      <td>0.304294</td>\n",
       "    </tr>\n",
       "    <tr>\n",
       "      <th>projects</th>\n",
       "      <td>0.010107</td>\n",
       "      <td>0.000219</td>\n",
       "      <td>1.000000</td>\n",
       "      <td>-0.020884</td>\n",
       "      <td>0.022596</td>\n",
       "      <td>0.002714</td>\n",
       "      <td>0.002654</td>\n",
       "      <td>0.021299</td>\n",
       "      <td>-0.012408</td>\n",
       "    </tr>\n",
       "    <tr>\n",
       "      <th>salary</th>\n",
       "      <td>0.001039</td>\n",
       "      <td>-0.003665</td>\n",
       "      <td>-0.020884</td>\n",
       "      <td>1.000000</td>\n",
       "      <td>0.005097</td>\n",
       "      <td>-0.004510</td>\n",
       "      <td>-0.007137</td>\n",
       "      <td>0.007697</td>\n",
       "      <td>0.000943</td>\n",
       "    </tr>\n",
       "    <tr>\n",
       "      <th>tenure</th>\n",
       "      <td>0.001410</td>\n",
       "      <td>-0.184133</td>\n",
       "      <td>0.022596</td>\n",
       "      <td>0.005097</td>\n",
       "      <td>1.000000</td>\n",
       "      <td>-0.146246</td>\n",
       "      <td>-0.000392</td>\n",
       "      <td>0.978618</td>\n",
       "      <td>0.010521</td>\n",
       "    </tr>\n",
       "    <tr>\n",
       "      <th>satisfaction</th>\n",
       "      <td>-0.011704</td>\n",
       "      <td>-0.349778</td>\n",
       "      <td>0.002714</td>\n",
       "      <td>-0.004510</td>\n",
       "      <td>-0.146246</td>\n",
       "      <td>1.000000</td>\n",
       "      <td>0.000704</td>\n",
       "      <td>-0.143142</td>\n",
       "      <td>-0.009721</td>\n",
       "    </tr>\n",
       "    <tr>\n",
       "      <th>bonus</th>\n",
       "      <td>0.001072</td>\n",
       "      <td>-0.003627</td>\n",
       "      <td>0.002654</td>\n",
       "      <td>-0.007137</td>\n",
       "      <td>-0.000392</td>\n",
       "      <td>0.000704</td>\n",
       "      <td>1.000000</td>\n",
       "      <td>-0.000370</td>\n",
       "      <td>-0.011485</td>\n",
       "    </tr>\n",
       "    <tr>\n",
       "      <th>avg_hrs_month</th>\n",
       "      <td>-0.002190</td>\n",
       "      <td>-0.196096</td>\n",
       "      <td>0.021299</td>\n",
       "      <td>0.007697</td>\n",
       "      <td>0.978618</td>\n",
       "      <td>-0.143142</td>\n",
       "      <td>-0.000370</td>\n",
       "      <td>1.000000</td>\n",
       "      <td>0.009008</td>\n",
       "    </tr>\n",
       "    <tr>\n",
       "      <th>left</th>\n",
       "      <td>-0.036777</td>\n",
       "      <td>0.304294</td>\n",
       "      <td>-0.012408</td>\n",
       "      <td>0.000943</td>\n",
       "      <td>0.010521</td>\n",
       "      <td>-0.009721</td>\n",
       "      <td>-0.011485</td>\n",
       "      <td>0.009008</td>\n",
       "      <td>1.000000</td>\n",
       "    </tr>\n",
       "  </tbody>\n",
       "</table>\n",
       "</div>"
      ],
      "text/plain": [
       "               promoted    review  projects    salary    tenure  satisfaction  \\\n",
       "promoted       1.000000  0.001879  0.010107  0.001039  0.001410     -0.011704   \n",
       "review         0.001879  1.000000  0.000219 -0.003665 -0.184133     -0.349778   \n",
       "projects       0.010107  0.000219  1.000000 -0.020884  0.022596      0.002714   \n",
       "salary         0.001039 -0.003665 -0.020884  1.000000  0.005097     -0.004510   \n",
       "tenure         0.001410 -0.184133  0.022596  0.005097  1.000000     -0.146246   \n",
       "satisfaction  -0.011704 -0.349778  0.002714 -0.004510 -0.146246      1.000000   \n",
       "bonus          0.001072 -0.003627  0.002654 -0.007137 -0.000392      0.000704   \n",
       "avg_hrs_month -0.002190 -0.196096  0.021299  0.007697  0.978618     -0.143142   \n",
       "left          -0.036777  0.304294 -0.012408  0.000943  0.010521     -0.009721   \n",
       "\n",
       "                  bonus  avg_hrs_month      left  \n",
       "promoted       0.001072      -0.002190 -0.036777  \n",
       "review        -0.003627      -0.196096  0.304294  \n",
       "projects       0.002654       0.021299 -0.012408  \n",
       "salary        -0.007137       0.007697  0.000943  \n",
       "tenure        -0.000392       0.978618  0.010521  \n",
       "satisfaction   0.000704      -0.143142 -0.009721  \n",
       "bonus          1.000000      -0.000370 -0.011485  \n",
       "avg_hrs_month -0.000370       1.000000  0.009008  \n",
       "left          -0.011485       0.009008  1.000000  "
      ]
     },
     "execution_count": 10,
     "metadata": {},
     "output_type": "execute_result"
    }
   ],
   "source": [
    "df.corr()"
   ]
  },
  {
   "cell_type": "markdown",
   "id": "31cf841b-f827-40c5-b12a-413be48347dd",
   "metadata": {},
   "source": [
    "Employes turnover  is positively correlated with the composite score the employee received in their last evaluation and negatively corilated with number of projects they envolve, bonus and tenure."
   ]
  },
  {
   "cell_type": "code",
   "execution_count": null,
   "id": "f0892d08-3def-431f-8c78-c6e0192d45ff",
   "metadata": {},
   "outputs": [
    {
     "data": {
      "application/com.datacamp.data-table.v1+json": {
       "is_truncated": false,
       "table": {
        "data": [
         {
          "avg_hrs_month": 184.6376051388,
          "bonus": 0.2150680876,
          "left": 0,
          "projects": 3.279455299,
          "promoted": 0.0343398461,
          "review": 0.6351636728,
          "salary": 2.017169923,
          "satisfaction": 0.505633851,
          "tenure": 6.546625222
         },
         {
          "avg_hrs_month": 184.7197299535,
          "bonus": 0.2047413793,
          "left": 1,
          "projects": 3.2636494253,
          "promoted": 0.0204741379,
          "review": 0.6922619852,
          "salary": 2.0183189655,
          "satisfaction": 0.50224366,
          "tenure": 6.5793821839
         }
        ],
        "schema": {
         "fields": [
          {
           "name": "left",
           "type": "integer"
          },
          {
           "name": "promoted",
           "type": "number"
          },
          {
           "name": "review",
           "type": "number"
          },
          {
           "name": "projects",
           "type": "number"
          },
          {
           "name": "salary",
           "type": "number"
          },
          {
           "name": "tenure",
           "type": "number"
          },
          {
           "name": "satisfaction",
           "type": "number"
          },
          {
           "name": "bonus",
           "type": "number"
          },
          {
           "name": "avg_hrs_month",
           "type": "number"
          }
         ],
         "pandas_version": "0.20.0",
         "primaryKey": [
          "left"
         ]
        }
       }
      },
      "text/html": [
       "<div>\n",
       "<style scoped>\n",
       "    .dataframe tbody tr th:only-of-type {\n",
       "        vertical-align: middle;\n",
       "    }\n",
       "\n",
       "    .dataframe tbody tr th {\n",
       "        vertical-align: top;\n",
       "    }\n",
       "\n",
       "    .dataframe thead th {\n",
       "        text-align: right;\n",
       "    }\n",
       "</style>\n",
       "<table border=\"1\" class=\"dataframe\">\n",
       "  <thead>\n",
       "    <tr style=\"text-align: right;\">\n",
       "      <th></th>\n",
       "      <th>promoted</th>\n",
       "      <th>review</th>\n",
       "      <th>projects</th>\n",
       "      <th>salary</th>\n",
       "      <th>tenure</th>\n",
       "      <th>satisfaction</th>\n",
       "      <th>bonus</th>\n",
       "      <th>avg_hrs_month</th>\n",
       "    </tr>\n",
       "    <tr>\n",
       "      <th>left</th>\n",
       "      <th></th>\n",
       "      <th></th>\n",
       "      <th></th>\n",
       "      <th></th>\n",
       "      <th></th>\n",
       "      <th></th>\n",
       "      <th></th>\n",
       "      <th></th>\n",
       "    </tr>\n",
       "  </thead>\n",
       "  <tbody>\n",
       "    <tr>\n",
       "      <th>0</th>\n",
       "      <td>0.034340</td>\n",
       "      <td>0.635164</td>\n",
       "      <td>3.279455</td>\n",
       "      <td>2.017170</td>\n",
       "      <td>6.546625</td>\n",
       "      <td>0.505634</td>\n",
       "      <td>0.215068</td>\n",
       "      <td>184.637605</td>\n",
       "    </tr>\n",
       "    <tr>\n",
       "      <th>1</th>\n",
       "      <td>0.020474</td>\n",
       "      <td>0.692262</td>\n",
       "      <td>3.263649</td>\n",
       "      <td>2.018319</td>\n",
       "      <td>6.579382</td>\n",
       "      <td>0.502244</td>\n",
       "      <td>0.204741</td>\n",
       "      <td>184.719730</td>\n",
       "    </tr>\n",
       "  </tbody>\n",
       "</table>\n",
       "</div>"
      ],
      "text/plain": [
       "      promoted    review  projects    salary    tenure  satisfaction  \\\n",
       "left                                                                   \n",
       "0     0.034340  0.635164  3.279455  2.017170  6.546625      0.505634   \n",
       "1     0.020474  0.692262  3.263649  2.018319  6.579382      0.502244   \n",
       "\n",
       "         bonus  avg_hrs_month  \n",
       "left                           \n",
       "0     0.215068     184.637605  \n",
       "1     0.204741     184.719730  "
      ]
     },
     "execution_count": 11,
     "metadata": {},
     "output_type": "execute_result"
    }
   ],
   "source": [
    "df.groupby('left').mean()"
   ]
  },
  {
   "cell_type": "markdown",
   "id": "f970108d-f4b3-425d-a0f2-90e5c63f02bf",
   "metadata": {},
   "source": [
    "- The avarage review rate of those who stay is likely higher than emplyees who left.\n"
   ]
  },
  {
   "cell_type": "markdown",
   "id": "9b897fb6-12ef-422a-892e-bf7753685c93",
   "metadata": {},
   "source": [
    "# visualization"
   ]
  },
  {
   "cell_type": "code",
   "execution_count": null,
   "id": "758dd48c-58bc-4445-a07e-11a3c731daec",
   "metadata": {},
   "outputs": [
    {
     "data": {
      "image/png": "[encoded data removed]",
      "text/plain": [
       "<Figure size 432x288 with 1 Axes>"
      ]
     },
     "metadata": {
      "needs_background": "light"
     },
     "output_type": "display_data"
    }
   ],
   "source": [
    "pd.crosstab(df.department,df.left).plot(kind='bar')\n",
    "plt.title(\"Department vs left\")\n",
    "plt.xlabel(\"Department\")\n",
    "plt.ylabel(\"frequency of turnover\")\n",
    "plt.show()"
   ]
  },
  {
   "cell_type": "code",
   "execution_count": null,
   "id": "9c70a3b1-0deb-451a-a5b9-f78d281c50b4",
   "metadata": {},
   "outputs": [
    {
     "data": {
      "image/png": "[encoded data removed]",
      "text/plain": [
       "<Figure size 432x288 with 1 Axes>"
      ]
     },
     "metadata": {
      "needs_background": "light"
     },
     "output_type": "display_data"
    }
   ],
   "source": [
    "pd.crosstab(df.salary,df.left).plot(kind='bar')\n",
    "plt.title(\"Salary vs left\")\n",
    "plt.xlabel(\"Salary\")\n",
    "plt.ylabel(\"frequency of turnover\")\n",
    "plt.show()\n"
   ]
  },
  {
   "cell_type": "code",
   "execution_count": null,
   "id": "586112f4-b100-4fa7-8c0c-3592fd97cbf6",
   "metadata": {},
   "outputs": [],
   "source": [
    "#pd.crosstab(df.review,df.left).plot(kind='bar')\n",
    "#plt.title(\"review vs left\")\n",
    "#plt.xlabel(\"review\")\n",
    "#plt.ylabel(\"frequency of turnover\")\n",
    "#plt.show()"
   ]
  },
  {
   "cell_type": "code",
   "execution_count": null,
   "id": "3eab5c65-7450-442a-a033-d59ae73d5ca4",
   "metadata": {},
   "outputs": [],
   "source": [
    "#pd.crosstab(df.satisfaction,df.left).plot(kind='bar')\n",
    "#plt.title(\"Satisfaction vs left\")\n",
    "#plt.xlabel(\"Satisfaction\")\n",
    "#plt.ylabel(\"frequency of turnover\")\n",
    "#plt.show()"
   ]
  },
  {
   "cell_type": "code",
   "execution_count": null,
   "id": "d1b1649a-03cd-4095-8271-fd958d6b911e",
   "metadata": {},
   "outputs": [],
   "source": [
    "#pd.crosstab(df.avg_hrs_month,df.left).plot(kind='bar')\n",
    "#plt.title(\"avg_hrs_month vs left\")\n",
    "#plt.xlabel(\"avg_hrs_month\")\n",
    "#plt.ylabel(\"frequency of turnover\")\n",
    "#plt.show()"
   ]
  },
  {
   "cell_type": "code",
   "execution_count": null,
   "id": "f86361d9-136e-42fc-90bb-fda534281ca9",
   "metadata": {},
   "outputs": [
    {
     "data": {
      "image/png": "[encoded data removed]",
      "text/plain": [
       "<Figure size 432x288 with 1 Axes>"
      ]
     },
     "metadata": {
      "needs_background": "light"
     },
     "output_type": "display_data"
    }
   ],
   "source": [
    "pd.crosstab(df.projects,df.left).plot(kind='bar')\n",
    "plt.title(\"Projects vs left\")\n",
    "plt.xlabel(\"Projects\")\n",
    "plt.ylabel(\"frequency of turnover\")\n",
    "plt.show()"
   ]
  },
  {
   "cell_type": "code",
   "execution_count": null,
   "id": "b5aeba8a-b742-423e-994c-1e0068ba4046",
   "metadata": {},
   "outputs": [
    {
     "data": {
      "image/png": "[encoded data removed]",
      "text/plain": [
       "<Figure size 432x288 with 1 Axes>"
      ]
     },
     "metadata": {
      "needs_background": "light"
     },
     "output_type": "display_data"
    }
   ],
   "source": [
    "pd.crosstab(df.tenure,df.left).plot(kind='bar')\n",
    "plt.title(\"tenure vs left\")\n",
    "plt.xlabel(\"tenure\")\n",
    "plt.ylabel(\"frequency of turnover\")\n",
    "plt.show()"
   ]
  },
  {
   "cell_type": "code",
   "execution_count": null,
   "id": "ef697b62-a31b-4756-9e37-354b9fb99973",
   "metadata": {},
   "outputs": [
    {
     "data": {
      "image/png": "[encoded data removed]",
      "text/plain": [
       "<Figure size 432x288 with 1 Axes>"
      ]
     },
     "metadata": {
      "needs_background": "light"
     },
     "output_type": "display_data"
    }
   ],
   "source": [
    "pd.crosstab(df.promoted,df.left).plot(kind='bar')\n",
    "plt.title(\"promoted vs left\")\n",
    "plt.xlabel(\"promoted\")\n",
    "plt.ylabel(\"frequency of turnover\")\n",
    "plt.show()"
   ]
  },
  {
   "cell_type": "code",
   "execution_count": null,
   "id": "228da5b8-badd-4668-b7ef-66c7f7ee9333",
   "metadata": {},
   "outputs": [
    {
     "data": {
      "image/png": "[encoded data removed]",
      "text/plain": [
       "<Figure size 432x288 with 1 Axes>"
      ]
     },
     "metadata": {
      "needs_background": "light"
     },
     "output_type": "display_data"
    }
   ],
   "source": [
    "pd.crosstab(df.bonus,df.left).plot(kind='bar')\n",
    "plt.title(\"bonus vs left\")\n",
    "plt.xlabel(\"bonus\")\n",
    "plt.ylabel(\"frequency of turnover\")\n",
    "plt.show()"
   ]
  },
  {
   "cell_type": "code",
   "execution_count": null,
   "id": "8e4816e4-e776-4bb9-892e-3ffaff76c2d2",
   "metadata": {},
   "outputs": [],
   "source": []
  },
  {
   "cell_type": "markdown",
   "id": "28059feb-f097-492e-a209-5737ace85b2e",
   "metadata": {},
   "source": [
    "# Report"
   ]
  },
  {
   "cell_type": "markdown",
   "id": "b7858f4d-be3a-450a-bcd7-121a441b7c26",
   "metadata": {},
   "source": [
    "A) Data Exploration"
   ]
  },
  {
   "cell_type": "markdown",
   "id": "7d7a6f09-ad46-4d1c-b1ce-90b1a2ac788b",
   "metadata": {},
   "source": [
    "Here are some observations from the above steps:\n",
    "\n",
    "- The number of employees who left the company are 2784 and those who stay are 6756\n",
    "- The average satisfaction level of employees who stayed in the company is higher than those employees who left.\n",
    "- The average working monthly hours of employees who left the company is higher than those employees who stayed.\n",
    "- The avarage salary of employes who left is higher than those who stay.\n",
    "- Employes who engaged in projects are more likely stay with in campany than those who are not participated.\n",
    "- Employees who were promoted in the last 24 monthes are more likely stay with campany.\n"
   ]
  },
  {
   "cell_type": "code",
   "execution_count": null,
   "id": "f30db2ce-5c4f-44ea-8eb7-6dedaee5c011",
   "metadata": {},
   "outputs": [],
   "source": [
    "df1=df.copy()"
   ]
  },
  {
   "cell_type": "code",
   "execution_count": null,
   "id": "88b1bf2e-1487-46f1-9626-a575f11acd56",
   "metadata": {},
   "outputs": [
    {
     "data": {
      "application/com.datacamp.data-table.v1+json": {
       "is_truncated": false,
       "table": {
        "data": [
         {
          "avg_hrs_month": 184.6570571563,
          "bonus": 0.2251991311,
          "left": 0.283128168,
          "projects": 3.3048515568,
          "promoted": 0.0289645185,
          "review": 0.652816011,
          "salary": 1,
          "satisfaction": 0.5049344412,
          "tenure": 6.5561187545
         },
         {
          "avg_hrs_month": 184.6379613695,
          "bonus": 0.2088942671,
          "left": 0.2951142036,
          "projects": 3.2719709575,
          "promoted": 0.0307063984,
          "review": 0.65166273,
          "salary": 2,
          "satisfaction": 0.5050947868,
          "tenure": 6.550446226
         },
         {
          "avg_hrs_month": 184.7664276235,
          "bonus": 0.2138242894,
          "left": 0.2855297158,
          "projects": 3.2603359173,
          "promoted": 0.0297157623,
          "review": 0.6516420678,
          "salary": 3,
          "satisfaction": 0.5024628864,
          "tenure": 6.580749354
         }
        ],
        "schema": {
         "fields": [
          {
           "name": "salary",
           "type": "integer"
          },
          {
           "name": "promoted",
           "type": "number"
          },
          {
           "name": "review",
           "type": "number"
          },
          {
           "name": "projects",
           "type": "number"
          },
          {
           "name": "tenure",
           "type": "number"
          },
          {
           "name": "satisfaction",
           "type": "number"
          },
          {
           "name": "bonus",
           "type": "number"
          },
          {
           "name": "avg_hrs_month",
           "type": "number"
          },
          {
           "name": "left",
           "type": "number"
          }
         ],
         "pandas_version": "0.20.0",
         "primaryKey": [
          "salary"
         ]
        }
       }
      },
      "text/html": [
       "<div>\n",
       "<style scoped>\n",
       "    .dataframe tbody tr th:only-of-type {\n",
       "        vertical-align: middle;\n",
       "    }\n",
       "\n",
       "    .dataframe tbody tr th {\n",
       "        vertical-align: top;\n",
       "    }\n",
       "\n",
       "    .dataframe thead th {\n",
       "        text-align: right;\n",
       "    }\n",
       "</style>\n",
       "<table border=\"1\" class=\"dataframe\">\n",
       "  <thead>\n",
       "    <tr style=\"text-align: right;\">\n",
       "      <th></th>\n",
       "      <th>promoted</th>\n",
       "      <th>review</th>\n",
       "      <th>projects</th>\n",
       "      <th>tenure</th>\n",
       "      <th>satisfaction</th>\n",
       "      <th>bonus</th>\n",
       "      <th>avg_hrs_month</th>\n",
       "      <th>left</th>\n",
       "    </tr>\n",
       "    <tr>\n",
       "      <th>salary</th>\n",
       "      <th></th>\n",
       "      <th></th>\n",
       "      <th></th>\n",
       "      <th></th>\n",
       "      <th></th>\n",
       "      <th></th>\n",
       "      <th></th>\n",
       "      <th></th>\n",
       "    </tr>\n",
       "  </thead>\n",
       "  <tbody>\n",
       "    <tr>\n",
       "      <th>1</th>\n",
       "      <td>0.028965</td>\n",
       "      <td>0.652816</td>\n",
       "      <td>3.304852</td>\n",
       "      <td>6.556119</td>\n",
       "      <td>0.504934</td>\n",
       "      <td>0.225199</td>\n",
       "      <td>184.657057</td>\n",
       "      <td>0.283128</td>\n",
       "    </tr>\n",
       "    <tr>\n",
       "      <th>2</th>\n",
       "      <td>0.030706</td>\n",
       "      <td>0.651663</td>\n",
       "      <td>3.271971</td>\n",
       "      <td>6.550446</td>\n",
       "      <td>0.505095</td>\n",
       "      <td>0.208894</td>\n",
       "      <td>184.637961</td>\n",
       "      <td>0.295114</td>\n",
       "    </tr>\n",
       "    <tr>\n",
       "      <th>3</th>\n",
       "      <td>0.029716</td>\n",
       "      <td>0.651642</td>\n",
       "      <td>3.260336</td>\n",
       "      <td>6.580749</td>\n",
       "      <td>0.502463</td>\n",
       "      <td>0.213824</td>\n",
       "      <td>184.766428</td>\n",
       "      <td>0.285530</td>\n",
       "    </tr>\n",
       "  </tbody>\n",
       "</table>\n",
       "</div>"
      ],
      "text/plain": [
       "        promoted    review  projects    tenure  satisfaction     bonus  \\\n",
       "salary                                                                   \n",
       "1       0.028965  0.652816  3.304852  6.556119      0.504934  0.225199   \n",
       "2       0.030706  0.651663  3.271971  6.550446      0.505095  0.208894   \n",
       "3       0.029716  0.651642  3.260336  6.580749      0.502463  0.213824   \n",
       "\n",
       "        avg_hrs_month      left  \n",
       "salary                           \n",
       "1          184.657057  0.283128  \n",
       "2          184.637961  0.295114  \n",
       "3          184.766428  0.285530  "
      ]
     },
     "execution_count": 22,
     "metadata": {},
     "output_type": "execute_result"
    }
   ],
   "source": [
    "df1.groupby('salary').mean()"
   ]
  },
  {
   "cell_type": "markdown",
   "id": "a9c6902e-9e85-4f4a-ba4d-6cc10d2f0c94",
   "metadata": {},
   "source": [
    "- From the result above we can see that employees who earn medium salary are likely left than others."
   ]
  },
  {
   "cell_type": "code",
   "execution_count": null,
   "id": "8339a94e-0ffe-493e-9f43-2c12d3c854bd",
   "metadata": {},
   "outputs": [
    {
     "data": {
      "application/com.datacamp.data-table.v1+json": {
       "is_truncated": false,
       "table": {
        "data": [
         {
          "avg_hrs_month": 184.820946276,
          "bonus": 0.2219101124,
          "department": "IT",
          "left": 0.308988764,
          "projects": 3.2893258427,
          "promoted": 0.0224719101,
          "review": 0.6477460323,
          "salary": 2.0449438202,
          "satisfaction": 0.5158180786,
          "tenure": 6.6095505618
         },
         {
          "avg_hrs_month": 184.5381204725,
          "bonus": 0.1867612293,
          "department": "admin",
          "left": 0.2813238771,
          "projects": 3.2789598109,
          "promoted": 0.0378250591,
          "review": 0.6470856389,
          "salary": 2.0401891253,
          "satisfaction": 0.5194442044,
          "tenure": 6.4988179669
         },
         {
          "avg_hrs_month": 184.6919620118,
          "bonus": 0.2110817942,
          "department": "engineering",
          "left": 0.2882585752,
          "projects": 3.2638522427,
          "promoted": 0.0230870712,
          "review": 0.6506012649,
          "salary": 2.0204485488,
          "satisfaction": 0.5049441161,
          "tenure": 6.5580474934
         },
         {
          "avg_hrs_month": 184.3751162646,
          "bonus": 0.2313432836,
          "department": "finance",
          "left": 0.2686567164,
          "projects": 3.2935323383,
          "promoted": 0.0472636816,
          "review": 0.6549342285,
          "salary": 2.0298507463,
          "satisfaction": 0.4971832636,
          "tenure": 6.4402985075
         },
         {
          "avg_hrs_month": 184.5899240065,
          "bonus": 0.2083333333,
          "department": "logistics",
          "left": 0.3083333333,
          "projects": 3.275,
          "promoted": 0.0194444444,
          "review": 0.6543736353,
          "salary": 2.0027777778,
          "satisfaction": 0.4930844924,
          "tenure": 6.5277777778
         },
         {
          "avg_hrs_month": 184.4699633156,
          "bonus": 0.2194513716,
          "department": "marketing",
          "left": 0.3029925187,
          "projects": 3.2805486284,
          "promoted": 0.042394015,
          "review": 0.6576936544,
          "salary": 1.9950124688,
          "satisfaction": 0.5024107014,
          "tenure": 6.5037406484
         },
         {
          "avg_hrs_month": 184.8120055593,
          "bonus": 0.2069645204,
          "department": "operations",
          "left": 0.2864651774,
          "projects": 3.2713534823,
          "promoted": 0.0295663601,
          "review": 0.6533968206,
          "salary": 2.0124835742,
          "satisfaction": 0.5046202634,
          "tenure": 6.6084099869
         },
         {
          "avg_hrs_month": 184.7350751604,
          "bonus": 0.2186891629,
          "department": "retail",
          "left": 0.3056456846,
          "projects": 3.2660609994,
          "promoted": 0.0337443219,
          "review": 0.6501519898,
          "salary": 2.0123296561,
          "satisfaction": 0.5027687684,
          "tenure": 6.591174562
         },
         {
          "avg_hrs_month": 184.6167390306,
          "bonus": 0.2118959108,
          "department": "sales",
          "left": 0.2851832183,
          "projects": 3.2862453532,
          "promoted": 0.0265533723,
          "review": 0.6516310832,
          "salary": 2.0111524164,
          "satisfaction": 0.5045200659,
          "tenure": 6.5358470526
         },
         {
          "avg_hrs_month": 184.6428155458,
          "bonus": 0.2040816327,
          "department": "support",
          "left": 0.2884353741,
          "projects": 3.2680272109,
          "promoted": 0.031292517,
          "review": 0.6504665624,
          "salary": 2.0476190476,
          "satisfaction": 0.5065792699,
          "tenure": 6.5646258503
         }
        ],
        "schema": {
         "fields": [
          {
           "name": "department",
           "type": "string"
          },
          {
           "name": "promoted",
           "type": "number"
          },
          {
           "name": "review",
           "type": "number"
          },
          {
           "name": "projects",
           "type": "number"
          },
          {
           "name": "salary",
           "type": "number"
          },
          {
           "name": "tenure",
           "type": "number"
          },
          {
           "name": "satisfaction",
           "type": "number"
          },
          {
           "name": "bonus",
           "type": "number"
          },
          {
           "name": "avg_hrs_month",
           "type": "number"
          },
          {
           "name": "left",
           "type": "number"
          }
         ],
         "pandas_version": "0.20.0",
         "primaryKey": [
          "department"
         ]
        }
       }
      },
      "text/html": [
       "<div>\n",
       "<style scoped>\n",
       "    .dataframe tbody tr th:only-of-type {\n",
       "        vertical-align: middle;\n",
       "    }\n",
       "\n",
       "    .dataframe tbody tr th {\n",
       "        vertical-align: top;\n",
       "    }\n",
       "\n",
       "    .dataframe thead th {\n",
       "        text-align: right;\n",
       "    }\n",
       "</style>\n",
       "<table border=\"1\" class=\"dataframe\">\n",
       "  <thead>\n",
       "    <tr style=\"text-align: right;\">\n",
       "      <th></th>\n",
       "      <th>promoted</th>\n",
       "      <th>review</th>\n",
       "      <th>projects</th>\n",
       "      <th>salary</th>\n",
       "      <th>tenure</th>\n",
       "      <th>satisfaction</th>\n",
       "      <th>bonus</th>\n",
       "      <th>avg_hrs_month</th>\n",
       "      <th>left</th>\n",
       "    </tr>\n",
       "    <tr>\n",
       "      <th>department</th>\n",
       "      <th></th>\n",
       "      <th></th>\n",
       "      <th></th>\n",
       "      <th></th>\n",
       "      <th></th>\n",
       "      <th></th>\n",
       "      <th></th>\n",
       "      <th></th>\n",
       "      <th></th>\n",
       "    </tr>\n",
       "  </thead>\n",
       "  <tbody>\n",
       "    <tr>\n",
       "      <th>IT</th>\n",
       "      <td>0.022472</td>\n",
       "      <td>0.647746</td>\n",
       "      <td>3.289326</td>\n",
       "      <td>2.044944</td>\n",
       "      <td>6.609551</td>\n",
       "      <td>0.515818</td>\n",
       "      <td>0.221910</td>\n",
       "      <td>184.820946</td>\n",
       "      <td>0.308989</td>\n",
       "    </tr>\n",
       "    <tr>\n",
       "      <th>admin</th>\n",
       "      <td>0.037825</td>\n",
       "      <td>0.647086</td>\n",
       "      <td>3.278960</td>\n",
       "      <td>2.040189</td>\n",
       "      <td>6.498818</td>\n",
       "      <td>0.519444</td>\n",
       "      <td>0.186761</td>\n",
       "      <td>184.538120</td>\n",
       "      <td>0.281324</td>\n",
       "    </tr>\n",
       "    <tr>\n",
       "      <th>engineering</th>\n",
       "      <td>0.023087</td>\n",
       "      <td>0.650601</td>\n",
       "      <td>3.263852</td>\n",
       "      <td>2.020449</td>\n",
       "      <td>6.558047</td>\n",
       "      <td>0.504944</td>\n",
       "      <td>0.211082</td>\n",
       "      <td>184.691962</td>\n",
       "      <td>0.288259</td>\n",
       "    </tr>\n",
       "    <tr>\n",
       "      <th>finance</th>\n",
       "      <td>0.047264</td>\n",
       "      <td>0.654934</td>\n",
       "      <td>3.293532</td>\n",
       "      <td>2.029851</td>\n",
       "      <td>6.440299</td>\n",
       "      <td>0.497183</td>\n",
       "      <td>0.231343</td>\n",
       "      <td>184.375116</td>\n",
       "      <td>0.268657</td>\n",
       "    </tr>\n",
       "    <tr>\n",
       "      <th>logistics</th>\n",
       "      <td>0.019444</td>\n",
       "      <td>0.654374</td>\n",
       "      <td>3.275000</td>\n",
       "      <td>2.002778</td>\n",
       "      <td>6.527778</td>\n",
       "      <td>0.493084</td>\n",
       "      <td>0.208333</td>\n",
       "      <td>184.589924</td>\n",
       "      <td>0.308333</td>\n",
       "    </tr>\n",
       "    <tr>\n",
       "      <th>marketing</th>\n",
       "      <td>0.042394</td>\n",
       "      <td>0.657694</td>\n",
       "      <td>3.280549</td>\n",
       "      <td>1.995012</td>\n",
       "      <td>6.503741</td>\n",
       "      <td>0.502411</td>\n",
       "      <td>0.219451</td>\n",
       "      <td>184.469963</td>\n",
       "      <td>0.302993</td>\n",
       "    </tr>\n",
       "    <tr>\n",
       "      <th>operations</th>\n",
       "      <td>0.029566</td>\n",
       "      <td>0.653397</td>\n",
       "      <td>3.271353</td>\n",
       "      <td>2.012484</td>\n",
       "      <td>6.608410</td>\n",
       "      <td>0.504620</td>\n",
       "      <td>0.206965</td>\n",
       "      <td>184.812006</td>\n",
       "      <td>0.286465</td>\n",
       "    </tr>\n",
       "    <tr>\n",
       "      <th>retail</th>\n",
       "      <td>0.033744</td>\n",
       "      <td>0.650152</td>\n",
       "      <td>3.266061</td>\n",
       "      <td>2.012330</td>\n",
       "      <td>6.591175</td>\n",
       "      <td>0.502769</td>\n",
       "      <td>0.218689</td>\n",
       "      <td>184.735075</td>\n",
       "      <td>0.305646</td>\n",
       "    </tr>\n",
       "    <tr>\n",
       "      <th>sales</th>\n",
       "      <td>0.026553</td>\n",
       "      <td>0.651631</td>\n",
       "      <td>3.286245</td>\n",
       "      <td>2.011152</td>\n",
       "      <td>6.535847</td>\n",
       "      <td>0.504520</td>\n",
       "      <td>0.211896</td>\n",
       "      <td>184.616739</td>\n",
       "      <td>0.285183</td>\n",
       "    </tr>\n",
       "    <tr>\n",
       "      <th>support</th>\n",
       "      <td>0.031293</td>\n",
       "      <td>0.650467</td>\n",
       "      <td>3.268027</td>\n",
       "      <td>2.047619</td>\n",
       "      <td>6.564626</td>\n",
       "      <td>0.506579</td>\n",
       "      <td>0.204082</td>\n",
       "      <td>184.642816</td>\n",
       "      <td>0.288435</td>\n",
       "    </tr>\n",
       "  </tbody>\n",
       "</table>\n",
       "</div>"
      ],
      "text/plain": [
       "             promoted    review  projects    salary    tenure  satisfaction  \\\n",
       "department                                                                    \n",
       "IT           0.022472  0.647746  3.289326  2.044944  6.609551      0.515818   \n",
       "admin        0.037825  0.647086  3.278960  2.040189  6.498818      0.519444   \n",
       "engineering  0.023087  0.650601  3.263852  2.020449  6.558047      0.504944   \n",
       "finance      0.047264  0.654934  3.293532  2.029851  6.440299      0.497183   \n",
       "logistics    0.019444  0.654374  3.275000  2.002778  6.527778      0.493084   \n",
       "marketing    0.042394  0.657694  3.280549  1.995012  6.503741      0.502411   \n",
       "operations   0.029566  0.653397  3.271353  2.012484  6.608410      0.504620   \n",
       "retail       0.033744  0.650152  3.266061  2.012330  6.591175      0.502769   \n",
       "sales        0.026553  0.651631  3.286245  2.011152  6.535847      0.504520   \n",
       "support      0.031293  0.650467  3.268027  2.047619  6.564626      0.506579   \n",
       "\n",
       "                bonus  avg_hrs_month      left  \n",
       "department                                      \n",
       "IT           0.221910     184.820946  0.308989  \n",
       "admin        0.186761     184.538120  0.281324  \n",
       "engineering  0.211082     184.691962  0.288259  \n",
       "finance      0.231343     184.375116  0.268657  \n",
       "logistics    0.208333     184.589924  0.308333  \n",
       "marketing    0.219451     184.469963  0.302993  \n",
       "operations   0.206965     184.812006  0.286465  \n",
       "retail       0.218689     184.735075  0.305646  \n",
       "sales        0.211896     184.616739  0.285183  \n",
       "support      0.204082     184.642816  0.288435  "
      ]
     },
     "execution_count": 23,
     "metadata": {},
     "output_type": "execute_result"
    }
   ],
   "source": [
    "df1.groupby('department').mean()\n",
    "#df.columns"
   ]
  },
  {
   "cell_type": "markdown",
   "id": "5e9c2e4b-4b46-40e7-8d3b-0675df56d30c",
   "metadata": {},
   "source": [
    "- IT, Logistics,retail departments are the top three having highest turnover in ascending order.\n",
    "- Finance department has lowest turnover rate."
   ]
  },
  {
   "cell_type": "markdown",
   "id": "06f6edad-74c2-4841-9f7c-cf87f2d8274c",
   "metadata": {},
   "source": [
    "B) Visualization"
   ]
  },
  {
   "cell_type": "markdown",
   "id": "122eb14b-b013-48c2-8a6a-1699ce34e01b",
   "metadata": {},
   "source": [
    "- The frequency of employee turnover depends  on the department they work for. Thus, department can be a good predictor of the outcome variable.\n",
    "- Also, the frequency of employee turnover depends  on their salary, tunure, promotion, projects and bonus. "
   ]
  },
  {
   "cell_type": "code",
   "execution_count": null,
   "id": "f846256d-a008-4904-9aea-f4e151d7b123",
   "metadata": {},
   "outputs": [
    {
     "data": {
      "image/png": "[encoded data removed]",
      "text/plain": [
       "<Figure size 1440x1080 with 9 Axes>"
      ]
     },
     "metadata": {
      "needs_background": "light"
     },
     "output_type": "display_data"
    }
   ],
   "source": [
    "#distribution of each variable\n",
    "num_bins = 10\n",
    "df.hist(bins=num_bins, figsize=(20,15))\n",
    "plt.savefig(\"df_histogram_plots\")\n",
    "plt.show()"
   ]
  },
  {
   "cell_type": "markdown",
   "id": "2323b4e7-8bd7-4c03-b6b8-f16c7170784e",
   "metadata": {},
   "source": [
    "# Model and prediction"
   ]
  },
  {
   "cell_type": "markdown",
   "id": "856373da-b691-4fb2-b0f5-b902228dbb75",
   "metadata": {},
   "source": [
    "We need to predict employes turnover  and get variables which significant with great accuracy. \n",
    "So our our target is \"left\" variable and all others are predictors.\n",
    " We know that feature selection method help us to decide which variable is significate to predict the target variable."
   ]
  },
  {
   "cell_type": "code",
   "execution_count": null,
   "id": "d298030e-f59f-43d1-be2c-c4a0faf4abd4",
   "metadata": {},
   "outputs": [
    {
     "data": {
      "text/plain": [
       "Index(['department', 'promoted', 'review', 'projects', 'salary', 'tenure',\n",
       "       'satisfaction', 'bonus', 'avg_hrs_month', 'left', 'dep_code'],\n",
       "      dtype='object')"
      ]
     },
     "execution_count": 25,
     "metadata": {},
     "output_type": "execute_result"
    }
   ],
   "source": [
    "#encode department\n",
    "from sklearn.preprocessing import OrdinalEncoder\n",
    "\n",
    "ord_enc = OrdinalEncoder()\n",
    "df[\"dep_code\"] = ord_enc.fit_transform(df[[\"department\"]])\n",
    "df1=df[[\"department\", \"dep_code\"]]\n",
    "df.columns"
   ]
  },
  {
   "cell_type": "code",
   "execution_count": null,
   "id": "bf233dde-5847-4c6f-aa38-d23b0d556e80",
   "metadata": {},
   "outputs": [
    {
     "data": {
      "application/com.datacamp.data-table.v1+json": {
       "is_truncated": false,
       "table": {
        "data": [
         {
          "dep_code": 6,
          "department": "operations",
          "index": 0
         },
         {
          "dep_code": 6,
          "department": "operations",
          "index": 1
         },
         {
          "dep_code": 9,
          "department": "support",
          "index": 2
         },
         {
          "dep_code": 4,
          "department": "logistics",
          "index": 3
         },
         {
          "dep_code": 8,
          "department": "sales",
          "index": 4
         }
        ],
        "schema": {
         "fields": [
          {
           "name": "index",
           "type": "integer"
          },
          {
           "name": "department",
           "type": "string"
          },
          {
           "name": "dep_code",
           "type": "number"
          }
         ],
         "pandas_version": "0.20.0",
         "primaryKey": [
          "index"
         ]
        }
       }
      },
      "text/html": [
       "<div>\n",
       "<style scoped>\n",
       "    .dataframe tbody tr th:only-of-type {\n",
       "        vertical-align: middle;\n",
       "    }\n",
       "\n",
       "    .dataframe tbody tr th {\n",
       "        vertical-align: top;\n",
       "    }\n",
       "\n",
       "    .dataframe thead th {\n",
       "        text-align: right;\n",
       "    }\n",
       "</style>\n",
       "<table border=\"1\" class=\"dataframe\">\n",
       "  <thead>\n",
       "    <tr style=\"text-align: right;\">\n",
       "      <th></th>\n",
       "      <th>department</th>\n",
       "      <th>dep_code</th>\n",
       "    </tr>\n",
       "  </thead>\n",
       "  <tbody>\n",
       "    <tr>\n",
       "      <th>0</th>\n",
       "      <td>operations</td>\n",
       "      <td>6.0</td>\n",
       "    </tr>\n",
       "    <tr>\n",
       "      <th>1</th>\n",
       "      <td>operations</td>\n",
       "      <td>6.0</td>\n",
       "    </tr>\n",
       "    <tr>\n",
       "      <th>2</th>\n",
       "      <td>support</td>\n",
       "      <td>9.0</td>\n",
       "    </tr>\n",
       "    <tr>\n",
       "      <th>3</th>\n",
       "      <td>logistics</td>\n",
       "      <td>4.0</td>\n",
       "    </tr>\n",
       "    <tr>\n",
       "      <th>4</th>\n",
       "      <td>sales</td>\n",
       "      <td>8.0</td>\n",
       "    </tr>\n",
       "  </tbody>\n",
       "</table>\n",
       "</div>"
      ],
      "text/plain": [
       "   department  dep_code\n",
       "0  operations       6.0\n",
       "1  operations       6.0\n",
       "2     support       9.0\n",
       "3   logistics       4.0\n",
       "4       sales       8.0"
      ]
     },
     "execution_count": 26,
     "metadata": {},
     "output_type": "execute_result"
    }
   ],
   "source": [
    "df.dep_code.unique().tolist()\n",
    "df[[\"department\", \"dep_code\"]].head()"
   ]
  },
  {
   "cell_type": "code",
   "execution_count": null,
   "id": "a25eba9f-609a-46f4-b2fe-244ca0a7db50",
   "metadata": {},
   "outputs": [
    {
     "data": {
      "text/plain": [
       "<AxesSubplot:ylabel='department'>"
      ]
     },
     "execution_count": 27,
     "metadata": {},
     "output_type": "execute_result"
    },
    {
     "data": {
      "image/png": "[encoded data removed]",
      "text/plain": [
       "<Figure size 432x288 with 1 Axes>"
      ]
     },
     "metadata": {},
     "output_type": "display_data"
    }
   ],
   "source": [
    "df['department'].value_counts().plot(kind='pie')"
   ]
  },
  {
   "cell_type": "code",
   "execution_count": null,
   "id": "87c5cd59-ebb1-4d9e-abf8-4936b25dbfc2",
   "metadata": {},
   "outputs": [
    {
     "data": {
      "text/plain": [
       "(9540, 10)"
      ]
     },
     "execution_count": 28,
     "metadata": {},
     "output_type": "execute_result"
    }
   ],
   "source": [
    "# Drop the 'department'  column\n",
    "df.drop(['department'], axis='columns', inplace=True)\n",
    "df.shape"
   ]
  },
  {
   "cell_type": "code",
   "execution_count": null,
   "id": "89b2ead7-d11f-43f0-9cb3-8633f0856bbd",
   "metadata": {},
   "outputs": [],
   "source": [
    "df_vars=df.columns.values.tolist()\n",
    "y=['left']\n",
    "X=[]\n",
    "for i in df_vars:\n",
    "    if i not in y:\n",
    "        X.append(i)"
   ]
  },
  {
   "cell_type": "code",
   "execution_count": null,
   "id": "e5f18bc9-a2dd-43b9-8d52-03791be7d93c",
   "metadata": {},
   "outputs": [
    {
     "data": {
      "text/plain": [
       "['promoted',\n",
       " 'review',\n",
       " 'projects',\n",
       " 'salary',\n",
       " 'tenure',\n",
       " 'satisfaction',\n",
       " 'bonus',\n",
       " 'avg_hrs_month',\n",
       " 'dep_code']"
      ]
     },
     "execution_count": 30,
     "metadata": {},
     "output_type": "execute_result"
    }
   ],
   "source": [
    "X"
   ]
  },
  {
   "cell_type": "markdown",
   "id": "53164904-e0a7-49d8-ab3b-4f87d6464f49",
   "metadata": {},
   "source": [
    "The goal of recursive feature elimination (RFE) is to select features by recursively considering smaller and smaller sets of features. you can get more info about RFE https://scikit-learn.org/stable/modules/generated/sklearn.feature_selection.RFE.html"
   ]
  },
  {
   "cell_type": "code",
   "execution_count": null,
   "id": "c6d6e461-12bd-4d8a-9590-314aeed2e7e0",
   "metadata": {},
   "outputs": [
    {
     "name": "stdout",
     "output_type": "stream",
     "text": [
      "[ True  True False False False  True False False False]\n",
      "[1 1 3 6 2 1 4 5 7]\n"
     ]
    }
   ],
   "source": [
    "from sklearn.feature_selection import RFE\n",
    "from sklearn.linear_model import LogisticRegression\n",
    "model = LogisticRegression()\n",
    "rfe = RFE(model, 3)\n",
    "rfe = rfe.fit(df[X], df[y])\n",
    "print(rfe.support_)\n",
    "print(rfe.ranking_)"
   ]
  },
  {
   "cell_type": "markdown",
   "id": "6a612db4-6d1c-48a4-bcca-d21119d5b2f6",
   "metadata": {},
   "source": [
    "RFE chose the 3 variables for us, which are marked True in the support_ array and marked with a choice “1” in the ranking_array. They are:\n",
    "\n",
    "[\"promoted\",\"review\",\"satisfaction\"]"
   ]
  },
  {
   "cell_type": "code",
   "execution_count": null,
   "id": "b2a659de-4ffa-4ae5-a754-507cd001c5dc",
   "metadata": {},
   "outputs": [
    {
     "data": {
      "text/plain": [
       "(array([0, 1, 2, 3, 4, 5, 6, 7, 8, 9]),\n",
       " [Text(0, 0, '0.0'),\n",
       "  Text(1, 0, '1.0'),\n",
       "  Text(2, 0, '2.0'),\n",
       "  Text(3, 0, '3.0'),\n",
       "  Text(4, 0, '4.0'),\n",
       "  Text(5, 0, '5.0'),\n",
       "  Text(6, 0, '6.0'),\n",
       "  Text(7, 0, '7.0'),\n",
       "  Text(8, 0, '8.0'),\n",
       "  Text(9, 0, '9.0')])"
      ]
     },
     "execution_count": 32,
     "metadata": {},
     "output_type": "execute_result"
    },
    {
     "data": {
      "image/png": "[encoded data removed]",
      "text/plain": [
       "<Figure size 432x288 with 1 Axes>"
      ]
     },
     "metadata": {
      "needs_background": "light"
     },
     "output_type": "display_data"
    }
   ],
   "source": [
    "# Types of colors\n",
    "color_types = ['#78C850','#F08030','#6890F0','#A8B820','#A8A878','#A040A0','#F8D030',  \n",
    "                '#E0C068','#EE99AC','#C03028','#F85888','#B8A038','#705898','#98D8D8','#7038F8']\n",
    "\n",
    "# Count Plot (a.k.a. Bar Plot)\n",
    "sns.countplot(x='dep_code', data=df, palette=color_types).set_title('Employee Department Distribution');\n",
    " \n",
    "# Rotate x-labels\n",
    "plt.xticks(rotation=-45)"
   ]
  },
  {
   "cell_type": "code",
   "execution_count": null,
   "id": "d17be46f-f8f3-48a0-8b2b-cb1a65f13f74",
   "metadata": {},
   "outputs": [],
   "source": []
  },
  {
   "cell_type": "markdown",
   "id": "47810386-b326-40b2-b6ab-a54f3bf55653",
   "metadata": {},
   "source": [
    " ML models"
   ]
  },
  {
   "cell_type": "code",
   "execution_count": null,
   "id": "39dab972-ea10-4f13-8c7c-24de1574ba3a",
   "metadata": {},
   "outputs": [],
   "source": [
    "from sklearn.neighbors import KNeighborsClassifier\n",
    "from sklearn.model_selection import train_test_split\n",
    "from sklearn.linear_model import LogisticRegression\n",
    "from sklearn import metrics\n",
    "from sklearn.metrics import accuracy_score\n",
    "from sklearn.ensemble import RandomForestClassifier\n",
    "from sklearn import model_selection\n",
    "from sklearn.model_selection import cross_val_score\n",
    "from sklearn.svm import SVC\n",
    "from sklearn.metrics import classification_report\n",
    "from sklearn.metrics import confusion_matrix\n",
    "from sklearn.metrics import roc_auc_score\n",
    "from sklearn.metrics import roc_curve"
   ]
  },
  {
   "cell_type": "code",
   "execution_count": null,
   "id": "cb2aa608-e899-4643-aa18-78ddde5cd2b0",
   "metadata": {},
   "outputs": [],
   "source": [
    "# featurs\n",
    "columns=['promoted','review','projects', 'salary', 'tenure', 'satisfaction', 'bonus', 'avg_hrs_month',  'dep_code'] \n",
    "x=df[columns]\n",
    "y=df['left']"
   ]
  },
  {
   "cell_type": "code",
   "execution_count": null,
   "id": "e78b8bf8-cea8-48a7-94cc-f7f69203768e",
   "metadata": {},
   "outputs": [],
   "source": [
    "\n",
    "#Split data into training and test samples\n",
    "x_train, x_test, y_train, y_test = train_test_split(x, y, test_size=0.2, random_state=0)"
   ]
  },
  {
   "cell_type": "markdown",
   "id": "4dd01203-e9af-4fe0-bfe2-06c5f9a93ede",
   "metadata": {},
   "source": [
    " A) Logistic Regression \n"
   ]
  },
  {
   "cell_type": "code",
   "execution_count": null,
   "id": "53d0059e-2906-4447-81e6-2418020457ee",
   "metadata": {},
   "outputs": [
    {
     "name": "stdout",
     "output_type": "stream",
     "text": [
      "Logistic regression accuracy: 0.724\n"
     ]
    }
   ],
   "source": [
    "model = LogisticRegression()\n",
    "model.fit(x_train, y_train)\n",
    "print('Logistic regression accuracy: {:.3f}'.format(accuracy_score(y_test, model.predict(x_test))))"
   ]
  },
  {
   "cell_type": "markdown",
   "id": "ddc2de98-70c4-4a68-9994-1331be9b4efa",
   "metadata": {},
   "source": [
    "B) Random Forest Classifier\n"
   ]
  },
  {
   "cell_type": "code",
   "execution_count": null,
   "id": "8ba31c58-d6b8-4576-9ca2-19f9c9eca9c4",
   "metadata": {},
   "outputs": [
    {
     "name": "stdout",
     "output_type": "stream",
     "text": [
      "Random Forest Accuracy: 0.853\n"
     ]
    }
   ],
   "source": [
    "rf = RandomForestClassifier()\n",
    "rf.fit(x_train, y_train)\n",
    "print('Random Forest Accuracy: {:.3f}'.format(accuracy_score(y_test, rf.predict(x_test))))\n"
   ]
  },
  {
   "cell_type": "markdown",
   "id": "5ab93b72-38cc-4356-8b93-478c7a391c04",
   "metadata": {},
   "source": [
    "C) SVM Classifier\n"
   ]
  },
  {
   "cell_type": "code",
   "execution_count": null,
   "id": "6b8c4f93-1d6d-45a6-a3e7-1cded65ae63a",
   "metadata": {},
   "outputs": [
    {
     "name": "stdout",
     "output_type": "stream",
     "text": [
      "Support vector machine accuracy: 0.698\n"
     ]
    }
   ],
   "source": [
    "svc = SVC()\n",
    "svc.fit(x_train, y_train)\n",
    "print('Support vector machine accuracy: {:.3f}'.format(accuracy_score(y_test, svc.predict(x_test))))"
   ]
  },
  {
   "cell_type": "code",
   "execution_count": null,
   "id": "d7269d3e-b2aa-45ff-b922-eda9aa6d7fa4",
   "metadata": {},
   "outputs": [
    {
     "name": "stdout",
     "output_type": "stream",
     "text": [
      "Accuracy is  73.53249475890985 % for K-Value: 1\n",
      "Accuracy is  74.1090146750524 % for K-Value: 2\n",
      "Accuracy is  71.96016771488469 % for K-Value: 3\n",
      "Accuracy is  74.21383647798741 % for K-Value: 4\n",
      "Accuracy is  73.32285115303984 % for K-Value: 5\n",
      "Accuracy is  74.58071278825996 % for K-Value: 6\n",
      "Accuracy is  74.94758909853249 % for K-Value: 7\n",
      "Accuracy is  74.58071278825996 % for K-Value: 8\n",
      "Accuracy is  75.05241090146751 % for K-Value: 9\n",
      "Accuracy is  75.05241090146751 % for K-Value: 10\n",
      "Accuracy is  75.83857442348008 % for K-Value: 11\n",
      "Accuracy is  75.26205450733752 % for K-Value: 12\n",
      "Accuracy is  75.62893081761007 % for K-Value: 13\n",
      "Accuracy is  75.68134171907757 % for K-Value: 14\n",
      "Accuracy is  75.36687631027253 % for K-Value: 15\n",
      "Accuracy is  75.57651991614256 % for K-Value: 16\n",
      "Accuracy is  75.15723270440252 % for K-Value: 17\n",
      "Accuracy is  75.68134171907757 % for K-Value: 18\n",
      "Accuracy is  76.41509433962264 % for K-Value: 19\n",
      "Accuracy is  75.52410901467506 % for K-Value: 20\n",
      "Accuracy is  75.68134171907757 % for K-Value: 21\n",
      "Accuracy is  75.104821802935 % for K-Value: 22\n",
      "Accuracy is  74.94758909853249 % for K-Value: 23\n",
      "Accuracy is  75.05241090146751 % for K-Value: 24\n",
      "Accuracy is  74.94758909853249 % for K-Value: 25\n"
     ]
    }
   ],
   "source": [
    "for K in range(25):\n",
    "    K_value = K+1\n",
    "    knn = KNeighborsClassifier(n_neighbors = K_value, weights='uniform', algorithm='auto')\n",
    "    knn.fit(x_train, y_train) \n",
    "    y_pred = knn.predict(x_test)\n",
    "    print (\"Accuracy is \", accuracy_score(y_test,y_pred)*100,\"% for K-Value:\",K_value)"
   ]
  },
  {
   "cell_type": "markdown",
   "id": "4d760373-e433-4f6e-9d38-6a4a76bec0d4",
   "metadata": {},
   "source": [
    "From the above models we can see that Random forest is better model. It performs 86%. However, we have to validate our result to decide wheather random forest is best predictive model for employees turnover. So I will apply Cross-validation to estimate how it is accurate predictive model and use in practice."
   ]
  },
  {
   "cell_type": "code",
   "execution_count": null,
   "id": "1926bee7-fe7e-472b-9de3-47ba36709b3f",
   "metadata": {},
   "outputs": [],
   "source": [
    "kfold = model_selection.KFold(n_splits=10,shuffle=True, random_state=0)\n",
    "scoring = 'accuracy'"
   ]
  },
  {
   "cell_type": "code",
   "execution_count": null,
   "id": "9abdaa2f-b225-4395-a51f-ff6835c10117",
   "metadata": {},
   "outputs": [
    {
     "name": "stdout",
     "output_type": "stream",
     "text": [
      "10-fold cross validation average accuracy for SVM Classifier: 0.711\n"
     ]
    }
   ],
   "source": [
    "# SVM\n",
    "model_CVs = SVC()\n",
    "results = model_selection.cross_val_score(model_CVs, x_train, y_train, cv=kfold, scoring=scoring)\n",
    "print(\"10-fold cross validation average accuracy for SVM Classifier: %.3f\" % (results.mean()))"
   ]
  },
  {
   "cell_type": "code",
   "execution_count": null,
   "id": "3c04aa31-5ba9-4ffa-9f8e-7a6c4eb291d4",
   "metadata": {
    "tags": []
   },
   "outputs": [
    {
     "name": "stdout",
     "output_type": "stream",
     "text": [
      "10-fold cross validation average accuracy for Random Forest Classifier: 0.874\n"
     ]
    }
   ],
   "source": [
    "# Random Forest\n",
    "model_CVs = RandomForestClassifier()\n",
    "results = model_selection.cross_val_score(model_CVs, x_train, y_train, cv=kfold, scoring=scoring)\n",
    "print(\"10-fold cross validation average accuracy for Random Forest Classifier: %.3f\" % (results.mean()))"
   ]
  },
  {
   "cell_type": "code",
   "execution_count": null,
   "id": "85bc8da1-09ed-446c-9b4e-021da3cbba71",
   "metadata": {},
   "outputs": [
    {
     "name": "stdout",
     "output_type": "stream",
     "text": [
      "10-fold cross validation average accuracy for KNeighbors Classifier: 0.749\n"
     ]
    }
   ],
   "source": [
    "#KNN\n",
    "model_CVs = KNeighborsClassifier()\n",
    "results = model_selection.cross_val_score(model_CVs, x_train, y_train, cv=kfold, scoring=scoring)\n",
    "print(\"10-fold cross validation average accuracy for KNeighbors Classifier: %.3f\" % (results.mean()))"
   ]
  },
  {
   "cell_type": "code",
   "execution_count": null,
   "id": "dc7ee926-3f79-4286-8b96-06c27b3528a0",
   "metadata": {},
   "outputs": [
    {
     "name": "stdout",
     "output_type": "stream",
     "text": [
      "10-fold cross validation average accuracy for LogisticRegression Classifier: 0.731\n"
     ]
    }
   ],
   "source": [
    "#Logeistic Regression\n",
    "model_CVs = LogisticRegression()\n",
    "results = model_selection.cross_val_score(model_CVs, x_train, y_train, cv=kfold, scoring=scoring)\n",
    "print(\"10-fold cross validation average accuracy for LogisticRegression Classifier: %.3f\" % (results.mean()))"
   ]
  },
  {
   "cell_type": "markdown",
   "id": "33c52d76-f4ef-4512-938e-21acc55e2608",
   "metadata": {},
   "source": [
    " The cross validation scoer results remains  close to the KNN, Random Forest & SVM model accuracy. However, we need to evaluate the accuracy of the model using Precision and Recall."
   ]
  },
  {
   "cell_type": "markdown",
   "id": "f8fcad7d-b8eb-46ce-aa1c-a271d17f4ca6",
   "metadata": {},
   "source": [
    "# Precision and Recall\n",
    "Next we see confusion matrix helps us to visualize predictions made by a classifier and evaluate its accuracy. The following question has to be raised:\n",
    " - When an employee left?\n",
    " "
   ]
  },
  {
   "cell_type": "code",
   "execution_count": null,
   "id": "68924c20-ab28-4bfc-be02-169d61b0b511",
   "metadata": {},
   "outputs": [
    {
     "name": "stdout",
     "output_type": "stream",
     "text": [
      "              precision    recall  f1-score   support\n",
      "\n",
      "           0       0.87      0.93      0.90      1332\n",
      "           1       0.80      0.68      0.74       576\n",
      "\n",
      "    accuracy                           0.85      1908\n",
      "   macro avg       0.84      0.80      0.82      1908\n",
      "weighted avg       0.85      0.85      0.85      1908\n",
      "\n"
     ]
    }
   ],
   "source": [
    "#Precison Recall Scores for Random Forest\n",
    "print(classification_report(y_test, rf.predict(x_test)))"
   ]
  },
  {
   "cell_type": "code",
   "execution_count": null,
   "id": "8544ff57-48e8-4af5-bc39-2effd2b40a94",
   "metadata": {},
   "outputs": [
    {
     "data": {
      "image/png": "[encoded data removed]",
      "text/plain": [
       "<Figure size 432x288 with 2 Axes>"
      ]
     },
     "metadata": {
      "needs_background": "light"
     },
     "output_type": "display_data"
    }
   ],
   "source": [
    "#Confusion Matrix for Random Forest\n",
    "y_pred = rf.predict(x_test)\n",
    "forest_cm = metrics.confusion_matrix(y_pred, y_test, [1,0])\n",
    "sns.heatmap(forest_cm, annot=True, fmt='.2f',xticklabels = [\"Left\", \"Stayed\"] , yticklabels = [\"Left\", \"Stayed\"] )\n",
    "plt.ylabel('True class')\n",
    "plt.xlabel('Predicted class')\n",
    "plt.title('Random Forest')\n",
    "plt.savefig('random_forest')"
   ]
  },
  {
   "cell_type": "code",
   "execution_count": null,
   "id": "2141c9a6-3a0e-4507-b402-39eeeb5c062d",
   "metadata": {},
   "outputs": [
    {
     "data": {
      "text/plain": [
       "0.6909722222222222"
      ]
     },
     "execution_count": 47,
     "metadata": {},
     "output_type": "execute_result"
    }
   ],
   "source": [
    "398/576"
   ]
  },
  {
   "cell_type": "code",
   "execution_count": null,
   "id": "ab9a5b4f-e376-44d8-b1e7-dc079d6b1056",
   "metadata": {},
   "outputs": [
    {
     "name": "stdout",
     "output_type": "stream",
     "text": [
      "              precision    recall  f1-score   support\n",
      "\n",
      "           0       0.76      0.93      0.84      1332\n",
      "           1       0.67      0.34      0.45       576\n",
      "\n",
      "    accuracy                           0.75      1908\n",
      "   macro avg       0.72      0.63      0.64      1908\n",
      "weighted avg       0.74      0.75      0.72      1908\n",
      "\n"
     ]
    }
   ],
   "source": [
    "#Precison Recall Scores for KNN\n",
    "print(classification_report(y_test, knn.predict(x_test)))"
   ]
  },
  {
   "cell_type": "code",
   "execution_count": null,
   "id": "405f9c3f-a99f-4977-a295-db95cf97dcde",
   "metadata": {},
   "outputs": [
    {
     "data": {
      "image/png": "[encoded data removed]",
      "text/plain": [
       "<Figure size 432x288 with 2 Axes>"
      ]
     },
     "metadata": {
      "needs_background": "light"
     },
     "output_type": "display_data"
    }
   ],
   "source": [
    "#Confusion Matrix for KNN\n",
    "y_pred = knn.predict(x_test)\n",
    "knn_cm = metrics.confusion_matrix(y_pred, y_test, [1,0])\n",
    "sns.heatmap(knn_cm, annot=True, fmt='.2f',xticklabels = [\"Left\", \"Stayed\"] , yticklabels = [\"Left\", \"Stayed\"] )\n",
    "plt.ylabel('True class')\n",
    "plt.xlabel('Predicted class')\n",
    "plt.title('KNN')\n",
    "plt.savefig('KNN')"
   ]
  },
  {
   "cell_type": "code",
   "execution_count": null,
   "id": "4feea20e-0493-4087-a401-dd6949a5c11f",
   "metadata": {},
   "outputs": [
    {
     "data": {
      "text/plain": [
       "0.3368055555555556"
      ]
     },
     "execution_count": 50,
     "metadata": {},
     "output_type": "execute_result"
    }
   ],
   "source": [
    "194/576"
   ]
  },
  {
   "cell_type": "code",
   "execution_count": null,
   "id": "c97557a2-8c15-4e67-ac74-3a87899a0e7a",
   "metadata": {},
   "outputs": [
    {
     "name": "stdout",
     "output_type": "stream",
     "text": [
      "              precision    recall  f1-score   support\n",
      "\n",
      "           0       0.73      0.97      0.83      1332\n",
      "           1       0.68      0.16      0.26       576\n",
      "\n",
      "    accuracy                           0.72      1908\n",
      "   macro avg       0.70      0.56      0.54      1908\n",
      "weighted avg       0.71      0.72      0.66      1908\n",
      "\n"
     ]
    }
   ],
   "source": [
    "#Precison Recall Scores for Logistic Regression\n",
    "print(classification_report(y_test, model.predict(x_test)))"
   ]
  },
  {
   "cell_type": "code",
   "execution_count": null,
   "id": "a325c867-6f4a-4880-acbf-7a601e34cbae",
   "metadata": {},
   "outputs": [
    {
     "data": {
      "image/png": "[encoded data removed]",
      "text/plain": [
       "<Figure size 432x288 with 2 Axes>"
      ]
     },
     "metadata": {
      "needs_background": "light"
     },
     "output_type": "display_data"
    }
   ],
   "source": [
    "#Confusion Matrix for Logistic Regression\n",
    "y_pred = model.predict(x_test)\n",
    "model_cm = metrics.confusion_matrix(y_pred, y_test, [1,0])\n",
    "sns.heatmap(model_cm, annot=True, fmt='.2f',xticklabels = [\"Left\", \"Stayed\"] , yticklabels = [\"Left\", \"Stayed\"] )\n",
    "plt.ylabel('True class')\n",
    "plt.xlabel('Predicted class')\n",
    "plt.title('KNN')\n",
    "plt.savefig('KNN')"
   ]
  },
  {
   "cell_type": "code",
   "execution_count": null,
   "id": "b042a43d-bc44-4ed8-b2b3-7f35070b9955",
   "metadata": {},
   "outputs": [
    {
     "data": {
      "text/plain": [
       "0.1597222222222222"
      ]
     },
     "execution_count": 53,
     "metadata": {},
     "output_type": "execute_result"
    }
   ],
   "source": [
    "92/576"
   ]
  },
  {
   "cell_type": "code",
   "execution_count": null,
   "id": "c62b54a6-8c74-48ec-b6b4-b65106540ebc",
   "metadata": {},
   "outputs": [
    {
     "name": "stdout",
     "output_type": "stream",
     "text": [
      "              precision    recall  f1-score   support\n",
      "\n",
      "           0       0.70      1.00      0.82      1332\n",
      "           1       0.00      0.00      0.00       576\n",
      "\n",
      "    accuracy                           0.70      1908\n",
      "   macro avg       0.35      0.50      0.41      1908\n",
      "weighted avg       0.49      0.70      0.57      1908\n",
      "\n"
     ]
    }
   ],
   "source": [
    "#Precison Recall Scores for SVM\n",
    "print(classification_report(y_test, svc.predict(x_test)))"
   ]
  },
  {
   "cell_type": "code",
   "execution_count": null,
   "id": "1afab432-8092-4b64-be9e-0ce53d7fd17b",
   "metadata": {},
   "outputs": [
    {
     "data": {
      "image/png": "[encoded data removed]",
      "text/plain": [
       "<Figure size 432x288 with 2 Axes>"
      ]
     },
     "metadata": {
      "needs_background": "light"
     },
     "output_type": "display_data"
    }
   ],
   "source": [
    "#Confusion Matrix for Logistic Regression\n",
    "y_pred = svc.predict(x_test)\n",
    "svm_cm = metrics.confusion_matrix(y_pred, y_test, [1,0])\n",
    "sns.heatmap(svm_cm, annot=True, fmt='.2f',xticklabels = [\"Left\", \"Stayed\"] , yticklabels = [\"Left\", \"Stayed\"] )\n",
    "plt.ylabel('True class')\n",
    "plt.xlabel('Predicted class')\n",
    "plt.title('SVM')\n",
    "plt.savefig('SVM')"
   ]
  },
  {
   "cell_type": "markdown",
   "id": "726b1c5a-7c3f-4011-8278-c0de7f2d92e5",
   "metadata": {},
   "source": [
    "From all of the turnover cases, random forest correctly retrieved 398 out of 576. This translates to a turnover \"recall\" and \"precision of about 69% (398/576), which is  better than KNN (33.6%), logistic regression (15.9%) and support vector machines (0%)"
   ]
  },
  {
   "cell_type": "markdown",
   "id": "f4d8f98a-79d3-4083-850d-bec7330cb1d5",
   "metadata": {},
   "source": [
    "# ROC Curve"
   ]
  },
  {
   "cell_type": "code",
   "execution_count": null,
   "id": "7d1c6d32-6ea4-4a2b-b932-88185060b256",
   "metadata": {},
   "outputs": [
    {
     "data": {
      "image/png": "[encoded data removed]",
      "text/plain": [
       "<Figure size 432x288 with 1 Axes>"
      ]
     },
     "metadata": {
      "needs_background": "light"
     },
     "output_type": "display_data"
    }
   ],
   "source": [
    "#ROC for logistic regression\n",
    "log_roc_auc = roc_auc_score(y_test, model.predict(x_test))\n",
    "fpr, tpr, thresholds = roc_curve(y_test, model.predict_proba(x_test)[:,1])\n",
    "\n",
    "#ROC for Random Forrest\n",
    "rf_roc_auc = roc_auc_score(y_test, rf.predict(x_test))\n",
    "rf_fpr, rf_tpr, rf_thresholds = roc_curve(y_test, rf.predict_proba(x_test)[:,1])\n",
    "\n",
    "#ROC Curve for Random Forest & Logistic Regression\n",
    "plt.figure()\n",
    "plt.plot(fpr, tpr, label='Logistic Regression (area = %0.2f)' % log_roc_auc)\n",
    "plt.plot(rf_fpr, rf_tpr, label='Random Forest (area = %0.2f)' % rf_roc_auc)\n",
    "plt.plot([0, 1], [0, 1],'r--')\n",
    "plt.xlim([0.0, 1.0])\n",
    "plt.ylim([0.0, 1.05])\n",
    "plt.xlabel('False Positive Rate')\n",
    "plt.ylabel('True Positive Rate')\n",
    "plt.title('Receiver operating characteristic')\n",
    "plt.legend(loc=\"lower right\")\n",
    "plt.savefig('ROC_LR_RF')\n",
    "plt.show()"
   ]
  },
  {
   "cell_type": "code",
   "execution_count": null,
   "id": "0039648d-0261-4c20-9d8b-f25f1fd3363c",
   "metadata": {},
   "outputs": [
    {
     "data": {
      "image/png": "[encoded data removed]",
      "text/plain": [
       "<Figure size 432x288 with 1 Axes>"
      ]
     },
     "metadata": {
      "needs_background": "light"
     },
     "output_type": "display_data"
    }
   ],
   "source": [
    "#ROC for logistic regression\n",
    "knn_roc_auc = roc_auc_score(y_test, knn.predict(x_test))\n",
    "fpr, tpr, thresholds = roc_curve(y_test, knn.predict_proba(x_test)[:,1])\n",
    "\n",
    "#ROC for Random Forrest\n",
    "rf_roc_auc = roc_auc_score(y_test, rf.predict(x_test))\n",
    "rf_fpr, rf_tpr, rf_thresholds = roc_curve(y_test, rf.predict_proba(x_test)[:,1])\n",
    "\n",
    "#ROC Curve for Random Forest & Logistic Regression\n",
    "plt.figure()\n",
    "plt.plot(fpr, tpr, label='KNN (area = %0.2f)' % log_roc_auc)\n",
    "plt.plot(rf_fpr, rf_tpr, label='Random Forest (area = %0.2f)' % rf_roc_auc)\n",
    "plt.plot([0, 1], [0, 1],'r--')\n",
    "plt.xlim([0.0, 1.0])\n",
    "plt.ylim([0.0, 1.05])\n",
    "plt.xlabel('False Positive Rate')\n",
    "plt.ylabel('True Positive Rate')\n",
    "plt.title('Receiver operating characteristic')\n",
    "plt.legend(loc=\"lower right\")\n",
    "plt.savefig('ROC_KNN_RF')\n",
    "plt.show()"
   ]
  },
  {
   "cell_type": "markdown",
   "id": "004e87ef-be1a-4182-a959-1df75d380815",
   "metadata": {},
   "source": [
    "From the above ROC plots:the dotted line represents the ROC curve of a purely random classifier;  the model is definitely better than the no information reference point because it curves substantially above the diagonal line\n",
    "\n",
    "So my observation: \n",
    "- Random forest is fair to pridict employees turnover.\n",
    "\n"
   ]
  },
  {
   "cell_type": "markdown",
   "id": "7c8030e6-9fe7-4a7a-b00c-196d3e8a6d57",
   "metadata": {},
   "source": [
    "# Next is to determine Variable Imporatnce for Random Forest Classifier"
   ]
  },
  {
   "cell_type": "code",
   "execution_count": null,
   "id": "3882018d-bcac-42cd-aa2b-5a4f20324a23",
   "metadata": {},
   "outputs": [
    {
     "name": "stdout",
     "output_type": "stream",
     "text": [
      "promoted-0.37%\n",
      "bonus-1.27%\n",
      "salary-1.96%\n",
      "projects-2.01%\n",
      "dep_code-4.88%\n",
      "tenure-7.33%\n",
      "review-25.76%\n",
      "avg_hrs_month-26.83%\n",
      "satisfaction-29.58%\n"
     ]
    }
   ],
   "source": [
    "feature=np.array(columns)\n",
    "analysis_result=[]\n",
    "importance = rf.feature_importances_\n",
    "feature_indexes_by_importance = importance.argsort()\n",
    "for index in feature_indexes_by_importance:\n",
    "    print('{}-{:.2f}%'.format(feature[index], (importance[index] *100.0)))\n",
    "    analysis_result += ('{}-{:.2f}%'.format(feature[index], (importance[index] *100.0)))"
   ]
  },
  {
   "cell_type": "markdown",
   "id": "39f2b5de-2a17-40e0-a015-5ee4515394ce",
   "metadata": {},
   "source": [
    "We can see that random forest classifier predicts the most important factors. Here in descending order:\n",
    "\n",
    "    - satisfaction\n",
    "    - avg_hrs_month\n",
    "    - review\n",
    "    - department\n",
    "    - projects\n",
    "    - salary\n",
    "    - bonus\n",
    "    - promoted\n",
    "\n",
    "\n"
   ]
  },
  {
   "cell_type": "markdown",
   "id": "44abfc0c-6126-4edd-a556-feb95324c406",
   "metadata": {},
   "source": [
    "# Conclusion and recommendation"
   ]
  },
  {
   "cell_type": "markdown",
   "id": "e09d1353-9c23-4451-a628-f24d8ebdd53b",
   "metadata": {},
   "source": [
    "- We can see that 29% of employees are left. \n",
    "- IT, Logistics,retail departments are the top three having highest turnover in ascending order and Finance department has lowest turnover rate. \n",
    "- Random forest classifier is best predictive model.\n",
    "\n",
    "Based on my analysis I would recommend the following:\n",
    "- Campany should assess its employees satisfaction and do some measure.\n",
    "- Promotion length should be less than 24 months.\n",
    "- Do not take seriously employees composite evaluation score to promot them or to allow them to participate in projects.\n",
    "- Give appropriate bonus for all employees."
   ]
  },
  {
   "cell_type": "code",
   "execution_count": null,
   "id": "eea4ae47-256d-430f-976a-9428403e3e16",
   "metadata": {},
   "outputs": [],
   "source": []
  }
 ],
 "metadata": {
  "kernelspec": {
   "display_name": "Python 3 (ipykernel)",
   "language": "python",
   "name": "python3"
  },
  "language_info": {
   "codemirror_mode": {
    "name": "ipython",
    "version": 3
   },
   "file_extension": ".py",
   "mimetype": "text/x-python",
   "name": "python",
   "nbconvert_exporter": "python",
   "pygments_lexer": "ipython3",
   "version": "3.8.10"
  }
 },
 "nbformat": 4,
 "nbformat_minor": 5
}
